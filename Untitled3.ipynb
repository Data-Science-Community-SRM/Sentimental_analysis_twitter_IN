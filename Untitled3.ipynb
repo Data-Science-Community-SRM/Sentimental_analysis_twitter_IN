{
  "nbformat": 4,
  "nbformat_minor": 0,
  "metadata": {
    "colab": {
      "name": "Untitled3.ipynb",
      "provenance": [],
      "include_colab_link": true
    },
    "kernelspec": {
      "name": "python3",
      "display_name": "Python 3"
    }
  },
  "cells": [
    {
      "cell_type": "markdown",
      "metadata": {
        "id": "view-in-github",
        "colab_type": "text"
      },
      "source": [
        "<a href=\"https://colab.research.google.com/github/ShubhangiSoni1603/Sentimental_analysis_twitter_IN/blob/PreProces/Untitled3.ipynb\" target=\"_parent\"><img src=\"https://colab.research.google.com/assets/colab-badge.svg\" alt=\"Open In Colab\"/></a>"
      ]
    },
    {
      "cell_type": "code",
      "metadata": {
        "id": "0E7oDe1oK3Wc",
        "colab_type": "code",
        "outputId": "a30da20a-88fc-4ed9-ccbd-6e0c14e43aca",
        "colab": {
          "base_uri": "https://localhost:8080/",
          "height": 72
        }
      },
      "source": [
        "import numpy as np\n",
        "import pandas as pd\n",
        "import matplotlib.pyplot as plt\n",
        "import seaborn as sns\n",
        "import zipfile\n",
        "import os\n",
        "import json\n",
        "\n",
        "api_token = {\"username\":\"shubhangisoni\",\"key\":\"b9186a5ffa7ebe38a7c4bd8c48c12e4d\"}\n",
        " \n",
        "!mkdir /root/.kaggle\n",
        "\n",
        "with open('/root/.kaggle/kaggle.json', 'w') as file:\n",
        "    json.dump(api_token, file)\n",
        "    \n"
      ],
      "execution_count": 1,
      "outputs": [
        {
          "output_type": "stream",
          "text": [
            "/usr/local/lib/python3.6/dist-packages/statsmodels/tools/_testing.py:19: FutureWarning: pandas.util.testing is deprecated. Use the functions in the public API at pandas.testing instead.\n",
            "  import pandas.util.testing as tm\n"
          ],
          "name": "stderr"
        }
      ]
    },
    {
      "cell_type": "code",
      "metadata": {
        "id": "P13rxcqVPSBF",
        "colab_type": "code",
        "outputId": "f984f88e-9ce8-46e0-984c-a658f4e67021",
        "colab": {
          "base_uri": "https://localhost:8080/",
          "height": 70
        }
      },
      "source": [
        "!chmod 600 /root/.kaggle/kaggle.json\n",
        "!kaggle datasets download -d smid80/coronavirus-covid19-tweets-early-april"
      ],
      "execution_count": 2,
      "outputs": [
        {
          "output_type": "stream",
          "text": [
            "Downloading coronavirus-covid19-tweets-early-april.zip to /content\n",
            " 99% 1.30G/1.30G [00:12<00:00, 80.1MB/s]\n",
            "100% 1.30G/1.30G [00:12<00:00, 111MB/s] \n"
          ],
          "name": "stdout"
        }
      ]
    },
    {
      "cell_type": "code",
      "metadata": {
        "id": "_0xQaZesdXoo",
        "colab_type": "code",
        "colab": {}
      },
      "source": [
        "zip_ref = zipfile.ZipFile('coronavirus-covid19-tweets-early-april.zip', 'r')\n",
        "zip_ref.extractall()\n",
        "zip_ref.close()"
      ],
      "execution_count": 0,
      "outputs": []
    },
    {
      "cell_type": "markdown",
      "metadata": {
        "id": "xZL4TAEG4d7H",
        "colab_type": "text"
      },
      "source": [
        "###status_id\n",
        ">The ID of the actual Tweet.\n",
        "\n",
        "\n",
        "###user_id\n",
        ">The ID of the user account that Tweeted.\n",
        "\n",
        "\n",
        "###created_at\n",
        ">The date and time of the Tweet.\n",
        "\n",
        "\n",
        "###screen_name\n",
        ">The screen name of the account that Tweeted.\n",
        "\n",
        "###text\n",
        ">The text of the Tweet.\n",
        "\n",
        "###source\n",
        "```\n",
        "The type of app used.\n",
        "* Twitter for Android\n",
        "33%\n",
        "* Twitter for Android\n",
        "Twitter for iPhone\n",
        "26%\n",
        "* Other (231128)\n",
        "41%\n",
        "```\n",
        "\n",
        "###reply_to_status_id\n",
        ">The ID of the Tweet to which this was a reply.\n",
        "\n",
        "\n",
        "###reply_to_user_id\n",
        ">The ID of the user to whom this Tweet was a reply.\n",
        "\n",
        "\n",
        "###reply_to_screen_name\n",
        ">The screen name of the user to whom this Tweet was a reply.\n",
        "\n",
        "\n",
        "###is_quote\n",
        ">Whether this Tweet is a quote of another Tweet.\n",
        "\n",
        "\n",
        "###is_retweet\n",
        ">Whether this Tweet is a retweet.\n",
        "\n",
        "\n",
        "###favourites_count\n",
        ">The number of favourites this Tweet has received.\n",
        "\n",
        "###retweet_count\n",
        ">The number of times this Tweet has been retweeted.\n",
        "\n",
        "\n",
        "###country_code\n",
        ">The country code of the account that Tweeted.\n",
        "\n",
        "###place_full_name\n",
        ">The name of the place of the account that Tweeted.\n",
        "\n",
        "###place_type\n",
        ">A description of the type of place corresponding with place_full_name.\n",
        "\n",
        "\n",
        "###followers_count\n",
        ">The number of followers of the account that Tweeted.\n",
        "\n",
        "###friends_count\n",
        ">The number of friends of the account that Tweeted.\n",
        "\n",
        "###account_lang\n",
        ">The language of the account that Tweeted.\n",
        "\n",
        "###account_created_at\n",
        ">The date and time that the account that Tweeted was created.\n",
        "\n",
        "###verified\n",
        ">Whether the account that Tweeted is verified.\n",
        "\n",
        "###lang\n",
        ">The language of the Tweet."
      ]
    },
    {
      "cell_type": "code",
      "metadata": {
        "id": "ZmMUVIhU2Bu7",
        "colab_type": "code",
        "outputId": "33ccb4d3-3d24-4831-97e7-b5b40efd1c65",
        "colab": {
          "base_uri": "https://localhost:8080/",
          "height": 336
        }
      },
      "source": [
        "files = os.listdir()\n",
        "files = [i for i in files if \".CSV\" in i]\n",
        "files.sort()\n",
        "files"
      ],
      "execution_count": 4,
      "outputs": [
        {
          "output_type": "execute_result",
          "data": {
            "text/plain": [
              "['2020-03-29 Coronavirus Tweets.CSV',\n",
              " '2020-03-30 Coronavirus Tweets.CSV',\n",
              " '2020-03-31 Coronavirus Tweets.CSV',\n",
              " '2020-04-01 Coronavirus Tweets.CSV',\n",
              " '2020-04-02 Coronavirus Tweets.CSV',\n",
              " '2020-04-03 Coronavirus Tweets.CSV',\n",
              " '2020-04-04 Coronavirus Tweets.CSV',\n",
              " '2020-04-05 Coronavirus Tweets.CSV',\n",
              " '2020-04-06 Coronavirus Tweets.CSV',\n",
              " '2020-04-07 Coronavirus Tweets.CSV',\n",
              " '2020-04-08 Coronavirus Tweets.CSV',\n",
              " '2020-04-09 Coronavirus Tweets.CSV',\n",
              " '2020-04-10 Coronavirus Tweets.CSV',\n",
              " '2020-04-11 Coronavirus Tweets.CSV',\n",
              " '2020-04-12 Coronavirus Tweets.CSV',\n",
              " '2020-04-13 Coronavirus Tweets.CSV',\n",
              " '2020-04-14 Coronavirus Tweets.CSV',\n",
              " '2020-04-15 Coronavirus Tweets.CSV']"
            ]
          },
          "metadata": {
            "tags": []
          },
          "execution_count": 4
        }
      ]
    },
    {
      "cell_type": "code",
      "metadata": {
        "id": "wSEM0KJZD29q",
        "colab_type": "code",
        "colab": {}
      },
      "source": [
        "def readfiles(files):\n",
        "    dat = pd.read_csv(files[0])\n",
        "    dat = dat[dat['country_code'] == 'IN']\n",
        "    dat[\"day\"] = 1\n",
        "    for i in range(1, len(files)):\n",
        "        temp = pd.read_csv(files[i])\n",
        "        temp = temp[temp['country_code'] == 'IN']\n",
        "        temp[\"day\"] = i + 1\n",
        "        dat = pd.concat([dat,temp])\n",
        "        del(temp)\n",
        "    dat = dat.reset_index(drop=True)\n",
        "    return dat\n",
        "\n",
        "dat = readfiles(files)"
      ],
      "execution_count": 0,
      "outputs": []
    },
    {
      "cell_type": "code",
      "metadata": {
        "id": "RGmAJrHnfg7j",
        "colab_type": "code",
        "outputId": "f8f7f10e-bf1c-41b6-b5ee-4a2a52b06df8",
        "colab": {
          "base_uri": "https://localhost:8080/",
          "height": 230
        }
      },
      "source": [
        "dat[\"Month\"] = dat[\"created_at\"].apply(lambda x: int(x.split(\"T\")[0].split(\"-\")[1]))\n",
        "dat[\"time_of_tweet\"] = dat[\"day\"] + dat.created_at.apply(lambda x:((int(x.split(\"T\")[1].split(\":\")[0])+\n",
        "                                                                    int(x.split(\"T\")[1].split(\":\")[1])/60 +\n",
        "                                                                    int(x.split(\"T\")[1].split(\":\")[2][:2])/3600))/24)\n",
        "dat[\"time_of_tweet\"]"
      ],
      "execution_count": 6,
      "outputs": [
        {
          "output_type": "execute_result",
          "data": {
            "text/plain": [
              "0         1.002847\n",
              "1         1.003414\n",
              "2         1.005093\n",
              "3         1.006412\n",
              "4         1.007338\n",
              "           ...    \n",
              "40461    18.974907\n",
              "40462    18.976748\n",
              "40463    18.982512\n",
              "40464    18.983889\n",
              "40465    18.991574\n",
              "Name: time_of_tweet, Length: 40466, dtype: float64"
            ]
          },
          "metadata": {
            "tags": []
          },
          "execution_count": 6
        }
      ]
    },
    {
      "cell_type": "code",
      "metadata": {
        "id": "N5NhWgwyZ8mn",
        "colab_type": "code",
        "colab": {}
      },
      "source": [
        "def prep():\n",
        "    pass\n",
        "\n"
      ],
      "execution_count": 0,
      "outputs": []
    },
    {
      "cell_type": "code",
      "metadata": {
        "id": "HSSppBJeEIGc",
        "colab_type": "code",
        "outputId": "d9e7d3b5-1ea9-49f1-afc6-e01caa73a018",
        "colab": {
          "base_uri": "https://localhost:8080/",
          "height": 352
        }
      },
      "source": [
        "#dat[\"place_full_name\"].apply(lambda x: x.split(\",\")[0])\n",
        "fig = plt.figure(figsize=(15,5))\n",
        "\n",
        "sns.distplot(dat[\"time_of_tweet\"],bins = 18*3)"
      ],
      "execution_count": 7,
      "outputs": [
        {
          "output_type": "execute_result",
          "data": {
            "text/plain": [
              "<matplotlib.axes._subplots.AxesSubplot at 0x7fe260a75898>"
            ]
          },
          "metadata": {
            "tags": []
          },
          "execution_count": 7
        },
        {
          "output_type": "display_data",
          "data": {
            "image/png": "[encoded data removed]",
            "text/plain": [
              "<Figure size 1080x360 with 1 Axes>"
            ]
          },
          "metadata": {
            "tags": [],
            "needs_background": "light"
          }
        }
      ]
    },
    {
      "cell_type": "code",
      "metadata": {
        "id": "_TpuK-BdrUnI",
        "colab_type": "code",
        "outputId": "451385a4-c63f-4dd3-e64a-ea9496544dce",
        "colab": {
          "base_uri": "https://localhost:8080/",
          "height": 334
        }
      },
      "source": [
        "fig = plt.figure(figsize=(15,5))\n",
        "day8tweets = dat[dat[\"day\"] == 8][\"time_of_tweet\"]\n",
        "xticks =np.arange(min(day8tweets),max(day8tweets),0.1) \n",
        "x = ((xticks - 8)*24).astype(\"int8\")\n",
        "plt.xticks(xticks,x)\n",
        "sns.distplot(day8tweets,bins = 24)\n",
        "plt.show()\n"
      ],
      "execution_count": 8,
      "outputs": [
        {
          "output_type": "display_data",
          "data": {
            "image/png": "[encoded data removed]",
            "text/plain": [
              "<Figure size 1080x360 with 1 Axes>"
            ]
          },
          "metadata": {
            "tags": [],
            "needs_background": "light"
          }
        }
      ]
    },
    {
      "cell_type": "code",
      "metadata": {
        "id": "ghqKqOVOiGmc",
        "colab_type": "code",
        "outputId": "5c4b857e-4ea5-475c-9faf-0dc34e871d0e",
        "colab": {
          "base_uri": "https://localhost:8080/",
          "height": 230
        }
      },
      "source": [
        "###status_id\n",
        "#people = dat.groupby([\"screen_name\",\"user_id\",\"followers_count\",\"friends_count\",\"verified\"])\n",
        "people = dat[\"screen_name\"].value_counts()\n",
        "people"
      ],
      "execution_count": 47,
      "outputs": [
        {
          "output_type": "execute_result",
          "data": {
            "text/plain": [
              "vishalsingh_BJP    221\n",
              "SakalMediaNews     189\n",
              "sakaltimes         115\n",
              "Devendr25548299    108\n",
              "BTVI               108\n",
              "                  ... \n",
              "samanaveenredd3      1\n",
              "Elizabeth_Chen       1\n",
              "Raghu1551            1\n",
              "Pravin_Psyche        1\n",
              "srinivasch09         1\n",
              "Name: screen_name, Length: 18705, dtype: int64"
            ]
          },
          "metadata": {
            "tags": []
          },
          "execution_count": 47
        }
      ]
    },
    {
      "cell_type": "code",
      "metadata": {
        "id": "laQ2epiDZP_-",
        "colab_type": "code",
        "colab": {
          "base_uri": "https://localhost:8080/",
          "height": 317
        },
        "outputId": "9d8a50de-7e36-4762-d472-cdd404e0d87c"
      },
      "source": [
        "highest_user = dat[dat[\"screen_name\"] == 'vishalsingh_BJP']\n",
        "plt.plot(highest_user['time_of_tweet'], highest_user[\"followers_count\"])\n",
        "plt.show()\n",
        "print(highest_user[\"followers_count\"].mean())\n",
        "FollowerCount = highest_user[\"followers_count\"]\n",
        "tweetTime = highest_user['time_of_tweet']\n",
        "followmin = FollowerCount.min()\n",
        "followmax = FollowerCount.max()\n",
        "tmax = tweetTime[FollowerCount == followmax].iloc[0]\n",
        "tmin = tweetTime[FollowerCount == followmin].iloc[0]\n",
        "dx = followmax - followmin\n",
        "dt = tmax - tmin\n",
        "print(dx,dt,FollowerCount.std())\n",
        "tmax,tmin,followmax,followmin"
      ],
      "execution_count": 62,
      "outputs": [
        {
          "output_type": "display_data",
          "data": {
            "image/png": "[encoded data removed]",
            "text/plain": [
              "<Figure size 432x288 with 1 Axes>"
            ]
          },
          "metadata": {
            "tags": [],
            "needs_background": "light"
          }
        },
        {
          "output_type": "stream",
          "text": [
            "421.1221719457014\n",
            "17 14.734039351851852 5.908276689782527\n"
          ],
          "name": "stdout"
        },
        {
          "output_type": "execute_result",
          "data": {
            "text/plain": [
              "(16.282395833333332, 1.5483564814814814, 431, 414)"
            ]
          },
          "metadata": {
            "tags": []
          },
          "execution_count": 62
        }
      ]
    },
    {
      "cell_type": "code",
      "metadata": {
        "id": "K5XT-EIQEWwg",
        "colab_type": "code",
        "outputId": "764eaa4f-3d3a-4eee-b161-6279427871cc",
        "colab": {
          "base_uri": "https://localhost:8080/",
          "height": 167
        }
      },
      "source": [
        "()d1.country_code.value_counts()"
      ],
      "execution_count": 0,
      "outputs": [
        {
          "output_type": "error",
          "ename": "NameError",
          "evalue": "ignored",
          "traceback": [
            "\u001b[0;31m---------------------------------------------------------------------------\u001b[0m",
            "\u001b[0;31mNameError\u001b[0m                                 Traceback (most recent call last)",
            "\u001b[0;32m<ipython-input-64-c2ed969b6370>\u001b[0m in \u001b[0;36m<module>\u001b[0;34m()\u001b[0m\n\u001b[0;32m----> 1\u001b[0;31m \u001b[0md1\u001b[0m\u001b[0;34m.\u001b[0m\u001b[0mcountry_code\u001b[0m\u001b[0;34m.\u001b[0m\u001b[0mvalue_counts\u001b[0m\u001b[0;34m(\u001b[0m\u001b[0;34m)\u001b[0m\u001b[0;34m\u001b[0m\u001b[0;34m\u001b[0m\u001b[0m\n\u001b[0m",
            "\u001b[0;31mNameError\u001b[0m: name 'd1' is not defined"
          ]
        }
      ]
    },
    {
      "cell_type": "code",
      "metadata": {
        "id": "M1CENj9dH_bP",
        "colab_type": "code",
        "colab": {}
      },
      "source": [
        "d2=pd.read_csv(files[15])\n",
        "d2.country_code.value_counts()"
      ],
      "execution_count": 0,
      "outputs": []
    },
    {
      "cell_type": "code",
      "metadata": {
        "id": "Rvms2dvhJ2Ao",
        "colab_type": "code",
        "outputId": "5a3d2c9b-5aa6-415a-b0e0-638acabdd2ea",
        "colab": {
          "base_uri": "https://localhost:8080/",
          "height": 52
        }
      },
      "source": [
        "countries=d1.country_code.unique()\n",
        "d1=d1[d1['country_code'] == 'IN']\n",
        "d1.country_code.value_counts()\n"
      ],
      "execution_count": 0,
      "outputs": [
        {
          "output_type": "execute_result",
          "data": {
            "text/plain": [
              "IN    2555\n",
              "Name: country_code, dtype: int64"
            ]
          },
          "metadata": {
            "tags": []
          },
          "execution_count": 16
        }
      ]
    },
    {
      "cell_type": "code",
      "metadata": {
        "id": "t5Bd0-HVjcNM",
        "colab_type": "code",
        "outputId": "fc066398-c875-40fe-d51f-b16a555e91c6",
        "colab": {
          "base_uri": "https://localhost:8080/",
          "height": 260
        }
      },
      "source": [
        "d1.head"
      ],
      "execution_count": 0,
      "outputs": [
        {
          "output_type": "execute_result",
          "data": {
            "text/plain": [
              "<bound method NDFrame.head of                   status_id              user_id  ... lang timeOfTweet\n",
              "2432    1244777731256201217           3281596603  ...   hi    0.086667\n",
              "5317    1244779747575353344            131807868  ...   en    0.220278\n",
              "5700    1244780043647082497  1039734733205393411  ...   en    0.239722\n",
              "7003    1244780999570948097  1214126069319491587  ...   en    0.303056\n",
              "7636    1244781449737355264           2996014381  ...   en    0.333056\n",
              "...                     ...                  ...  ...  ...         ...\n",
              "652233  1245126763258302465   807951707464343553  ...   bn   23.202222\n",
              "653204  1245127425014534146   889718907946381312  ...   hi   23.246111\n",
              "661143  1245132513019748353   941635228832952320  ...   en   23.583056\n",
              "667192  1245136694258491392            566101087  ...   en   23.860000\n",
              "667916  1245137290743054336   790869804244541441  ...   en   23.899444\n",
              "\n",
              "[2555 rows x 23 columns]>"
            ]
          },
          "metadata": {
            "tags": []
          },
          "execution_count": 17
        }
      ]
    },
    {
      "cell_type": "code",
      "metadata": {
        "id": "senlWOj-loCp",
        "colab_type": "code",
        "colab": {}
      },
      "source": [
        "#Data Preprocessing and Feature Engineering\n",
        "from textblob import TextBlob\n",
        "import re\n",
        "from nltk.corpus import stopwords\n",
        "from nltk.stem.wordnet import WordNetLemmatizer\n",
        "from sklearn.feature_extraction.text import CountVectorizer, TfidfTransformer\n"
      ],
      "execution_count": 0,
      "outputs": []
    },
    {
      "cell_type": "code",
      "metadata": {
        "id": "WLAQRP4wzaSb",
        "colab_type": "code",
        "colab": {}
      },
      "source": [
        "rdf = d1[d1['country_code']=='IN'] "
      ],
      "execution_count": 0,
      "outputs": []
    },
    {
      "cell_type": "code",
      "metadata": {
        "id": "z47Z1UgXwyDd",
        "colab_type": "code",
        "outputId": "068e93e1-37f5-48e7-8825-8803026ac1c6",
        "colab": {
          "base_uri": "https://localhost:8080/",
          "height": 35
        }
      },
      "source": [
        "rdf.shape"
      ],
      "execution_count": 0,
      "outputs": [
        {
          "output_type": "execute_result",
          "data": {
            "text/plain": [
              "(2555, 22)"
            ]
          },
          "metadata": {
            "tags": []
          },
          "execution_count": 42
        }
      ]
    },
    {
      "cell_type": "code",
      "metadata": {
        "id": "B3rLl_A2yCU_",
        "colab_type": "code",
        "outputId": "54c23f2a-f479-481a-96dc-1e501045b474",
        "colab": {
          "base_uri": "https://localhost:8080/",
          "height": 520
        }
      },
      "source": [
        "rdf.info()"
      ],
      "execution_count": 0,
      "outputs": [
        {
          "output_type": "stream",
          "text": [
            "<class 'pandas.core.frame.DataFrame'>\n",
            "Int64Index: 2555 entries, 2432 to 667916\n",
            "Data columns (total 22 columns):\n",
            " #   Column                Non-Null Count  Dtype  \n",
            "---  ------                --------------  -----  \n",
            " 0   status_id             2555 non-null   int64  \n",
            " 1   user_id               2555 non-null   int64  \n",
            " 2   created_at            2555 non-null   object \n",
            " 3   screen_name           2555 non-null   object \n",
            " 4   text                  2555 non-null   object \n",
            " 5   source                2555 non-null   object \n",
            " 6   reply_to_status_id    311 non-null    float64\n",
            " 7   reply_to_user_id      437 non-null    float64\n",
            " 8   reply_to_screen_name  437 non-null    object \n",
            " 9   is_quote              2555 non-null   bool   \n",
            " 10  is_retweet            2555 non-null   bool   \n",
            " 11  favourites_count      2555 non-null   int64  \n",
            " 12  retweet_count         2555 non-null   int64  \n",
            " 13  country_code          2555 non-null   object \n",
            " 14  place_full_name       2555 non-null   object \n",
            " 15  place_type            2555 non-null   object \n",
            " 16  followers_count       2555 non-null   int64  \n",
            " 17  friends_count         2555 non-null   int64  \n",
            " 18  account_lang          0 non-null      float64\n",
            " 19  account_created_at    2555 non-null   object \n",
            " 20  verified              2555 non-null   bool   \n",
            " 21  lang                  2555 non-null   object \n",
            "dtypes: bool(3), float64(3), int64(6), object(10)\n",
            "memory usage: 406.7+ KB\n"
          ],
          "name": "stdout"
        }
      ]
    },
    {
      "cell_type": "code",
      "metadata": {
        "id": "nsRLW8m10M5g",
        "colab_type": "code",
        "colab": {}
      },
      "source": [
        ""
      ],
      "execution_count": 0,
      "outputs": []
    }
  ]
}