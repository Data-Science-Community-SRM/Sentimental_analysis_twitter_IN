{
  "nbformat": 4,
  "nbformat_minor": 0,
  "metadata": {
    "colab": {
      "name": "Untitled3.ipynb",
      "provenance": [],
      "include_colab_link": true
    },
    "kernelspec": {
      "name": "python3",
      "display_name": "Python 3"
    }
  },
  "cells": [
    {
      "cell_type": "markdown",
      "metadata": {
        "id": "view-in-github",
        "colab_type": "text"
      },
      "source": [
        "<a href=\"https://colab.research.google.com/github/ShubhangiSoni1603/Sentimental_analysis_twitter_IN/blob/PreProces/Untitled3.ipynb\" target=\"_parent\"><img src=\"https://colab.research.google.com/assets/colab-badge.svg\" alt=\"Open In Colab\"/></a>"
      ]
    },
    {
      "cell_type": "code",
      "metadata": {
        "id": "0E7oDe1oK3Wc",
        "colab_type": "code",
        "outputId": "71b32a7a-ee68-4bc0-efab-a1b8b7e9651f",
        "colab": {
          "base_uri": "https://localhost:8080/",
          "height": 33
        }
      },
      "source": [
        "# imports and set AUTH\n",
        "import numpy as np\n",
        "import pandas as pd\n",
        "import matplotlib.pyplot as plt\n",
        "import seaborn as sns\n",
        "import zipfile\n",
        "import os\n",
        "import json\n",
        "\n",
        "api_token = {\"username\":\"shubhangisoni\",\"key\":\"b9186a5ffa7ebe38a7c4bd8c48c12e4d\"}\n",
        " \n",
        "!mkdir /root/.kaggle\n",
        "\n",
        "with open('/root/.kaggle/kaggle.json', 'w') as file:\n",
        "    json.dump(api_token, file)\n"
      ],
      "execution_count": 56,
      "outputs": [
        {
          "output_type": "stream",
          "text": [
            "mkdir: cannot create directory ‘/root/.kaggle’: File exists\n"
          ],
          "name": "stdout"
        }
      ]
    },
    {
      "cell_type": "code",
      "metadata": {
        "id": "P13rxcqVPSBF",
        "colab_type": "code",
        "outputId": "7fb14b0f-e614-4dd8-f61b-2aebcdf182e9",
        "colab": {
          "base_uri": "https://localhost:8080/",
          "height": 116
        }
      },
      "source": [
        "# Download Files\n",
        "!chmod 600 /root/.kaggle/kaggle.json\n",
        "!kaggle datasets download -d smid80/coronavirus-covid19-tweets-early-april\n",
        "!kaggle datasets download -d smid80/coronavirus-covid19-tweets-late-april"
      ],
      "execution_count": 2,
      "outputs": [
        {
          "output_type": "stream",
          "text": [
            "Downloading coronavirus-covid19-tweets-early-april.zip to /content\n",
            " 99% 1.29G/1.30G [00:10<00:00, 124MB/s]\n",
            "100% 1.30G/1.30G [00:10<00:00, 132MB/s]\n",
            "Downloading coronavirus-covid19-tweets-late-april.zip to /content\n",
            " 98% 929M/946M [00:07<00:00, 140MB/s]\n",
            "100% 946M/946M [00:07<00:00, 125MB/s]\n"
          ],
          "name": "stdout"
        }
      ]
    },
    {
      "cell_type": "code",
      "metadata": {
        "id": "YXHFGN1YlyoE",
        "colab_type": "code",
        "outputId": "fa5eed5d-8d60-45ac-8154-1b719a7ce9e3",
        "colab": {
          "base_uri": "https://localhost:8080/",
          "height": 83
        }
      },
      "source": [
        "os.listdir()"
      ],
      "execution_count": 3,
      "outputs": [
        {
          "output_type": "execute_result",
          "data": {
            "text/plain": [
              "['.config',\n",
              " 'coronavirus-covid19-tweets-early-april.zip',\n",
              " 'coronavirus-covid19-tweets-late-april.zip',\n",
              " 'sample_data']"
            ]
          },
          "metadata": {
            "tags": []
          },
          "execution_count": 3
        }
      ]
    },
    {
      "cell_type": "code",
      "metadata": {
        "id": "_0xQaZesdXoo",
        "colab_type": "code",
        "outputId": "869464dc-7579-49db-cdbb-00dc248d4ef3",
        "colab": {
          "base_uri": "https://localhost:8080/",
          "height": 50
        }
      },
      "source": [
        "# Extracts info from files\n",
        "zip_ref = zipfile.ZipFile('coronavirus-covid19-tweets-early-april.zip', 'r')\n",
        "zip_ref.extractall()\n",
        "zip_ref.close()\n",
        "print(\"Extracted file 1\")\n",
        "zip_ref = zipfile.ZipFile(\"coronavirus-covid19-tweets-late-april.zip\",\"r\")\n",
        "zip_ref.extractall()\n",
        "zip_ref.close()\n",
        "print(\"Extracted file 2\")"
      ],
      "execution_count": 4,
      "outputs": [
        {
          "output_type": "stream",
          "text": [
            "Extracted file 1\n",
            "Extracted file 2\n"
          ],
          "name": "stdout"
        }
      ]
    },
    {
      "cell_type": "markdown",
      "metadata": {
        "id": "xZL4TAEG4d7H",
        "colab_type": "text"
      },
      "source": [
        "# Columns\n",
        "###status_id\n",
        ">The ID of the actual Tweet.\n",
        "\n",
        "\n",
        "###user_id\n",
        ">The ID of the user account that Tweeted.\n",
        "\n",
        "\n",
        "###created_at\n",
        ">The date and time of the Tweet.\n",
        "\n",
        "\n",
        "###screen_name\n",
        ">The screen name of the account that Tweeted.\n",
        "\n",
        "###text\n",
        ">The text of the Tweet.\n",
        "\n",
        "###source\n",
        ">The type of app used.\n",
        "\n",
        "###reply_to_status_id\n",
        ">The ID of the Tweet to which this was a reply.\n",
        "\n",
        "\n",
        "###reply_to_user_id\n",
        ">The ID of the user to whom this Tweet was a reply.\n",
        "\n",
        "\n",
        "###reply_to_screen_name\n",
        ">The screen name of the user to whom this Tweet was a reply.\n",
        "\n",
        "\n",
        "###is_quote\n",
        ">Whether this Tweet is a quote of another Tweet.\n",
        "\n",
        "\n",
        "###is_retweet\n",
        ">Whether this Tweet is a retweet.\n",
        "\n",
        "\n",
        "###favourites_count\n",
        ">The number of favourites this Tweet has received.\n",
        "\n",
        "###retweet_count\n",
        ">The number of times this Tweet has been retweeted.\n",
        "\n",
        "\n",
        "###country_code\n",
        ">The country code of the account that Tweeted.\n",
        "\n",
        "###place_full_name\n",
        ">The name of the place of the account that Tweeted.\n",
        "\n",
        "###place_type\n",
        ">A description of the type of place corresponding with place_full_name.\n",
        "\n",
        "\n",
        "###followers_count\n",
        ">The number of followers of the account that Tweeted.\n",
        "\n",
        "###friends_count\n",
        ">The number of friends of the account that Tweeted.\n",
        "\n",
        "###account_lang\n",
        ">The language of the account that Tweeted.\n",
        "\n",
        "###account_created_at\n",
        ">The date and time that the account that Tweeted was created.\n",
        "\n",
        "###verified\n",
        ">Whether the account that Tweeted is verified.\n",
        "\n",
        "###lang\n",
        ">The language of the Tweet."
      ]
    },
    {
      "cell_type": "code",
      "metadata": {
        "id": "ZmMUVIhU2Bu7",
        "colab_type": "code",
        "outputId": "93ca738b-f0bb-47f2-aca2-63da543a5bc8",
        "colab": {
          "base_uri": "https://localhost:8080/",
          "height": 33
        }
      },
      "source": [
        "# Get name of all file in \n",
        "files = os.listdir()\n",
        "files = [i for i in files if \".CSV\" in i]\n",
        "files.sort()\n",
        "str(len(files)) + \" files were found\""
      ],
      "execution_count": 57,
      "outputs": [
        {
          "output_type": "execute_result",
          "data": {
            "text/plain": [
              "'33 files were found'"
            ]
          },
          "metadata": {
            "tags": []
          },
          "execution_count": 57
        }
      ]
    },
    {
      "cell_type": "code",
      "metadata": {
        "id": "wSEM0KJZD29q",
        "colab_type": "code",
        "colab": {}
      },
      "source": [
        "# Extract data from files of Indian users\n",
        "def readfiles(files):\n",
        "    dat = pd.read_csv(files[0])\n",
        "    dat = dat[dat['country_code'] == 'IN']\n",
        "    dat[\"day\"] = 1\n",
        "    for i in range(1, len(files)):\n",
        "        temp = pd.read_csv(files[i])\n",
        "        temp = temp[temp['country_code'] == 'IN']\n",
        "        temp[\"day\"] = i + 1\n",
        "        dat = pd.concat([dat,temp])\n",
        "        del(temp)\n",
        "    dat = dat.reset_index(drop=True)\n",
        "    return dat\n",
        "\n",
        "dat = readfiles(files)"
      ],
      "execution_count": 0,
      "outputs": []
    },
    {
      "cell_type": "code",
      "metadata": {
        "id": "x1frHth5WyH5",
        "colab_type": "code",
        "outputId": "c4bbd018-b56a-4ca6-f0ee-b75fbb98e6b2",
        "colab": {
          "base_uri": "https://localhost:8080/",
          "height": 516
        }
      },
      "source": [
        "# View counts and judge data. We find missing values\n",
        "dat.info()"
      ],
      "execution_count": 132,
      "outputs": [
        {
          "output_type": "stream",
          "text": [
            "<class 'pandas.core.frame.DataFrame'>\n",
            "RangeIndex: 70696 entries, 0 to 70695\n",
            "Data columns (total 23 columns):\n",
            " #   Column                Non-Null Count  Dtype  \n",
            "---  ------                --------------  -----  \n",
            " 0   status_id             70696 non-null  int64  \n",
            " 1   user_id               70696 non-null  int64  \n",
            " 2   created_at            70696 non-null  object \n",
            " 3   screen_name           70696 non-null  object \n",
            " 4   text                  70696 non-null  object \n",
            " 5   source                70696 non-null  object \n",
            " 6   reply_to_status_id    7622 non-null   float64\n",
            " 7   reply_to_user_id      10788 non-null  float64\n",
            " 8   reply_to_screen_name  10788 non-null  object \n",
            " 9   is_quote              70696 non-null  bool   \n",
            " 10  is_retweet            70696 non-null  bool   \n",
            " 11  favourites_count      70696 non-null  int64  \n",
            " 12  retweet_count         70696 non-null  int64  \n",
            " 13  country_code          70696 non-null  object \n",
            " 14  place_full_name       70696 non-null  object \n",
            " 15  place_type            70696 non-null  object \n",
            " 16  followers_count       70696 non-null  int64  \n",
            " 17  friends_count         70696 non-null  int64  \n",
            " 18  account_lang          0 non-null      float64\n",
            " 19  account_created_at    70696 non-null  object \n",
            " 20  verified              70696 non-null  bool   \n",
            " 21  lang                  70696 non-null  object \n",
            " 22  day                   70696 non-null  int64  \n",
            "dtypes: bool(3), float64(3), int64(7), object(10)\n",
            "memory usage: 11.0+ MB\n"
          ],
          "name": "stdout"
        }
      ]
    },
    {
      "cell_type": "code",
      "metadata": {
        "id": "REOjQdj6Xhe8",
        "colab_type": "code",
        "outputId": "2fb0fa52-ecab-4fec-9db3-3d7a82341264",
        "colab": {
          "base_uri": "https://localhost:8080/",
          "height": 216
        }
      },
      "source": [
        "dat[\"reply_to_screen_name\"].value_counts()"
      ],
      "execution_count": 133,
      "outputs": [
        {
          "output_type": "execute_result",
          "data": {
            "text/plain": [
              "narendramodi      686\n",
              "PMOIndia          226\n",
              "ANI                83\n",
              "RahulGandhi        76\n",
              "aajtak             75\n",
              "                 ... \n",
              "desimojito          1\n",
              "Mark2Kali_          1\n",
              "tirupatipolice      1\n",
              "DrRKSOfficial       1\n",
              "phoenix1908         1\n",
              "Name: reply_to_screen_name, Length: 4964, dtype: int64"
            ]
          },
          "metadata": {
            "tags": []
          },
          "execution_count": 133
        }
      ]
    },
    {
      "cell_type": "markdown",
      "metadata": {
        "id": "f05AkaT5d898",
        "colab_type": "text"
      },
      "source": [
        "<em style=\"color:red;\">10788 Users have mentioned a account in their tweers while only 7622 tweets are replies to other tweets.</em>\n"
      ]
    },
    {
      "cell_type": "code",
      "metadata": {
        "id": "w_LeeXIBgcWE",
        "colab_type": "code",
        "outputId": "6ce73247-6679-4db2-c962-d7a797e4fcde",
        "colab": {
          "base_uri": "https://localhost:8080/",
          "height": 216
        }
      },
      "source": [
        "# these are string objects must be converted into time\n",
        "dat[\"created_at\"] = pd.to_datetime(dat[\"created_at\"])\n",
        "dat[\"account_created_at\"] = pd.to_datetime(dat[\"account_created_at\"])\n",
        "dat[\"created_at\"]"
      ],
      "execution_count": 134,
      "outputs": [
        {
          "output_type": "execute_result",
          "data": {
            "text/plain": [
              "0       2020-03-29 00:04:06+00:00\n",
              "1       2020-03-29 00:04:55+00:00\n",
              "2       2020-03-29 00:07:20+00:00\n",
              "3       2020-03-29 00:09:14+00:00\n",
              "4       2020-03-29 00:10:34+00:00\n",
              "                   ...           \n",
              "70691   2020-04-30 23:41:17+00:00\n",
              "70692   2020-04-30 23:45:20+00:00\n",
              "70693   2020-04-30 23:46:25+00:00\n",
              "70694   2020-04-30 23:50:12+00:00\n",
              "70695   2020-04-30 23:52:09+00:00\n",
              "Name: created_at, Length: 70696, dtype: datetime64[ns, UTC]"
            ]
          },
          "metadata": {
            "tags": []
          },
          "execution_count": 134
        }
      ]
    },
    {
      "cell_type": "code",
      "metadata": {
        "id": "SrM5CnE7hBLr",
        "colab_type": "code",
        "outputId": "3fd78658-2abc-4778-f4d1-d99f9a8c18f2",
        "colab": {
          "base_uri": "https://localhost:8080/",
          "height": 310
        }
      },
      "source": [
        "# we can plot this to find the most number of tweets\n",
        "fig = plt.figure(figsize=(25,5))\n",
        "plt.hist(dat[\"created_at\"], bins = 33 * 5) # becasue 33 days\n",
        "plt.show()"
      ],
      "execution_count": 135,
      "outputs": [
        {
          "output_type": "display_data",
          "data": {
            "image/png": "[encoded data removed]",
            "text/plain": [
              "<Figure size 1800x360 with 1 Axes>"
            ]
          },
          "metadata": {
            "tags": []
          }
        }
      ]
    },
    {
      "cell_type": "markdown",
      "metadata": {
        "id": "c_eM4S1dtNA2",
        "colab_type": "text"
      },
      "source": [
        "<em> tweets are higher at the start of the day. Day 8 has a peak of tweets. They somewhat decrease around 13th of april\n",
        "and Increse again on 19th."
      ]
    },
    {
      "cell_type": "code",
      "metadata": {
        "id": "uPsXr77TiOnW",
        "colab_type": "code",
        "outputId": "26606f2b-c3e8-4c62-f514-e8b3b4660fe3",
        "colab": {
          "base_uri": "https://localhost:8080/",
          "height": 583
        }
      },
      "source": [
        "daily_counts = dat[\"day\"].value_counts()\n",
        "daily_counts/daily_counts.sum()*100"
      ],
      "execution_count": 136,
      "outputs": [
        {
          "output_type": "execute_result",
          "data": {
            "text/plain": [
              "8     5.752801\n",
              "19    3.980423\n",
              "3     3.614066\n",
              "9     3.614066\n",
              "10    3.580118\n",
              "20    3.571631\n",
              "1     3.536268\n",
              "21    3.495247\n",
              "7     3.352382\n",
              "12    3.181227\n",
              "17    3.154351\n",
              "29    3.114745\n",
              "2     3.102014\n",
              "13    3.079382\n",
              "22    3.068066\n",
              "27    3.028460\n",
              "6     2.964807\n",
              "28    2.949247\n",
              "18    2.878522\n",
              "30    2.877108\n",
              "4     2.861548\n",
              "11    2.853061\n",
              "5     2.763947\n",
              "25    2.618253\n",
              "14    2.587134\n",
              "26    2.472559\n",
              "31    2.447097\n",
              "23    2.376372\n",
              "24    2.365056\n",
              "32    2.241994\n",
              "16    2.203802\n",
              "15    2.159952\n",
              "33    2.154294\n",
              "Name: day, dtype: float64"
            ]
          },
          "metadata": {
            "tags": []
          },
          "execution_count": 136
        }
      ]
    },
    {
      "cell_type": "markdown",
      "metadata": {
        "id": "zPXt2XEvjdER",
        "colab_type": "text"
      },
      "source": [
        "<em> Day 8 consists of 5.75% of the dataset, followed by day 19 with only 3.98%\n",
        "\n",
        "</em>"
      ]
    },
    {
      "cell_type": "code",
      "metadata": {
        "id": "DrfOfBRHWDJR",
        "colab_type": "code",
        "colab": {
          "base_uri": "https://localhost:8080/",
          "height": 312
        },
        "outputId": "933a22a7-1536-4e13-a9d9-72a8db22f8cf"
      },
      "source": [
        "fig = plt.figure(figsize=(25,5))\n",
        "plt.hist(dat[\"account_created_at\"], bins = 13*10) # becasue 33 days\n",
        "plt.show()"
      ],
      "execution_count": 68,
      "outputs": [
        {
          "output_type": "display_data",
          "data": {
            "image/png": "[encoded data removed]",
            "text/plain": [
              "<Figure size 1800x360 with 1 Axes>"
            ]
          },
          "metadata": {
            "tags": []
          }
        }
      ]
    },
    {
      "cell_type": "markdown",
      "metadata": {
        "id": "5LOBzjkVZUJE",
        "colab_type": "text"
      },
      "source": [
        "<em> There is a rise of new accounts created in 2010 because of the changes made back then.\n",
        "you can read more about it here\n",
        "https://buffer.com/resources/how-twitter-evolved-from-2006-to-2011\n",
        "\n",
        "there is also a significant rise in 2020 which shows that people are now joining twitter to share their views about the virus\n",
        "\n",
        "\n",
        "accounts made earlier from 2008 to 2010 post nearly nothing about the virus"
      ]
    },
    {
      "cell_type": "code",
      "metadata": {
        "id": "2WA2HaGwngbc",
        "colab_type": "code",
        "outputId": "f7238de0-7bb5-48bd-f19b-ffb7f6b465bb",
        "colab": {
          "base_uri": "https://localhost:8080/",
          "height": 247
        }
      },
      "source": [
        "sns.set_style(\"white\")\n",
        "plt.pie(dat[\"verified\"].value_counts(),labels = [\"Non-Verfied\", \"Verified\"],explode = (0.05,0.05),  autopct='%1.1f%%',colors = ['#ff9999','#66b3ff'])\n",
        "plt.show()\n",
        "# only 4% of the users have verified accounts"
      ],
      "execution_count": 137,
      "outputs": [
        {
          "output_type": "display_data",
          "data": {
            "image/png": "[encoded data removed]",
            "text/plain": [
              "<Figure size 432x288 with 1 Axes>"
            ]
          },
          "metadata": {
            "tags": []
          }
        }
      ]
    },
    {
      "cell_type": "code",
      "metadata": {
        "id": "Vp0hGLqnt_8Z",
        "colab_type": "code",
        "outputId": "f64b7d0e-7567-4953-9e55-a4aeff09f4d1",
        "colab": {
          "base_uri": "https://localhost:8080/",
          "height": 308
        }
      },
      "source": [
        "languagespoken = dat[\"lang\"].value_counts()\n",
        "fig = plt.figure(figsize=(25,5))\n",
        "plt.plot(languagespoken)\n",
        "plt.show()"
      ],
      "execution_count": 138,
      "outputs": [
        {
          "output_type": "display_data",
          "data": {
            "image/png": "[encoded data removed]",
            "text/plain": [
              "<Figure size 1800x360 with 1 Axes>"
            ]
          },
          "metadata": {
            "tags": []
          }
        }
      ]
    },
    {
      "cell_type": "code",
      "metadata": {
        "id": "hfSpq6m9CyiA",
        "colab_type": "code",
        "colab": {
          "base_uri": "https://localhost:8080/",
          "height": 166
        },
        "outputId": "f010c729-b3bc-4789-8624-b7d655e377cc"
      },
      "source": [
        "top8langs = (languagespoken/languagespoken.sum()*100).head(8)\n",
        "top8langs"
      ],
      "execution_count": 139,
      "outputs": [
        {
          "output_type": "execute_result",
          "data": {
            "text/plain": [
              "en     58.868960\n",
              "hi     21.825846\n",
              "und    10.744597\n",
              "mr      2.281600\n",
              "ta      1.241937\n",
              "in      0.827487\n",
              "gu      0.620969\n",
              "te      0.479518\n",
              "Name: lang, dtype: float64"
            ]
          },
          "metadata": {
            "tags": []
          },
          "execution_count": 139
        }
      ]
    },
    {
      "cell_type": "code",
      "metadata": {
        "id": "XpoJjY1uCgJN",
        "colab_type": "code",
        "outputId": "eb7d327c-c021-477d-98a4-c1cf4efe1de4",
        "colab": {
          "base_uri": "https://localhost:8080/",
          "height": 33
        }
      },
      "source": [
        "100 - (58.868960+21.825846+10.744597+2.281600+1.241937) # top 5 languages"
      ],
      "execution_count": 140,
      "outputs": [
        {
          "output_type": "execute_result",
          "data": {
            "text/plain": [
              "5.037059999999997"
            ]
          },
          "metadata": {
            "tags": []
          },
          "execution_count": 140
        }
      ]
    },
    {
      "cell_type": "code",
      "metadata": {
        "id": "X22dqVUWCRL7",
        "colab_type": "code",
        "outputId": "d5f8ac6f-f38d-450d-c705-cd1f6e467e08",
        "colab": {
          "base_uri": "https://localhost:8080/",
          "height": 264
        }
      },
      "source": [
        "sns.barplot(x = top8langs.values,y=top8langs.index,palette=\"Blues_d\")\n",
        "plt.show()"
      ],
      "execution_count": 153,
      "outputs": [
        {
          "output_type": "display_data",
          "data": {
            "image/png": "[encoded data removed]",
            "text/plain": [
              "<Figure size 432x288 with 1 Axes>"
            ]
          },
          "metadata": {
            "tags": []
          }
        }
      ]
    },
    {
      "cell_type": "markdown",
      "metadata": {
        "id": "-rYUkx83F2iu",
        "colab_type": "text"
      },
      "source": [
        "<em> English, Hindi, Marathi and Tamil make up for 95% of the tweet languages with English being the most prominent one."
      ]
    },
    {
      "cell_type": "code",
      "metadata": {
        "id": "LP2ALGbmDWKm",
        "colab_type": "code",
        "colab": {
          "base_uri": "https://localhost:8080/",
          "height": 33
        },
        "outputId": "b30f539a-c222-4ae4-ea38-c4c051ef8e4c"
      },
      "source": [
        "top8langs.index"
      ],
      "execution_count": 74,
      "outputs": [
        {
          "output_type": "execute_result",
          "data": {
            "text/plain": [
              "Index(['en', 'hi', 'und', 'mr', 'ta', 'in', 'gu', 'te'], dtype='object')"
            ]
          },
          "metadata": {
            "tags": []
          },
          "execution_count": 74
        }
      ]
    },
    {
      "cell_type": "code",
      "metadata": {
        "id": "acfjD6ffDM9O",
        "colab_type": "code",
        "colab": {
          "base_uri": "https://localhost:8080/",
          "height": 266
        },
        "outputId": "eddbd6a1-f11a-4a92-bab2-b51e3f210461"
      },
      "source": [
        "# renamed languages as other\n",
        "dat[\"lang\"].loc[dat[\"lang\"].isin(top8langs.index) == False] = \"Other\"\n",
        "dat[\"lang\"].value_counts()"
      ],
      "execution_count": 144,
      "outputs": [
        {
          "output_type": "stream",
          "text": [
            "/usr/local/lib/python3.6/dist-packages/pandas/core/indexing.py:671: SettingWithCopyWarning: \n",
            "A value is trying to be set on a copy of a slice from a DataFrame\n",
            "\n",
            "See the caveats in the documentation: https://pandas.pydata.org/pandas-docs/stable/user_guide/indexing.html#returning-a-view-versus-a-copy\n",
            "  self._setitem_with_indexer(indexer, value)\n"
          ],
          "name": "stderr"
        },
        {
          "output_type": "execute_result",
          "data": {
            "text/plain": [
              "en       41618\n",
              "hi       15430\n",
              "und       7596\n",
              "Other     2198\n",
              "mr        1613\n",
              "ta         878\n",
              "in         585\n",
              "gu         439\n",
              "te         339\n",
              "Name: lang, dtype: int64"
            ]
          },
          "metadata": {
            "tags": []
          },
          "execution_count": 144
        }
      ]
    },
    {
      "cell_type": "code",
      "metadata": {
        "id": "IIBM0viJ1ngF",
        "colab_type": "code",
        "outputId": "d36aaace-d9dc-47b3-bead-52ddd3d50152",
        "colab": {
          "base_uri": "https://localhost:8080/",
          "height": 316
        }
      },
      "source": [
        "source = dat[\"source\"].value_counts()\n",
        "#source = source/source.sum()*100\n",
        "source # will take only the top 6values other will be renamed as other"
      ],
      "execution_count": 145,
      "outputs": [
        {
          "output_type": "execute_result",
          "data": {
            "text/plain": [
              "Twitter for Android        56078\n",
              "Twitter for iPhone         11897\n",
              "Instagram                   2490\n",
              "Twitter for iPad             126\n",
              "Twitter Web Client            48\n",
              "Twitter for Mac               17\n",
              "Hootsuite Inc.                16\n",
              "Tweetbot for iΟS              10\n",
              "TWEET.PHOTO                    3\n",
              "Tweetbot for Mac               2\n",
              "Sprout Social                  2\n",
              "Flamingo for Android           2\n",
              "Crowdfire App                  1\n",
              "SocialRecharge                 1\n",
              "TweetCaster for Android        1\n",
              "WordPress.com                  1\n",
              "UberSocial for Android         1\n",
              "Name: source, dtype: int64"
            ]
          },
          "metadata": {
            "tags": []
          },
          "execution_count": 145
        }
      ]
    },
    {
      "cell_type": "code",
      "metadata": {
        "id": "ZbGCVpWmGRRm",
        "colab_type": "code",
        "colab": {
          "base_uri": "https://localhost:8080/",
          "height": 233
        },
        "outputId": "4ff94c03-2bce-4cfa-949e-1697c612ea15"
      },
      "source": [
        "dat[\"source\"].loc[dat[\"source\"].isin(source.head(6).index) == False] = \"Other\"\n",
        "dat[\"source\"].value_counts()"
      ],
      "execution_count": 146,
      "outputs": [
        {
          "output_type": "stream",
          "text": [
            "/usr/local/lib/python3.6/dist-packages/pandas/core/indexing.py:671: SettingWithCopyWarning: \n",
            "A value is trying to be set on a copy of a slice from a DataFrame\n",
            "\n",
            "See the caveats in the documentation: https://pandas.pydata.org/pandas-docs/stable/user_guide/indexing.html#returning-a-view-versus-a-copy\n",
            "  self._setitem_with_indexer(indexer, value)\n"
          ],
          "name": "stderr"
        },
        {
          "output_type": "execute_result",
          "data": {
            "text/plain": [
              "Twitter for Android    56078\n",
              "Twitter for iPhone     11897\n",
              "Instagram               2490\n",
              "Twitter for iPad         126\n",
              "Twitter Web Client        48\n",
              "Other                     40\n",
              "Twitter for Mac           17\n",
              "Name: source, dtype: int64"
            ]
          },
          "metadata": {
            "tags": []
          },
          "execution_count": 146
        }
      ]
    },
    {
      "cell_type": "code",
      "metadata": {
        "id": "maGb8UPBFpKo",
        "colab_type": "code",
        "colab": {
          "base_uri": "https://localhost:8080/",
          "height": 397
        },
        "outputId": "43c66fdd-2224-4eec-896b-c4c048161805"
      },
      "source": [
        "source = dat[\"source\"].value_counts()\n",
        "source = source/source.sum()*100\n",
        "sns.barplot(x = source.values,y=source.index,palette=\"Blues_d\")\n",
        "plt.show()\n",
        "source"
      ],
      "execution_count": 147,
      "outputs": [
        {
          "output_type": "display_data",
          "data": {
            "image/png": "[encoded data removed]",
            "text/plain": [
              "<Figure size 432x288 with 1 Axes>"
            ]
          },
          "metadata": {
            "tags": []
          }
        },
        {
          "output_type": "execute_result",
          "data": {
            "text/plain": [
              "Twitter for Android    79.322734\n",
              "Twitter for iPhone     16.828392\n",
              "Instagram               3.522123\n",
              "Twitter for iPad        0.178228\n",
              "Twitter Web Client      0.067896\n",
              "Other                   0.056580\n",
              "Twitter for Mac         0.024047\n",
              "Name: source, dtype: float64"
            ]
          },
          "metadata": {
            "tags": []
          },
          "execution_count": 147
        }
      ]
    },
    {
      "cell_type": "code",
      "metadata": {
        "id": "8jjmeXstLdXL",
        "colab_type": "code",
        "outputId": "27390d8c-3b6f-4ad8-edd1-442fd522131f",
        "colab": {
          "base_uri": "https://localhost:8080/",
          "height": 247
        }
      },
      "source": [
        "plt.pie(dat.is_quote.value_counts(),labels = [\"\",\"Are quotes\"],autopct='%1.1f%%')\n",
        "plt.show()"
      ],
      "execution_count": 156,
      "outputs": [
        {
          "output_type": "display_data",
          "data": {
            "image/png": "[encoded data removed]",
            "text/plain": [
              "<Figure size 432x288 with 1 Axes>"
            ]
          },
          "metadata": {
            "tags": []
          }
        }
      ]
    },
    {
      "cell_type": "code",
      "metadata": {
        "id": "ND7QNaJeppyJ",
        "colab_type": "code",
        "colab": {
          "base_uri": "https://localhost:8080/",
          "height": 50
        },
        "outputId": "eb4c2167-016d-41bf-c7f2-b3a3a99096a0"
      },
      "source": [
        "dat.is_retweet.value_counts() # none of them are retweets"
      ],
      "execution_count": 158,
      "outputs": [
        {
          "output_type": "execute_result",
          "data": {
            "text/plain": [
              "False    70696\n",
              "Name: is_retweet, dtype: int64"
            ]
          },
          "metadata": {
            "tags": []
          },
          "execution_count": 158
        }
      ]
    },
    {
      "cell_type": "code",
      "metadata": {
        "id": "QdP1ehdAqJdO",
        "colab_type": "code",
        "colab": {
          "base_uri": "https://localhost:8080/",
          "height": 701
        },
        "outputId": "7b28bd7d-6344-4fda-d312-c42d036c54d4"
      },
      "source": [
        "dat.sort_values([\"favourites_count\"],ascending=False).head(10)"
      ],
      "execution_count": 188,
      "outputs": [
        {
          "output_type": "execute_result",
          "data": {
            "text/html": [
              "<div>\n",
              "<style scoped>\n",
              "    .dataframe tbody tr th:only-of-type {\n",
              "        vertical-align: middle;\n",
              "    }\n",
              "\n",
              "    .dataframe tbody tr th {\n",
              "        vertical-align: top;\n",
              "    }\n",
              "\n",
              "    .dataframe thead th {\n",
              "        text-align: right;\n",
              "    }\n",
              "</style>\n",
              "<table border=\"1\" class=\"dataframe\">\n",
              "  <thead>\n",
              "    <tr style=\"text-align: right;\">\n",
              "      <th></th>\n",
              "      <th>status_id</th>\n",
              "      <th>user_id</th>\n",
              "      <th>created_at</th>\n",
              "      <th>screen_name</th>\n",
              "      <th>text</th>\n",
              "      <th>source</th>\n",
              "      <th>reply_to_status_id</th>\n",
              "      <th>reply_to_user_id</th>\n",
              "      <th>reply_to_screen_name</th>\n",
              "      <th>is_quote</th>\n",
              "      <th>is_retweet</th>\n",
              "      <th>favourites_count</th>\n",
              "      <th>retweet_count</th>\n",
              "      <th>country_code</th>\n",
              "      <th>place_full_name</th>\n",
              "      <th>place_type</th>\n",
              "      <th>followers_count</th>\n",
              "      <th>friends_count</th>\n",
              "      <th>account_lang</th>\n",
              "      <th>account_created_at</th>\n",
              "      <th>verified</th>\n",
              "      <th>lang</th>\n",
              "      <th>day</th>\n",
              "    </tr>\n",
              "  </thead>\n",
              "  <tbody>\n",
              "    <tr>\n",
              "      <th>68143</th>\n",
              "      <td>1255396078343651328</td>\n",
              "      <td>1173820242</td>\n",
              "      <td>2020-04-29 07:18:43+00:00</td>\n",
              "      <td>PratikAgrawal90</td>\n",
              "      <td>सभी देशवासियों को द्वादश ज्योतिर्लिंग में से ए...</td>\n",
              "      <td>Twitter for iPhone</td>\n",
              "      <td>NaN</td>\n",
              "      <td>NaN</td>\n",
              "      <td>NaN</td>\n",
              "      <td>False</td>\n",
              "      <td>False</td>\n",
              "      <td>687781</td>\n",
              "      <td>0</td>\n",
              "      <td>IN</td>\n",
              "      <td>Raigarh, India</td>\n",
              "      <td>city</td>\n",
              "      <td>2767</td>\n",
              "      <td>659</td>\n",
              "      <td>NaN</td>\n",
              "      <td>2013-02-13 04:00:53+00:00</td>\n",
              "      <td>False</td>\n",
              "      <td>hi</td>\n",
              "      <td>32</td>\n",
              "    </tr>\n",
              "    <tr>\n",
              "      <th>51917</th>\n",
              "      <td>1252290923519713280</td>\n",
              "      <td>1173820242</td>\n",
              "      <td>2020-04-20 17:39:57+00:00</td>\n",
              "      <td>PratikAgrawal90</td>\n",
              "      <td>मुम्बई में मीडिया के करीब पचास साथी #Coronavir...</td>\n",
              "      <td>Twitter for iPhone</td>\n",
              "      <td>NaN</td>\n",
              "      <td>NaN</td>\n",
              "      <td>NaN</td>\n",
              "      <td>False</td>\n",
              "      <td>False</td>\n",
              "      <td>686396</td>\n",
              "      <td>1</td>\n",
              "      <td>IN</td>\n",
              "      <td>Raigarh, India</td>\n",
              "      <td>city</td>\n",
              "      <td>2775</td>\n",
              "      <td>657</td>\n",
              "      <td>NaN</td>\n",
              "      <td>2013-02-13 04:00:53+00:00</td>\n",
              "      <td>False</td>\n",
              "      <td>hi</td>\n",
              "      <td>23</td>\n",
              "    </tr>\n",
              "    <tr>\n",
              "      <th>44542</th>\n",
              "      <td>1251100700504813570</td>\n",
              "      <td>1173820242</td>\n",
              "      <td>2020-04-17 10:50:25+00:00</td>\n",
              "      <td>PratikAgrawal90</td>\n",
              "      <td>कोशिशों के सुफल!\\n\\n#COVID19 के खिलाफ जंग में ...</td>\n",
              "      <td>Twitter for iPhone</td>\n",
              "      <td>NaN</td>\n",
              "      <td>NaN</td>\n",
              "      <td>NaN</td>\n",
              "      <td>False</td>\n",
              "      <td>False</td>\n",
              "      <td>685933</td>\n",
              "      <td>0</td>\n",
              "      <td>IN</td>\n",
              "      <td>Raigarh, India</td>\n",
              "      <td>city</td>\n",
              "      <td>2783</td>\n",
              "      <td>655</td>\n",
              "      <td>NaN</td>\n",
              "      <td>2013-02-13 04:00:53+00:00</td>\n",
              "      <td>False</td>\n",
              "      <td>hi</td>\n",
              "      <td>20</td>\n",
              "    </tr>\n",
              "    <tr>\n",
              "      <th>44043</th>\n",
              "      <td>1251049162004525057</td>\n",
              "      <td>1173820242</td>\n",
              "      <td>2020-04-17 07:25:38+00:00</td>\n",
              "      <td>PratikAgrawal90</td>\n",
              "      <td>कोरोना #COVID19 वायरस के संक्रमण से आम आदमी को...</td>\n",
              "      <td>Twitter for iPhone</td>\n",
              "      <td>NaN</td>\n",
              "      <td>NaN</td>\n",
              "      <td>NaN</td>\n",
              "      <td>False</td>\n",
              "      <td>False</td>\n",
              "      <td>685680</td>\n",
              "      <td>0</td>\n",
              "      <td>IN</td>\n",
              "      <td>Raigarh, India</td>\n",
              "      <td>city</td>\n",
              "      <td>2781</td>\n",
              "      <td>654</td>\n",
              "      <td>NaN</td>\n",
              "      <td>2013-02-13 04:00:53+00:00</td>\n",
              "      <td>False</td>\n",
              "      <td>hi</td>\n",
              "      <td>20</td>\n",
              "    </tr>\n",
              "    <tr>\n",
              "      <th>21832</th>\n",
              "      <td>1247207452342280193</td>\n",
              "      <td>1173820242</td>\n",
              "      <td>2020-04-06 17:00:03+00:00</td>\n",
              "      <td>PratikAgrawal90</td>\n",
              "      <td>संकट की इस घड़ी में जब पूरा देश Corona COVID-1...</td>\n",
              "      <td>Twitter for iPhone</td>\n",
              "      <td>1.247207e+18</td>\n",
              "      <td>1.173820e+09</td>\n",
              "      <td>PratikAgrawal90</td>\n",
              "      <td>False</td>\n",
              "      <td>False</td>\n",
              "      <td>684200</td>\n",
              "      <td>0</td>\n",
              "      <td>IN</td>\n",
              "      <td>Raigarh, India</td>\n",
              "      <td>city</td>\n",
              "      <td>2783</td>\n",
              "      <td>654</td>\n",
              "      <td>NaN</td>\n",
              "      <td>2013-02-13 04:00:53+00:00</td>\n",
              "      <td>False</td>\n",
              "      <td>hi</td>\n",
              "      <td>9</td>\n",
              "    </tr>\n",
              "    <tr>\n",
              "      <th>31691</th>\n",
              "      <td>1248851014217691138</td>\n",
              "      <td>1173820242</td>\n",
              "      <td>2020-04-11 05:50:58+00:00</td>\n",
              "      <td>PratikAgrawal90</td>\n",
              "      <td>#COVID19 stands still for no one. We're here, ...</td>\n",
              "      <td>Twitter for iPhone</td>\n",
              "      <td>NaN</td>\n",
              "      <td>NaN</td>\n",
              "      <td>NaN</td>\n",
              "      <td>False</td>\n",
              "      <td>False</td>\n",
              "      <td>684015</td>\n",
              "      <td>0</td>\n",
              "      <td>IN</td>\n",
              "      <td>Raigarh, India</td>\n",
              "      <td>city</td>\n",
              "      <td>2781</td>\n",
              "      <td>655</td>\n",
              "      <td>NaN</td>\n",
              "      <td>2013-02-13 04:00:53+00:00</td>\n",
              "      <td>False</td>\n",
              "      <td>en</td>\n",
              "      <td>14</td>\n",
              "    </tr>\n",
              "    <tr>\n",
              "      <th>30065</th>\n",
              "      <td>1248551104406638592</td>\n",
              "      <td>1173820242</td>\n",
              "      <td>2020-04-10 09:59:14+00:00</td>\n",
              "      <td>PratikAgrawal90</td>\n",
              "      <td>लॉकडाउन के दौरान खुशी देने वाले कार्यों में अप...</td>\n",
              "      <td>Twitter for iPhone</td>\n",
              "      <td>NaN</td>\n",
              "      <td>NaN</td>\n",
              "      <td>NaN</td>\n",
              "      <td>False</td>\n",
              "      <td>False</td>\n",
              "      <td>684014</td>\n",
              "      <td>0</td>\n",
              "      <td>IN</td>\n",
              "      <td>Raigarh, India</td>\n",
              "      <td>city</td>\n",
              "      <td>2782</td>\n",
              "      <td>655</td>\n",
              "      <td>NaN</td>\n",
              "      <td>2013-02-13 04:00:53+00:00</td>\n",
              "      <td>False</td>\n",
              "      <td>hi</td>\n",
              "      <td>13</td>\n",
              "    </tr>\n",
              "    <tr>\n",
              "      <th>32055</th>\n",
              "      <td>1248894123710361600</td>\n",
              "      <td>1173820242</td>\n",
              "      <td>2020-04-11 08:42:17+00:00</td>\n",
              "      <td>PratikAgrawal90</td>\n",
              "      <td>माननीय प्रधानमंत्री @narendramodi जी ने सभी मु...</td>\n",
              "      <td>Twitter for iPhone</td>\n",
              "      <td>NaN</td>\n",
              "      <td>NaN</td>\n",
              "      <td>NaN</td>\n",
              "      <td>False</td>\n",
              "      <td>False</td>\n",
              "      <td>684011</td>\n",
              "      <td>0</td>\n",
              "      <td>IN</td>\n",
              "      <td>Raigarh, India</td>\n",
              "      <td>city</td>\n",
              "      <td>2780</td>\n",
              "      <td>655</td>\n",
              "      <td>NaN</td>\n",
              "      <td>2013-02-13 04:00:53+00:00</td>\n",
              "      <td>False</td>\n",
              "      <td>hi</td>\n",
              "      <td>14</td>\n",
              "    </tr>\n",
              "    <tr>\n",
              "      <th>30438</th>\n",
              "      <td>1248599982858354693</td>\n",
              "      <td>1173820242</td>\n",
              "      <td>2020-04-10 13:13:28+00:00</td>\n",
              "      <td>PratikAgrawal90</td>\n",
              "      <td>You are more prone to catching #COVID-19 infec...</td>\n",
              "      <td>Twitter for iPhone</td>\n",
              "      <td>NaN</td>\n",
              "      <td>NaN</td>\n",
              "      <td>NaN</td>\n",
              "      <td>False</td>\n",
              "      <td>False</td>\n",
              "      <td>683824</td>\n",
              "      <td>0</td>\n",
              "      <td>IN</td>\n",
              "      <td>Raigarh, India</td>\n",
              "      <td>city</td>\n",
              "      <td>2780</td>\n",
              "      <td>656</td>\n",
              "      <td>NaN</td>\n",
              "      <td>2013-02-13 04:00:53+00:00</td>\n",
              "      <td>False</td>\n",
              "      <td>en</td>\n",
              "      <td>13</td>\n",
              "    </tr>\n",
              "    <tr>\n",
              "      <th>10580</th>\n",
              "      <td>1245723474309443585</td>\n",
              "      <td>1173820242</td>\n",
              "      <td>2020-04-02 14:43:15+00:00</td>\n",
              "      <td>PratikAgrawal90</td>\n",
              "      <td>प्रधानमंत्री श्री @narendramodi जी दूरदर्शी है...</td>\n",
              "      <td>Twitter for iPhone</td>\n",
              "      <td>NaN</td>\n",
              "      <td>NaN</td>\n",
              "      <td>NaN</td>\n",
              "      <td>False</td>\n",
              "      <td>False</td>\n",
              "      <td>681513</td>\n",
              "      <td>0</td>\n",
              "      <td>IN</td>\n",
              "      <td>Raigarh, India</td>\n",
              "      <td>city</td>\n",
              "      <td>2775</td>\n",
              "      <td>652</td>\n",
              "      <td>NaN</td>\n",
              "      <td>2013-02-13 04:00:53+00:00</td>\n",
              "      <td>False</td>\n",
              "      <td>hi</td>\n",
              "      <td>5</td>\n",
              "    </tr>\n",
              "  </tbody>\n",
              "</table>\n",
              "</div>"
            ],
            "text/plain": [
              "                 status_id     user_id  ... lang day\n",
              "68143  1255396078343651328  1173820242  ...   hi  32\n",
              "51917  1252290923519713280  1173820242  ...   hi  23\n",
              "44542  1251100700504813570  1173820242  ...   hi  20\n",
              "44043  1251049162004525057  1173820242  ...   hi  20\n",
              "21832  1247207452342280193  1173820242  ...   hi   9\n",
              "31691  1248851014217691138  1173820242  ...   en  14\n",
              "30065  1248551104406638592  1173820242  ...   hi  13\n",
              "32055  1248894123710361600  1173820242  ...   hi  14\n",
              "30438  1248599982858354693  1173820242  ...   en  13\n",
              "10580  1245723474309443585  1173820242  ...   hi   5\n",
              "\n",
              "[10 rows x 23 columns]"
            ]
          },
          "metadata": {
            "tags": []
          },
          "execution_count": 188
        }
      ]
    },
    {
      "cell_type": "markdown",
      "metadata": {
        "id": "CAEdZQ3qsor9",
        "colab_type": "text"
      },
      "source": [
        "Tweets from these accounts recive the highest likes \n",
        "* PratikAgrawal90, \n",
        "* AkramShahBJP, \n",
        "* apn_10, \n",
        "* HarbirSinghSuri,\n",
        "* Shahidbabu786,\n",
        "* DhfmDathu,\n",
        "* ArunDehingia,\t"
      ]
    },
    {
      "cell_type": "code",
      "metadata": {
        "id": "vvWoThfhtOCC",
        "colab_type": "code",
        "colab": {
          "base_uri": "https://localhost:8080/",
          "height": 166
        },
        "outputId": "9e760154-665c-4c12-d630-1600d1fff9f5"
      },
      "source": [
        "print(dat.sort_values([\"retweet_count\"],ascending=False).text.iloc[0])"
      ],
      "execution_count": 187,
      "outputs": [
        {
          "output_type": "stream",
          "text": [
            "At Safdarjung Hospital: 500 faculty, 1700 resident docs, 2000 nursing staff are in shortage of protective gear\n",
            "\n",
            "The staff is in dire need of\n",
            "1 PPE Kits (Hazmat Suits)- 50,000\n",
            "2 N95 Masks- 50,000\n",
            "3 Triple Layer Masks- 3,00,000\n",
            "4 Hand Sanitizer (500ml bottles) -10,000\n",
            "\n",
            "#Covid_19\n"
          ],
          "name": "stdout"
        }
      ]
    },
    {
      "cell_type": "markdown",
      "metadata": {
        "id": "vPhibz8_ujIT",
        "colab_type": "text"
      },
      "source": [
        "That's the most retweeted text"
      ]
    },
    {
      "cell_type": "code",
      "metadata": {
        "id": "cfUDwjrwuzEu",
        "colab_type": "code",
        "colab": {
          "base_uri": "https://localhost:8080/",
          "height": 280
        },
        "outputId": "b025bf11-ba68-4d36-b797-168382a54f1a"
      },
      "source": [
        "#plt.yscale(\"log\")\n",
        "\n",
        "sns.scatterplot(x = \"retweet_count\", y =\"favourites_count\", data = dat)\n",
        "plt.show()"
      ],
      "execution_count": 244,
      "outputs": [
        {
          "output_type": "display_data",
          "data": {
            "image/png": "[encoded data removed]",
            "text/plain": [
              "<Figure size 432x288 with 1 Axes>"
            ]
          },
          "metadata": {
            "tags": []
          }
        }
      ]
    },
    {
      "cell_type": "code",
      "metadata": {
        "id": "ec8h2QEfGyGO",
        "colab_type": "code",
        "colab": {
          "base_uri": "https://localhost:8080/",
          "height": 334
        },
        "outputId": "5d656c05-0480-46fa-c48e-f3cb46548209"
      },
      "source": [
        "fig = plt.figure(figsize=(10,5))\n",
        "sns.boxplot(y = \"source\", x =\"favourites_count\", data = dat)\n",
        "plt.show()"
      ],
      "execution_count": 252,
      "outputs": [
        {
          "output_type": "display_data",
          "data": {
            "image/png": "[encoded data removed]",
            "text/plain": [
              "<Figure size 720x360 with 1 Axes>"
            ]
          },
          "metadata": {
            "tags": []
          }
        }
      ]
    },
    {
      "cell_type": "code",
      "metadata": {
        "id": "ghqKqOVOiGmc",
        "colab_type": "code",
        "outputId": "853a48af-0e89-4062-a602-9440f9ea03c5",
        "colab": {
          "base_uri": "https://localhost:8080/",
          "height": 314
        }
      },
      "source": [
        "###status_id\n",
        "#people = dat.groupby([\"screen_name\",\"user_id\",\"followers_count\",\"friends_count\",\"verified\"])\n",
        "people = dat[\"screen_name\"].value_counts()\n",
        "people = people[people > 8]\n",
        "print(people.std()/people.mean()) # reletive varience\n",
        "people = people.reset_index()\n",
        "sns.distplot(people[\"screen_name\"])"
      ],
      "execution_count": 0,
      "outputs": [
        {
          "output_type": "stream",
          "text": [
            "0.9640185661673266\n"
          ],
          "name": "stdout"
        },
        {
          "output_type": "execute_result",
          "data": {
            "text/plain": [
              "<matplotlib.axes._subplots.AxesSubplot at 0x7fc5799ddfd0>"
            ]
          },
          "metadata": {
            "tags": []
          },
          "execution_count": 58
        },
        {
          "output_type": "display_data",
          "data": {
            "image/png": "[encoded data removed]",
            "text/plain": [
              "<Figure size 432x288 with 1 Axes>"
            ]
          },
          "metadata": {
            "tags": [],
            "needs_background": "light"
          }
        }
      ]
    },
    {
      "cell_type": "code",
      "metadata": {
        "id": "laQ2epiDZP_-",
        "colab_type": "code",
        "outputId": "61e5f585-2ac7-4574-b7ad-23d96db3f92b",
        "colab": {
          "base_uri": "https://localhost:8080/",
          "height": 1000
        }
      },
      "source": [
        "\"\"\"\n",
        "highest_user = dat[dat[\"screen_name\"] == 'vishalsingh_BJP']\n",
        "plt.plot(highest_user['time_of_tweet'], highest_user[\"followers_count\"])\n",
        "plt.show()\n",
        "print(highest_user[\"followers_count\"].mean())\n",
        "FollowerCount = highest_user[\"followers_count\"]\n",
        "tweetTime = highest_user['time_of_tweet']\n",
        "followmin = FollowerCount.min()\n",
        "followmax = FollowerCount.max()\n",
        "tmax = tweetTime[FollowerCount == followmax].iloc[0]\n",
        "tmin = tweetTime[FollowerCount == followmin].iloc[0]\n",
        "dx = followmax - followmin\n",
        "dt = tmax - tmin\n",
        "print(dx,dt,FollowerCount.std())\n",
        "tmax,tmin,followmax,followmin\n",
        "\"\"\"\n",
        "\n",
        "def propeople(x):\n",
        "    highest_user = dat[dat[\"screen_name\"] == x]\n",
        "    FollowerCount = highest_user[\"followers_count\"]\n",
        "    tweetTime = highest_user['time_of_tweet']\n",
        "    followmin = FollowerCount.min()\n",
        "    followmax = FollowerCount.max()\n",
        "    tmax = tweetTime[FollowerCount == followmax].iloc[0]\n",
        "    tmin = tweetTime[FollowerCount == followmin].iloc[0]\n",
        "    dx = followmax - followmin\n",
        "    dt = tmax - tmin\n",
        "    return pd.Series([highest_user[\"followers_count\"].mean(),highest_user[\"followers_count\"].std(),dx/dt])\n",
        "\n",
        "fig = plt.figure(figsize=(10,10))\n",
        "#plt.ylim(0,.2)\n",
        "followerstats = people['index'].apply(propeople)\n",
        "plt.hist(followerstats[2],bins = 500)"
      ],
      "execution_count": 0,
      "outputs": [
        {
          "output_type": "stream",
          "text": [
            "/usr/local/lib/python3.6/dist-packages/numpy/lib/histograms.py:839: RuntimeWarning: invalid value encountered in greater_equal\n",
            "  keep = (tmp_a >= first_edge)\n",
            "/usr/local/lib/python3.6/dist-packages/numpy/lib/histograms.py:840: RuntimeWarning: invalid value encountered in less_equal\n",
            "  keep &= (tmp_a <= last_edge)\n"
          ],
          "name": "stderr"
        },
        {
          "output_type": "execute_result",
          "data": {
            "text/plain": [
              "(array([  1.,   0.,   0.,   0.,   0.,   0.,   0.,   0.,   0.,   0.,   0.,\n",
              "          0.,   0.,   0.,   0.,   0.,   0.,   0.,   0.,   0.,   0.,   0.,\n",
              "          0.,   0.,   0.,   0.,   0.,   0.,   0.,   0.,   0.,   0.,   0.,\n",
              "          0.,   0.,   0.,   0.,   0.,   0.,   0.,   0.,   0.,   0.,   0.,\n",
              "          0.,   0.,   0.,   0.,   0.,   0.,   0.,   0.,   0.,   0.,   0.,\n",
              "          0.,   0.,   0.,   0.,   0.,   0.,   0.,   0.,   0.,   0.,   0.,\n",
              "          0.,   0.,   0.,   0.,   0.,   0.,   0.,   0.,   0.,   0.,   0.,\n",
              "          0.,   0.,   0.,   0.,   0.,   0.,   0.,   0.,   0.,   0.,   0.,\n",
              "          0.,   0.,   0.,   0.,   0.,   0.,   0.,   0.,   0.,   0.,   0.,\n",
              "          0.,   0.,   0.,   0.,   0.,   0.,   0.,   0.,   0.,   0.,   0.,\n",
              "          0.,   0.,   0.,   0.,   0.,   0.,   0.,   0.,   0.,   0.,   0.,\n",
              "          0.,   0.,   0.,   0.,   0.,   0.,   0.,   0.,   0.,   0.,   0.,\n",
              "          0.,   0.,   0.,   0.,   0.,   0.,   0.,   0.,   0.,   0.,   0.,\n",
              "          0.,   0.,   0.,   0.,   0.,   0.,   0.,   0.,   0.,   0.,   0.,\n",
              "          0.,   0.,   0.,   0.,   0.,   0.,   0.,   0.,   0.,   0.,   0.,\n",
              "          0.,   0.,   0.,   0.,   0.,   0.,   0.,   0.,   0.,   0.,   0.,\n",
              "          0.,   0.,   0.,   0.,   0.,   0.,   0.,   0.,   0.,   0.,   0.,\n",
              "          0.,   0.,   0.,   0.,   0.,   0.,   0.,   0.,   0.,   0.,   0.,\n",
              "          0.,   0.,   0.,   0.,   0.,   0.,   0.,   0.,   0.,   0.,   0.,\n",
              "          0.,   0.,   0.,   0.,   0.,   0.,   0.,   0.,   0.,   0.,   0.,\n",
              "          0.,   0.,   0.,   0.,   0.,   0.,   0.,   0.,   0.,   0.,   0.,\n",
              "          0.,   0.,   0.,   0.,   0.,   0.,   0.,   0.,   0.,   0.,   0.,\n",
              "          0.,   0.,   0.,   0.,   0.,   0.,   0.,   0.,   0.,   0.,   0.,\n",
              "          0.,   0.,   0.,   0.,   0.,   0.,   0.,   0.,   0.,   0.,   0.,\n",
              "          0.,   0.,   0.,   0.,   0.,   3.,   1.,  18., 375.,  44.,  20.,\n",
              "         12.,   8.,   8.,   3.,   4.,   7.,   1.,   2.,   2.,   1.,   1.,\n",
              "          0.,   4.,   3.,   0.,   1.,   2.,   1.,   0.,   2.,   1.,   1.,\n",
              "          0.,   0.,   0.,   1.,   0.,   0.,   0.,   0.,   1.,   0.,   0.,\n",
              "          0.,   0.,   1.,   0.,   0.,   0.,   0.,   0.,   0.,   1.,   0.,\n",
              "          0.,   0.,   0.,   0.,   0.,   0.,   0.,   0.,   0.,   0.,   0.,\n",
              "          0.,   0.,   0.,   0.,   0.,   1.,   0.,   0.,   0.,   0.,   0.,\n",
              "          0.,   0.,   1.,   0.,   0.,   0.,   0.,   0.,   1.,   0.,   0.,\n",
              "          0.,   1.,   0.,   0.,   0.,   0.,   0.,   0.,   0.,   0.,   0.,\n",
              "          0.,   0.,   0.,   0.,   0.,   0.,   0.,   0.,   0.,   0.,   0.,\n",
              "          0.,   0.,   0.,   0.,   0.,   0.,   0.,   0.,   0.,   0.,   0.,\n",
              "          0.,   0.,   0.,   0.,   0.,   0.,   0.,   0.,   0.,   0.,   0.,\n",
              "          0.,   0.,   0.,   0.,   0.,   0.,   0.,   0.,   0.,   0.,   0.,\n",
              "          0.,   0.,   0.,   0.,   0.,   0.,   0.,   0.,   0.,   0.,   0.,\n",
              "          0.,   0.,   0.,   0.,   0.,   0.,   0.,   0.,   0.,   0.,   0.,\n",
              "          0.,   0.,   0.,   0.,   0.,   0.,   0.,   0.,   0.,   0.,   0.,\n",
              "          0.,   0.,   0.,   0.,   0.,   0.,   0.,   0.,   0.,   0.,   0.,\n",
              "          0.,   0.,   0.,   0.,   0.,   0.,   0.,   0.,   0.,   0.,   0.,\n",
              "          0.,   0.,   0.,   0.,   0.,   0.,   0.,   0.,   0.,   0.,   0.,\n",
              "          0.,   0.,   0.,   0.,   0.,   0.,   0.,   0.,   0.,   0.,   0.,\n",
              "          0.,   0.,   0.,   0.,   0.,   0.,   0.,   0.,   0.,   0.,   0.,\n",
              "          0.,   0.,   0.,   0.,   1.]),\n",
              " array([-2.17417943e+03, -2.16619034e+03, -2.15820126e+03, -2.15021217e+03,\n",
              "        -2.14222308e+03, -2.13423400e+03, -2.12624491e+03, -2.11825582e+03,\n",
              "        -2.11026674e+03, -2.10227765e+03, -2.09428856e+03, -2.08629948e+03,\n",
              "        -2.07831039e+03, -2.07032130e+03, -2.06233222e+03, -2.05434313e+03,\n",
              "        -2.04635404e+03, -2.03836496e+03, -2.03037587e+03, -2.02238678e+03,\n",
              "        -2.01439770e+03, -2.00640861e+03, -1.99841952e+03, -1.99043044e+03,\n",
              "        -1.98244135e+03, -1.97445226e+03, -1.96646318e+03, -1.95847409e+03,\n",
              "        -1.95048500e+03, -1.94249592e+03, -1.93450683e+03, -1.92651774e+03,\n",
              "        -1.91852866e+03, -1.91053957e+03, -1.90255048e+03, -1.89456140e+03,\n",
              "        -1.88657231e+03, -1.87858322e+03, -1.87059414e+03, -1.86260505e+03,\n",
              "        -1.85461596e+03, -1.84662688e+03, -1.83863779e+03, -1.83064870e+03,\n",
              "        -1.82265962e+03, -1.81467053e+03, -1.80668144e+03, -1.79869236e+03,\n",
              "        -1.79070327e+03, -1.78271418e+03, -1.77472509e+03, -1.76673601e+03,\n",
              "        -1.75874692e+03, -1.75075783e+03, -1.74276875e+03, -1.73477966e+03,\n",
              "        -1.72679057e+03, -1.71880149e+03, -1.71081240e+03, -1.70282331e+03,\n",
              "        -1.69483423e+03, -1.68684514e+03, -1.67885605e+03, -1.67086697e+03,\n",
              "        -1.66287788e+03, -1.65488879e+03, -1.64689971e+03, -1.63891062e+03,\n",
              "        -1.63092153e+03, -1.62293245e+03, -1.61494336e+03, -1.60695427e+03,\n",
              "        -1.59896519e+03, -1.59097610e+03, -1.58298701e+03, -1.57499793e+03,\n",
              "        -1.56700884e+03, -1.55901975e+03, -1.55103067e+03, -1.54304158e+03,\n",
              "        -1.53505249e+03, -1.52706341e+03, -1.51907432e+03, -1.51108523e+03,\n",
              "        -1.50309615e+03, -1.49510706e+03, -1.48711797e+03, -1.47912889e+03,\n",
              "        -1.47113980e+03, -1.46315071e+03, -1.45516163e+03, -1.44717254e+03,\n",
              "        -1.43918345e+03, -1.43119437e+03, -1.42320528e+03, -1.41521619e+03,\n",
              "        -1.40722711e+03, -1.39923802e+03, -1.39124893e+03, -1.38325985e+03,\n",
              "        -1.37527076e+03, -1.36728167e+03, -1.35929259e+03, -1.35130350e+03,\n",
              "        -1.34331441e+03, -1.33532533e+03, -1.32733624e+03, -1.31934715e+03,\n",
              "        -1.31135807e+03, -1.30336898e+03, -1.29537989e+03, -1.28739080e+03,\n",
              "        -1.27940172e+03, -1.27141263e+03, -1.26342354e+03, -1.25543446e+03,\n",
              "        -1.24744537e+03, -1.23945628e+03, -1.23146720e+03, -1.22347811e+03,\n",
              "        -1.21548902e+03, -1.20749994e+03, -1.19951085e+03, -1.19152176e+03,\n",
              "        -1.18353268e+03, -1.17554359e+03, -1.16755450e+03, -1.15956542e+03,\n",
              "        -1.15157633e+03, -1.14358724e+03, -1.13559816e+03, -1.12760907e+03,\n",
              "        -1.11961998e+03, -1.11163090e+03, -1.10364181e+03, -1.09565272e+03,\n",
              "        -1.08766364e+03, -1.07967455e+03, -1.07168546e+03, -1.06369638e+03,\n",
              "        -1.05570729e+03, -1.04771820e+03, -1.03972912e+03, -1.03174003e+03,\n",
              "        -1.02375094e+03, -1.01576186e+03, -1.00777277e+03, -9.99783683e+02,\n",
              "        -9.91794596e+02, -9.83805510e+02, -9.75816423e+02, -9.67827336e+02,\n",
              "        -9.59838249e+02, -9.51849163e+02, -9.43860076e+02, -9.35870989e+02,\n",
              "        -9.27881902e+02, -9.19892816e+02, -9.11903729e+02, -9.03914642e+02,\n",
              "        -8.95925556e+02, -8.87936469e+02, -8.79947382e+02, -8.71958295e+02,\n",
              "        -8.63969209e+02, -8.55980122e+02, -8.47991035e+02, -8.40001949e+02,\n",
              "        -8.32012862e+02, -8.24023775e+02, -8.16034688e+02, -8.08045602e+02,\n",
              "        -8.00056515e+02, -7.92067428e+02, -7.84078341e+02, -7.76089255e+02,\n",
              "        -7.68100168e+02, -7.60111081e+02, -7.52121995e+02, -7.44132908e+02,\n",
              "        -7.36143821e+02, -7.28154734e+02, -7.20165648e+02, -7.12176561e+02,\n",
              "        -7.04187474e+02, -6.96198388e+02, -6.88209301e+02, -6.80220214e+02,\n",
              "        -6.72231127e+02, -6.64242041e+02, -6.56252954e+02, -6.48263867e+02,\n",
              "        -6.40274780e+02, -6.32285694e+02, -6.24296607e+02, -6.16307520e+02,\n",
              "        -6.08318434e+02, -6.00329347e+02, -5.92340260e+02, -5.84351173e+02,\n",
              "        -5.76362087e+02, -5.68373000e+02, -5.60383913e+02, -5.52394827e+02,\n",
              "        -5.44405740e+02, -5.36416653e+02, -5.28427566e+02, -5.20438480e+02,\n",
              "        -5.12449393e+02, -5.04460306e+02, -4.96471219e+02, -4.88482133e+02,\n",
              "        -4.80493046e+02, -4.72503959e+02, -4.64514873e+02, -4.56525786e+02,\n",
              "        -4.48536699e+02, -4.40547612e+02, -4.32558526e+02, -4.24569439e+02,\n",
              "        -4.16580352e+02, -4.08591266e+02, -4.00602179e+02, -3.92613092e+02,\n",
              "        -3.84624005e+02, -3.76634919e+02, -3.68645832e+02, -3.60656745e+02,\n",
              "        -3.52667658e+02, -3.44678572e+02, -3.36689485e+02, -3.28700398e+02,\n",
              "        -3.20711312e+02, -3.12722225e+02, -3.04733138e+02, -2.96744051e+02,\n",
              "        -2.88754965e+02, -2.80765878e+02, -2.72776791e+02, -2.64787705e+02,\n",
              "        -2.56798618e+02, -2.48809531e+02, -2.40820444e+02, -2.32831358e+02,\n",
              "        -2.24842271e+02, -2.16853184e+02, -2.08864097e+02, -2.00875011e+02,\n",
              "        -1.92885924e+02, -1.84896837e+02, -1.76907751e+02, -1.68918664e+02,\n",
              "        -1.60929577e+02, -1.52940490e+02, -1.44951404e+02, -1.36962317e+02,\n",
              "        -1.28973230e+02, -1.20984144e+02, -1.12995057e+02, -1.05005970e+02,\n",
              "        -9.70168834e+01, -8.90277967e+01, -8.10387099e+01, -7.30496232e+01,\n",
              "        -6.50605365e+01, -5.70714498e+01, -4.90823631e+01, -4.10932763e+01,\n",
              "        -3.31041896e+01, -2.51151029e+01, -1.71260162e+01, -9.13692945e+00,\n",
              "        -1.14784272e+00,  6.84124400e+00,  1.48303307e+01,  2.28194174e+01,\n",
              "         3.08085042e+01,  3.87975909e+01,  4.67866776e+01,  5.47757643e+01,\n",
              "         6.27648511e+01,  7.07539378e+01,  7.87430245e+01,  8.67321112e+01,\n",
              "         9.47211979e+01,  1.02710285e+02,  1.10699371e+02,  1.18688458e+02,\n",
              "         1.26677545e+02,  1.34666632e+02,  1.42655718e+02,  1.50644805e+02,\n",
              "         1.58633892e+02,  1.66622978e+02,  1.74612065e+02,  1.82601152e+02,\n",
              "         1.90590239e+02,  1.98579325e+02,  2.06568412e+02,  2.14557499e+02,\n",
              "         2.22546585e+02,  2.30535672e+02,  2.38524759e+02,  2.46513846e+02,\n",
              "         2.54502932e+02,  2.62492019e+02,  2.70481106e+02,  2.78470193e+02,\n",
              "         2.86459279e+02,  2.94448366e+02,  3.02437453e+02,  3.10426539e+02,\n",
              "         3.18415626e+02,  3.26404713e+02,  3.34393800e+02,  3.42382886e+02,\n",
              "         3.50371973e+02,  3.58361060e+02,  3.66350146e+02,  3.74339233e+02,\n",
              "         3.82328320e+02,  3.90317407e+02,  3.98306493e+02,  4.06295580e+02,\n",
              "         4.14284667e+02,  4.22273754e+02,  4.30262840e+02,  4.38251927e+02,\n",
              "         4.46241014e+02,  4.54230100e+02,  4.62219187e+02,  4.70208274e+02,\n",
              "         4.78197361e+02,  4.86186447e+02,  4.94175534e+02,  5.02164621e+02,\n",
              "         5.10153707e+02,  5.18142794e+02,  5.26131881e+02,  5.34120968e+02,\n",
              "         5.42110054e+02,  5.50099141e+02,  5.58088228e+02,  5.66077315e+02,\n",
              "         5.74066401e+02,  5.82055488e+02,  5.90044575e+02,  5.98033661e+02,\n",
              "         6.06022748e+02,  6.14011835e+02,  6.22000922e+02,  6.29990008e+02,\n",
              "         6.37979095e+02,  6.45968182e+02,  6.53957268e+02,  6.61946355e+02,\n",
              "         6.69935442e+02,  6.77924529e+02,  6.85913615e+02,  6.93902702e+02,\n",
              "         7.01891789e+02,  7.09880876e+02,  7.17869962e+02,  7.25859049e+02,\n",
              "         7.33848136e+02,  7.41837222e+02,  7.49826309e+02,  7.57815396e+02,\n",
              "         7.65804483e+02,  7.73793569e+02,  7.81782656e+02,  7.89771743e+02,\n",
              "         7.97760829e+02,  8.05749916e+02,  8.13739003e+02,  8.21728090e+02,\n",
              "         8.29717176e+02,  8.37706263e+02,  8.45695350e+02,  8.53684437e+02,\n",
              "         8.61673523e+02,  8.69662610e+02,  8.77651697e+02,  8.85640783e+02,\n",
              "         8.93629870e+02,  9.01618957e+02,  9.09608044e+02,  9.17597130e+02,\n",
              "         9.25586217e+02,  9.33575304e+02,  9.41564390e+02,  9.49553477e+02,\n",
              "         9.57542564e+02,  9.65531651e+02,  9.73520737e+02,  9.81509824e+02,\n",
              "         9.89498911e+02,  9.97487998e+02,  1.00547708e+03,  1.01346617e+03,\n",
              "         1.02145526e+03,  1.02944434e+03,  1.03743343e+03,  1.04542252e+03,\n",
              "         1.05341160e+03,  1.06140069e+03,  1.06938978e+03,  1.07737886e+03,\n",
              "         1.08536795e+03,  1.09335704e+03,  1.10134612e+03,  1.10933521e+03,\n",
              "         1.11732430e+03,  1.12531339e+03,  1.13330247e+03,  1.14129156e+03,\n",
              "         1.14928065e+03,  1.15726973e+03,  1.16525882e+03,  1.17324791e+03,\n",
              "         1.18123699e+03,  1.18922608e+03,  1.19721517e+03,  1.20520425e+03,\n",
              "         1.21319334e+03,  1.22118243e+03,  1.22917151e+03,  1.23716060e+03,\n",
              "         1.24514969e+03,  1.25313877e+03,  1.26112786e+03,  1.26911695e+03,\n",
              "         1.27710603e+03,  1.28509512e+03,  1.29308421e+03,  1.30107329e+03,\n",
              "         1.30906238e+03,  1.31705147e+03,  1.32504055e+03,  1.33302964e+03,\n",
              "         1.34101873e+03,  1.34900781e+03,  1.35699690e+03,  1.36498599e+03,\n",
              "         1.37297507e+03,  1.38096416e+03,  1.38895325e+03,  1.39694233e+03,\n",
              "         1.40493142e+03,  1.41292051e+03,  1.42090959e+03,  1.42889868e+03,\n",
              "         1.43688777e+03,  1.44487685e+03,  1.45286594e+03,  1.46085503e+03,\n",
              "         1.46884411e+03,  1.47683320e+03,  1.48482229e+03,  1.49281137e+03,\n",
              "         1.50080046e+03,  1.50878955e+03,  1.51677863e+03,  1.52476772e+03,\n",
              "         1.53275681e+03,  1.54074589e+03,  1.54873498e+03,  1.55672407e+03,\n",
              "         1.56471315e+03,  1.57270224e+03,  1.58069133e+03,  1.58868041e+03,\n",
              "         1.59666950e+03,  1.60465859e+03,  1.61264768e+03,  1.62063676e+03,\n",
              "         1.62862585e+03,  1.63661494e+03,  1.64460402e+03,  1.65259311e+03,\n",
              "         1.66058220e+03,  1.66857128e+03,  1.67656037e+03,  1.68454946e+03,\n",
              "         1.69253854e+03,  1.70052763e+03,  1.70851672e+03,  1.71650580e+03,\n",
              "         1.72449489e+03,  1.73248398e+03,  1.74047306e+03,  1.74846215e+03,\n",
              "         1.75645124e+03,  1.76444032e+03,  1.77242941e+03,  1.78041850e+03,\n",
              "         1.78840758e+03,  1.79639667e+03,  1.80438576e+03,  1.81237484e+03,\n",
              "         1.82036393e+03]),\n",
              " <a list of 500 Patch objects>)"
            ]
          },
          "metadata": {
            "tags": []
          },
          "execution_count": 87
        },
        {
          "output_type": "display_data",
          "data": {
            "image/png": "[encoded data removed]",
            "text/plain": [
              "<Figure size 720x720 with 1 Axes>"
            ]
          },
          "metadata": {
            "tags": [],
            "needs_background": "light"
          }
        }
      ]
    },
    {
      "cell_type": "code",
      "metadata": {
        "id": "K5XT-EIQEWwg",
        "colab_type": "code",
        "outputId": "764eaa4f-3d3a-4eee-b161-6279427871cc",
        "colab": {
          "base_uri": "https://localhost:8080/",
          "height": 167
        }
      },
      "source": [
        "(()d1.country_code.value_counts()"
      ],
      "execution_count": 0,
      "outputs": [
        {
          "output_type": "error",
          "ename": "NameError",
          "evalue": "ignored",
          "traceback": [
            "\u001b[0;31m---------------------------------------------------------------------------\u001b[0m",
            "\u001b[0;31mNameError\u001b[0m                                 Traceback (most recent call last)",
            "\u001b[0;32m<ipython-input-64-c2ed969b6370>\u001b[0m in \u001b[0;36m<module>\u001b[0;34m()\u001b[0m\n\u001b[0;32m----> 1\u001b[0;31m \u001b[0md1\u001b[0m\u001b[0;34m.\u001b[0m\u001b[0mcountry_code\u001b[0m\u001b[0;34m.\u001b[0m\u001b[0mvalue_counts\u001b[0m\u001b[0;34m(\u001b[0m\u001b[0;34m)\u001b[0m\u001b[0;34m\u001b[0m\u001b[0;34m\u001b[0m\u001b[0m\n\u001b[0m",
            "\u001b[0;31mNameError\u001b[0m: name 'd1' is not defined"
          ]
        }
      ]
    },
    {
      "cell_type": "code",
      "metadata": {
        "id": "M1CENj9dH_bP",
        "colab_type": "code",
        "colab": {}
      },
      "source": [
        "d2=pd.read_csv(files[15])\n",
        "d2.country_code.value_counts()"
      ],
      "execution_count": 0,
      "outputs": []
    },
    {
      "cell_type": "code",
      "metadata": {
        "id": "Rvms2dvhJ2Ao",
        "colab_type": "code",
        "outputId": "5a3d2c9b-5aa6-415a-b0e0-638acabdd2ea",
        "colab": {
          "base_uri": "https://localhost:8080/",
          "height": 52
        }
      },
      "source": [
        "countries=d1.country_code.unique()\n",
        "d1=d1[d1['country_code'] == 'IN']\n",
        "d1.country_code.value_counts()\n"
      ],
      "execution_count": 0,
      "outputs": [
        {
          "output_type": "execute_result",
          "data": {
            "text/plain": [
              "IN    2555\n",
              "Name: country_code, dtype: int64"
            ]
          },
          "metadata": {
            "tags": []
          },
          "execution_count": 16
        }
      ]
    },
    {
      "cell_type": "code",
      "metadata": {
        "id": "t5Bd0-HVjcNM",
        "colab_type": "code",
        "outputId": "fc066398-c875-40fe-d51f-b16a555e91c6",
        "colab": {
          "base_uri": "https://localhost:8080/",
          "height": 260
        }
      },
      "source": [
        "d1.head"
      ],
      "execution_count": 0,
      "outputs": [
        {
          "output_type": "execute_result",
          "data": {
            "text/plain": [
              "<bound method NDFrame.head of                   status_id              user_id  ... lang timeOfTweet\n",
              "2432    1244777731256201217           3281596603  ...   hi    0.086667\n",
              "5317    1244779747575353344            131807868  ...   en    0.220278\n",
              "5700    1244780043647082497  1039734733205393411  ...   en    0.239722\n",
              "7003    1244780999570948097  1214126069319491587  ...   en    0.303056\n",
              "7636    1244781449737355264           2996014381  ...   en    0.333056\n",
              "...                     ...                  ...  ...  ...         ...\n",
              "652233  1245126763258302465   807951707464343553  ...   bn   23.202222\n",
              "653204  1245127425014534146   889718907946381312  ...   hi   23.246111\n",
              "661143  1245132513019748353   941635228832952320  ...   en   23.583056\n",
              "667192  1245136694258491392            566101087  ...   en   23.860000\n",
              "667916  1245137290743054336   790869804244541441  ...   en   23.899444\n",
              "\n",
              "[2555 rows x 23 columns]>"
            ]
          },
          "metadata": {
            "tags": []
          },
          "execution_count": 17
        }
      ]
    },
    {
      "cell_type": "code",
      "metadata": {
        "id": "senlWOj-loCp",
        "colab_type": "code",
        "colab": {}
      },
      "source": [
        "#Data Preprocessing and Feature Engineering\n",
        "from textblob import TextBlob\n",
        "import re\n",
        "from nltk.corpus import stopwords\n",
        "from nltk.stem.wordnet import WordNetLemmatizer\n",
        "from sklearn.feature_extraction.text import CountVectorizer, TfidfTransformer\n"
      ],
      "execution_count": 0,
      "outputs": []
    },
    {
      "cell_type": "code",
      "metadata": {
        "id": "WLAQRP4wzaSb",
        "colab_type": "code",
        "colab": {}
      },
      "source": [
        "rdf = d1[d1['country_code']=='IN'] "
      ],
      "execution_count": 0,
      "outputs": []
    },
    {
      "cell_type": "code",
      "metadata": {
        "id": "z47Z1UgXwyDd",
        "colab_type": "code",
        "outputId": "068e93e1-37f5-48e7-8825-8803026ac1c6",
        "colab": {
          "base_uri": "https://localhost:8080/",
          "height": 35
        }
      },
      "source": [
        "rdf.shape"
      ],
      "execution_count": 0,
      "outputs": [
        {
          "output_type": "execute_result",
          "data": {
            "text/plain": [
              "(2555, 22)"
            ]
          },
          "metadata": {
            "tags": []
          },
          "execution_count": 42
        }
      ]
    },
    {
      "cell_type": "code",
      "metadata": {
        "id": "B3rLl_A2yCU_",
        "colab_type": "code",
        "outputId": "54c23f2a-f479-481a-96dc-1e501045b474",
        "colab": {
          "base_uri": "https://localhost:8080/",
          "height": 520
        }
      },
      "source": [
        "rdf.info()"
      ],
      "execution_count": 0,
      "outputs": [
        {
          "output_type": "stream",
          "text": [
            "<class 'pandas.core.frame.DataFrame'>\n",
            "Int64Index: 2555 entries, 2432 to 667916\n",
            "Data columns (total 22 columns):\n",
            " #   Column                Non-Null Count  Dtype  \n",
            "---  ------                --------------  -----  \n",
            " 0   status_id             2555 non-null   int64  \n",
            " 1   user_id               2555 non-null   int64  \n",
            " 2   created_at            2555 non-null   object \n",
            " 3   screen_name           2555 non-null   object \n",
            " 4   text                  2555 non-null   object \n",
            " 5   source                2555 non-null   object \n",
            " 6   reply_to_status_id    311 non-null    float64\n",
            " 7   reply_to_user_id      437 non-null    float64\n",
            " 8   reply_to_screen_name  437 non-null    object \n",
            " 9   is_quote              2555 non-null   bool   \n",
            " 10  is_retweet            2555 non-null   bool   \n",
            " 11  favourites_count      2555 non-null   int64  \n",
            " 12  retweet_count         2555 non-null   int64  \n",
            " 13  country_code          2555 non-null   object \n",
            " 14  place_full_name       2555 non-null   object \n",
            " 15  place_type            2555 non-null   object \n",
            " 16  followers_count       2555 non-null   int64  \n",
            " 17  friends_count         2555 non-null   int64  \n",
            " 18  account_lang          0 non-null      float64\n",
            " 19  account_created_at    2555 non-null   object \n",
            " 20  verified              2555 non-null   bool   \n",
            " 21  lang                  2555 non-null   object \n",
            "dtypes: bool(3), float64(3), int64(6), object(10)\n",
            "memory usage: 406.7+ KB\n"
          ],
          "name": "stdout"
        }
      ]
    },
    {
      "cell_type": "code",
      "metadata": {
        "id": "nsRLW8m10M5g",
        "colab_type": "code",
        "colab": {}
      },
      "source": [
        ""
      ],
      "execution_count": 0,
      "outputs": []
    }
  ]
}