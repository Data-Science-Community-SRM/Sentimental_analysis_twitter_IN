{
  "nbformat": 4,
  "nbformat_minor": 0,
  "metadata": {
    "colab": {
      "name": "Untitled3.ipynb",
      "provenance": [],
      "include_colab_link": true
    },
    "kernelspec": {
      "name": "python3",
      "display_name": "Python 3"
    }
  },
  "cells": [
    {
      "cell_type": "markdown",
      "metadata": {
        "id": "view-in-github",
        "colab_type": "text"
      },
      "source": [
        "<a href=\"https://colab.research.google.com/github/ShubhangiSoni1603/Sentimental_analysis_twitter_IN/blob/PreProces/Untitled3.ipynb\" target=\"_parent\"><img src=\"https://colab.research.google.com/assets/colab-badge.svg\" alt=\"Open In Colab\"/></a>"
      ]
    },
    {
      "cell_type": "code",
      "metadata": {
        "id": "0E7oDe1oK3Wc",
        "colab_type": "code",
        "outputId": "2429199c-1ce6-4cb4-9883-1c3691cf8cf8",
        "colab": {
          "base_uri": "https://localhost:8080/",
          "height": 70
        }
      },
      "source": [
        "# imports and set AUTH\n",
        "import numpy as np\n",
        "import pandas as pd\n",
        "import matplotlib.pyplot as plt\n",
        "import seaborn as sns\n",
        "import zipfile\n",
        "import os\n",
        "import json\n",
        "\n",
        "api_token = {\"username\":\"shubhangisoni\",\"key\":\"b9186a5ffa7ebe38a7c4bd8c48c12e4d\"}\n",
        " \n",
        "!mkdir /root/.kaggle\n",
        "\n",
        "with open('/root/.kaggle/kaggle.json', 'w') as file:\n",
        "    json.dump(api_token, file)\n"
      ],
      "execution_count": 1,
      "outputs": [
        {
          "output_type": "stream",
          "text": [
            "/usr/local/lib/python3.6/dist-packages/statsmodels/tools/_testing.py:19: FutureWarning: pandas.util.testing is deprecated. Use the functions in the public API at pandas.testing instead.\n",
            "  import pandas.util.testing as tm\n"
          ],
          "name": "stderr"
        }
      ]
    },
    {
      "cell_type": "code",
      "metadata": {
        "id": "P13rxcqVPSBF",
        "colab_type": "code",
        "outputId": "1af8a88d-2297-48b0-bd0b-a1efb85b9664",
        "colab": {
          "base_uri": "https://localhost:8080/",
          "height": 116
        }
      },
      "source": [
        "# Download Files\n",
        "!chmod 600 /root/.kaggle/kaggle.json\n",
        "!kaggle datasets download -d smid80/coronavirus-covid19-tweets-early-april\n",
        "!kaggle datasets download -d smid80/coronavirus-covid19-tweets-late-april"
      ],
      "execution_count": 2,
      "outputs": [
        {
          "output_type": "stream",
          "text": [
            "Downloading coronavirus-covid19-tweets-early-april.zip to /content\n",
            " 99% 1.29G/1.30G [00:35<00:00, 26.5MB/s]\n",
            "100% 1.30G/1.30G [00:35<00:00, 39.8MB/s]\n",
            "Downloading coronavirus-covid19-tweets-late-april.zip to /content\n",
            " 98% 929M/946M [00:23<00:00, 32.9MB/s]\n",
            "100% 946M/946M [00:24<00:00, 41.3MB/s]\n"
          ],
          "name": "stdout"
        }
      ]
    },
    {
      "cell_type": "code",
      "metadata": {
        "id": "YXHFGN1YlyoE",
        "colab_type": "code",
        "outputId": "e5a3f6f8-b9b6-4b43-fbac-302b95505a6b",
        "colab": {
          "base_uri": "https://localhost:8080/",
          "height": 83
        }
      },
      "source": [
        "os.listdir()"
      ],
      "execution_count": 3,
      "outputs": [
        {
          "output_type": "execute_result",
          "data": {
            "text/plain": [
              "['.config',\n",
              " 'coronavirus-covid19-tweets-late-april.zip',\n",
              " 'coronavirus-covid19-tweets-early-april.zip',\n",
              " 'sample_data']"
            ]
          },
          "metadata": {
            "tags": []
          },
          "execution_count": 3
        }
      ]
    },
    {
      "cell_type": "code",
      "metadata": {
        "id": "_0xQaZesdXoo",
        "colab_type": "code",
        "outputId": "cf802cd5-fab8-4bf1-ef0a-0b6ed70f7339",
        "colab": {
          "base_uri": "https://localhost:8080/",
          "height": 50
        }
      },
      "source": [
        "# Extracts info from files\n",
        "zip_ref = zipfile.ZipFile('coronavirus-covid19-tweets-early-april.zip', 'r')\n",
        "zip_ref.extractall()\n",
        "zip_ref.close()\n",
        "print(\"Extracted file 1\")\n",
        "zip_ref = zipfile.ZipFile(\"coronavirus-covid19-tweets-late-april.zip\",\"r\")\n",
        "zip_ref.extractall()\n",
        "zip_ref.close()\n",
        "print(\"Extracted file 2\")"
      ],
      "execution_count": 4,
      "outputs": [
        {
          "output_type": "stream",
          "text": [
            "Extracted file 1\n",
            "Extracted file 2\n"
          ],
          "name": "stdout"
        }
      ]
    },
    {
      "cell_type": "markdown",
      "metadata": {
        "id": "xZL4TAEG4d7H",
        "colab_type": "text"
      },
      "source": [
        "# Columns\n",
        "###status_id\n",
        ">The ID of the actual Tweet.\n",
        "\n",
        "\n",
        "###user_id\n",
        ">The ID of the user account that Tweeted.\n",
        "\n",
        "\n",
        "###created_at\n",
        ">The date and time of the Tweet.\n",
        "\n",
        "\n",
        "###screen_name\n",
        ">The screen name of the account that Tweeted.\n",
        "\n",
        "###text\n",
        ">The text of the Tweet.\n",
        "\n",
        "###source\n",
        ">The type of app used.\n",
        "\n",
        "###reply_to_status_id\n",
        ">The ID of the Tweet to which this was a reply.\n",
        "\n",
        "\n",
        "###reply_to_user_id\n",
        ">The ID of the user to whom this Tweet was a reply.\n",
        "\n",
        "\n",
        "###reply_to_screen_name\n",
        ">The screen name of the user to whom this Tweet was a reply.\n",
        "\n",
        "\n",
        "###is_quote\n",
        ">Whether this Tweet is a quote of another Tweet.\n",
        "\n",
        "\n",
        "###is_retweet\n",
        ">Whether this Tweet is a retweet.\n",
        "\n",
        "\n",
        "###favourites_count\n",
        ">The number of favourites this Tweet has received.\n",
        "\n",
        "###retweet_count\n",
        ">The number of times this Tweet has been retweeted.\n",
        "\n",
        "\n",
        "###country_code\n",
        ">The country code of the account that Tweeted.\n",
        "\n",
        "###place_full_name\n",
        ">The name of the place of the account that Tweeted.\n",
        "\n",
        "###place_type\n",
        ">A description of the type of place corresponding with place_full_name.\n",
        "\n",
        "\n",
        "###followers_count\n",
        ">The number of followers of the account that Tweeted.\n",
        "\n",
        "###friends_count\n",
        ">The number of friends of the account that Tweeted.\n",
        "\n",
        "###account_lang\n",
        ">The language of the account that Tweeted.\n",
        "\n",
        "###account_created_at\n",
        ">The date and time that the account that Tweeted was created.\n",
        "\n",
        "###verified\n",
        ">Whether the account that Tweeted is verified.\n",
        "\n",
        "###lang\n",
        ">The language of the Tweet."
      ]
    },
    {
      "cell_type": "code",
      "metadata": {
        "id": "ZmMUVIhU2Bu7",
        "colab_type": "code",
        "outputId": "8bd80988-baf9-4a99-d626-97b5bd80f730",
        "colab": {
          "base_uri": "https://localhost:8080/",
          "height": 33
        }
      },
      "source": [
        "# Get name of all file in \n",
        "files = os.listdir()\n",
        "files = [i for i in files if \".CSV\" in i]\n",
        "files.sort()\n",
        "str(len(files)) + \" files were found\""
      ],
      "execution_count": 5,
      "outputs": [
        {
          "output_type": "execute_result",
          "data": {
            "text/plain": [
              "'33 files were found'"
            ]
          },
          "metadata": {
            "tags": []
          },
          "execution_count": 5
        }
      ]
    },
    {
      "cell_type": "code",
      "metadata": {
        "id": "wSEM0KJZD29q",
        "colab_type": "code",
        "colab": {}
      },
      "source": [
        "# Extract data from files of Indian users\n",
        "def readfiles(files):\n",
        "    dat = pd.read_csv(files[0])\n",
        "    dat = dat[dat['country_code'] == 'IN']\n",
        "    dat[\"day\"] = 1\n",
        "    for i in range(1, len(files)):\n",
        "        temp = pd.read_csv(files[i])\n",
        "        temp = temp[temp['country_code'] == 'IN']\n",
        "        temp[\"day\"] = i + 1\n",
        "        dat = pd.concat([dat,temp])\n",
        "        del(temp)\n",
        "    dat = dat.reset_index(drop=True)\n",
        "    return dat\n",
        "\n",
        "dat = readfiles(files)"
      ],
      "execution_count": 0,
      "outputs": []
    },
    {
      "cell_type": "code",
      "metadata": {
        "id": "x1frHth5WyH5",
        "colab_type": "code",
        "outputId": "dac0498a-27af-4f8d-f398-63d93898d60e",
        "colab": {
          "base_uri": "https://localhost:8080/",
          "height": 516
        }
      },
      "source": [
        "# View counts and judge data. We find missing values\n",
        "dat.info()"
      ],
      "execution_count": 7,
      "outputs": [
        {
          "output_type": "stream",
          "text": [
            "<class 'pandas.core.frame.DataFrame'>\n",
            "RangeIndex: 70696 entries, 0 to 70695\n",
            "Data columns (total 23 columns):\n",
            " #   Column                Non-Null Count  Dtype  \n",
            "---  ------                --------------  -----  \n",
            " 0   status_id             70696 non-null  int64  \n",
            " 1   user_id               70696 non-null  int64  \n",
            " 2   created_at            70696 non-null  object \n",
            " 3   screen_name           70696 non-null  object \n",
            " 4   text                  70696 non-null  object \n",
            " 5   source                70696 non-null  object \n",
            " 6   reply_to_status_id    7622 non-null   float64\n",
            " 7   reply_to_user_id      10788 non-null  float64\n",
            " 8   reply_to_screen_name  10788 non-null  object \n",
            " 9   is_quote              70696 non-null  bool   \n",
            " 10  is_retweet            70696 non-null  bool   \n",
            " 11  favourites_count      70696 non-null  int64  \n",
            " 12  retweet_count         70696 non-null  int64  \n",
            " 13  country_code          70696 non-null  object \n",
            " 14  place_full_name       70696 non-null  object \n",
            " 15  place_type            70696 non-null  object \n",
            " 16  followers_count       70696 non-null  int64  \n",
            " 17  friends_count         70696 non-null  int64  \n",
            " 18  account_lang          0 non-null      float64\n",
            " 19  account_created_at    70696 non-null  object \n",
            " 20  verified              70696 non-null  bool   \n",
            " 21  lang                  70696 non-null  object \n",
            " 22  day                   70696 non-null  int64  \n",
            "dtypes: bool(3), float64(3), int64(7), object(10)\n",
            "memory usage: 11.0+ MB\n"
          ],
          "name": "stdout"
        }
      ]
    },
    {
      "cell_type": "code",
      "metadata": {
        "id": "REOjQdj6Xhe8",
        "colab_type": "code",
        "outputId": "bb8436af-8fd1-44ff-9d08-cf0bc8ce7cd0",
        "colab": {
          "base_uri": "https://localhost:8080/",
          "height": 216
        }
      },
      "source": [
        "dat[\"reply_to_screen_name\"].value_counts()"
      ],
      "execution_count": 8,
      "outputs": [
        {
          "output_type": "execute_result",
          "data": {
            "text/plain": [
              "narendramodi       686\n",
              "PMOIndia           226\n",
              "ANI                 83\n",
              "RahulGandhi         76\n",
              "aajtak              75\n",
              "                  ... \n",
              "NageshGirheNSUI      1\n",
              "mahaabadtameez       1\n",
              "mrchhetriko          1\n",
              "collector_dewas      1\n",
              "Real_Annu_           1\n",
              "Name: reply_to_screen_name, Length: 4964, dtype: int64"
            ]
          },
          "metadata": {
            "tags": []
          },
          "execution_count": 8
        }
      ]
    },
    {
      "cell_type": "markdown",
      "metadata": {
        "id": "f05AkaT5d898",
        "colab_type": "text"
      },
      "source": [
        "<em style=\"color:red;\">10788 Users have mentioned a account in their tweers while only 7622 tweets are replies to other tweets.</em>\n"
      ]
    },
    {
      "cell_type": "code",
      "metadata": {
        "id": "w_LeeXIBgcWE",
        "colab_type": "code",
        "outputId": "ef5fb111-6709-4fba-ce2b-9af9ea3f8239",
        "colab": {
          "base_uri": "https://localhost:8080/",
          "height": 216
        }
      },
      "source": [
        "# these are string objects must be converted into time\n",
        "dat[\"created_at\"] = pd.to_datetime(dat[\"created_at\"])\n",
        "dat[\"account_created_at\"] = pd.to_datetime(dat[\"account_created_at\"])\n",
        "dat[\"created_at\"]"
      ],
      "execution_count": 9,
      "outputs": [
        {
          "output_type": "execute_result",
          "data": {
            "text/plain": [
              "0       2020-03-29 00:04:06+00:00\n",
              "1       2020-03-29 00:04:55+00:00\n",
              "2       2020-03-29 00:07:20+00:00\n",
              "3       2020-03-29 00:09:14+00:00\n",
              "4       2020-03-29 00:10:34+00:00\n",
              "                   ...           \n",
              "70691   2020-04-30 23:41:17+00:00\n",
              "70692   2020-04-30 23:45:20+00:00\n",
              "70693   2020-04-30 23:46:25+00:00\n",
              "70694   2020-04-30 23:50:12+00:00\n",
              "70695   2020-04-30 23:52:09+00:00\n",
              "Name: created_at, Length: 70696, dtype: datetime64[ns, UTC]"
            ]
          },
          "metadata": {
            "tags": []
          },
          "execution_count": 9
        }
      ]
    },
    {
      "cell_type": "code",
      "metadata": {
        "id": "SrM5CnE7hBLr",
        "colab_type": "code",
        "outputId": "a411c620-acdc-45a6-d634-6f0219753954",
        "colab": {
          "base_uri": "https://localhost:8080/",
          "height": 310
        }
      },
      "source": [
        "# we can plot this to find the most number of tweets\n",
        "fig = plt.figure(figsize=(25,5))\n",
        "plt.hist(dat[\"created_at\"], bins = 33 * 5) # becasue 33 days\n",
        "plt.show()"
      ],
      "execution_count": 10,
      "outputs": [
        {
          "output_type": "display_data",
          "data": {
            "image/png": "[encoded data removed]",
            "text/plain": [
              "<Figure size 1800x360 with 1 Axes>"
            ]
          },
          "metadata": {
            "tags": [],
            "needs_background": "light"
          }
        }
      ]
    },
    {
      "cell_type": "markdown",
      "metadata": {
        "id": "c_eM4S1dtNA2",
        "colab_type": "text"
      },
      "source": [
        "<em> tweets are higher at the start of the day. Day 8 has a peak of tweets. They somewhat decrease around 13th of april\n",
        "and Increse again on 19th."
      ]
    },
    {
      "cell_type": "code",
      "metadata": {
        "id": "uPsXr77TiOnW",
        "colab_type": "code",
        "outputId": "106047f9-a02b-4e0e-9484-ae9b12b21054",
        "colab": {
          "base_uri": "https://localhost:8080/",
          "height": 583
        }
      },
      "source": [
        "daily_counts = dat[\"day\"].value_counts()\n",
        "daily_counts/daily_counts.sum()*100"
      ],
      "execution_count": 11,
      "outputs": [
        {
          "output_type": "execute_result",
          "data": {
            "text/plain": [
              "8     5.752801\n",
              "19    3.980423\n",
              "3     3.614066\n",
              "9     3.614066\n",
              "10    3.580118\n",
              "20    3.571631\n",
              "1     3.536268\n",
              "21    3.495247\n",
              "7     3.352382\n",
              "12    3.181227\n",
              "17    3.154351\n",
              "29    3.114745\n",
              "2     3.102014\n",
              "13    3.079382\n",
              "22    3.068066\n",
              "27    3.028460\n",
              "6     2.964807\n",
              "28    2.949247\n",
              "18    2.878522\n",
              "30    2.877108\n",
              "4     2.861548\n",
              "11    2.853061\n",
              "5     2.763947\n",
              "25    2.618253\n",
              "14    2.587134\n",
              "26    2.472559\n",
              "31    2.447097\n",
              "23    2.376372\n",
              "24    2.365056\n",
              "32    2.241994\n",
              "16    2.203802\n",
              "15    2.159952\n",
              "33    2.154294\n",
              "Name: day, dtype: float64"
            ]
          },
          "metadata": {
            "tags": []
          },
          "execution_count": 11
        }
      ]
    },
    {
      "cell_type": "markdown",
      "metadata": {
        "id": "zPXt2XEvjdER",
        "colab_type": "text"
      },
      "source": [
        "<em> Day 8 consists of 5.75% of the dataset, followed by day 19 with only 3.98%\n",
        "\n",
        "</em>"
      ]
    },
    {
      "cell_type": "code",
      "metadata": {
        "id": "DrfOfBRHWDJR",
        "colab_type": "code",
        "outputId": "6f581c3c-0c5f-4af1-904d-353ca637d754",
        "colab": {
          "base_uri": "https://localhost:8080/",
          "height": 312
        }
      },
      "source": [
        "fig = plt.figure(figsize=(25,5))\n",
        "plt.hist(dat[\"account_created_at\"], bins = 13*10) # becasue 33 days\n",
        "plt.show()"
      ],
      "execution_count": 12,
      "outputs": [
        {
          "output_type": "display_data",
          "data": {
            "image/png": "[encoded data removed]",
            "text/plain": [
              "<Figure size 1800x360 with 1 Axes>"
            ]
          },
          "metadata": {
            "tags": [],
            "needs_background": "light"
          }
        }
      ]
    },
    {
      "cell_type": "markdown",
      "metadata": {
        "id": "5LOBzjkVZUJE",
        "colab_type": "text"
      },
      "source": [
        "<em> There is a rise of new accounts created in 2010 because of the changes made back then.\n",
        "you can read more about it here\n",
        "https://buffer.com/resources/how-twitter-evolved-from-2006-to-2011\n",
        "\n",
        "there is also a significant rise in 2020 which shows that people are now joining twitter to share their views about the virus\n",
        "\n",
        "\n",
        "accounts made earlier from 2008 to 2010 post nearly nothing about the virus"
      ]
    },
    {
      "cell_type": "code",
      "metadata": {
        "id": "2WA2HaGwngbc",
        "colab_type": "code",
        "outputId": "ba37926a-8559-492f-a15e-244ef5054ece",
        "colab": {
          "base_uri": "https://localhost:8080/",
          "height": 247
        }
      },
      "source": [
        "sns.set_style(\"white\")\n",
        "plt.pie(dat[\"verified\"].value_counts(),labels = [\"Non-Verfied\", \"Verified\"],explode = (0.05,0.05),  autopct='%1.1f%%',colors = ['#ff9999','#66b3ff'])\n",
        "plt.show()\n",
        "# only 4% of the users have verified accounts"
      ],
      "execution_count": 13,
      "outputs": [
        {
          "output_type": "display_data",
          "data": {
            "image/png": "[encoded data removed]",
            "text/plain": [
              "<Figure size 432x288 with 1 Axes>"
            ]
          },
          "metadata": {
            "tags": []
          }
        }
      ]
    },
    {
      "cell_type": "code",
      "metadata": {
        "id": "Vp0hGLqnt_8Z",
        "colab_type": "code",
        "outputId": "47c59979-4626-4af2-d4ea-1d48adadd6ca",
        "colab": {
          "base_uri": "https://localhost:8080/",
          "height": 308
        }
      },
      "source": [
        "languagespoken = dat[\"lang\"].value_counts()\n",
        "fig = plt.figure(figsize=(25,5))\n",
        "plt.plot(languagespoken)\n",
        "plt.show()"
      ],
      "execution_count": 14,
      "outputs": [
        {
          "output_type": "display_data",
          "data": {
            "image/png": "[encoded data removed]",
            "text/plain": [
              "<Figure size 1800x360 with 1 Axes>"
            ]
          },
          "metadata": {
            "tags": []
          }
        }
      ]
    },
    {
      "cell_type": "code",
      "metadata": {
        "id": "hfSpq6m9CyiA",
        "colab_type": "code",
        "outputId": "98a63f22-287c-4684-fcfd-4a9eb4abcd82",
        "colab": {
          "base_uri": "https://localhost:8080/",
          "height": 166
        }
      },
      "source": [
        "top8langs = (languagespoken/languagespoken.sum()*100).head(8)\n",
        "top8langs"
      ],
      "execution_count": 15,
      "outputs": [
        {
          "output_type": "execute_result",
          "data": {
            "text/plain": [
              "en     58.868960\n",
              "hi     21.825846\n",
              "und    10.744597\n",
              "mr      2.281600\n",
              "ta      1.241937\n",
              "in      0.827487\n",
              "gu      0.620969\n",
              "te      0.479518\n",
              "Name: lang, dtype: float64"
            ]
          },
          "metadata": {
            "tags": []
          },
          "execution_count": 15
        }
      ]
    },
    {
      "cell_type": "code",
      "metadata": {
        "id": "XpoJjY1uCgJN",
        "colab_type": "code",
        "outputId": "6ae8d455-d210-4696-ae25-d560e2a95fd4",
        "colab": {
          "base_uri": "https://localhost:8080/",
          "height": 33
        }
      },
      "source": [
        "100 - (58.868960+21.825846+10.744597+2.281600+1.241937) # top 5 languages"
      ],
      "execution_count": 16,
      "outputs": [
        {
          "output_type": "execute_result",
          "data": {
            "text/plain": [
              "5.037059999999997"
            ]
          },
          "metadata": {
            "tags": []
          },
          "execution_count": 16
        }
      ]
    },
    {
      "cell_type": "code",
      "metadata": {
        "id": "X22dqVUWCRL7",
        "colab_type": "code",
        "outputId": "7cadc230-4ede-4564-c5e4-32154c714086",
        "colab": {
          "base_uri": "https://localhost:8080/",
          "height": 264
        }
      },
      "source": [
        "sns.barplot(x = top8langs.values,y=top8langs.index,palette=\"Blues_d\")\n",
        "plt.show()"
      ],
      "execution_count": 17,
      "outputs": [
        {
          "output_type": "display_data",
          "data": {
            "image/png": "[encoded data removed]",
            "text/plain": [
              "<Figure size 432x288 with 1 Axes>"
            ]
          },
          "metadata": {
            "tags": []
          }
        }
      ]
    },
    {
      "cell_type": "markdown",
      "metadata": {
        "id": "-rYUkx83F2iu",
        "colab_type": "text"
      },
      "source": [
        "<em> English, Hindi, Marathi and Tamil make up for 95% of the tweet languages with English being the most prominent one."
      ]
    },
    {
      "cell_type": "code",
      "metadata": {
        "id": "LP2ALGbmDWKm",
        "colab_type": "code",
        "outputId": "9ff4b0b9-e4e2-4b03-85f5-c7972eba1f73",
        "colab": {
          "base_uri": "https://localhost:8080/",
          "height": 33
        }
      },
      "source": [
        "top8langs.index"
      ],
      "execution_count": 18,
      "outputs": [
        {
          "output_type": "execute_result",
          "data": {
            "text/plain": [
              "Index(['en', 'hi', 'und', 'mr', 'ta', 'in', 'gu', 'te'], dtype='object')"
            ]
          },
          "metadata": {
            "tags": []
          },
          "execution_count": 18
        }
      ]
    },
    {
      "cell_type": "code",
      "metadata": {
        "id": "acfjD6ffDM9O",
        "colab_type": "code",
        "outputId": "60eca811-6fc5-40c2-d24e-150df2d61117",
        "colab": {
          "base_uri": "https://localhost:8080/",
          "height": 266
        }
      },
      "source": [
        "# renamed languages as other\n",
        "dat[\"lang\"].loc[dat[\"lang\"].isin(top8langs.index) == False] = \"Other\"\n",
        "dat[\"lang\"].value_counts()"
      ],
      "execution_count": 19,
      "outputs": [
        {
          "output_type": "stream",
          "text": [
            "/usr/local/lib/python3.6/dist-packages/pandas/core/indexing.py:671: SettingWithCopyWarning: \n",
            "A value is trying to be set on a copy of a slice from a DataFrame\n",
            "\n",
            "See the caveats in the documentation: https://pandas.pydata.org/pandas-docs/stable/user_guide/indexing.html#returning-a-view-versus-a-copy\n",
            "  self._setitem_with_indexer(indexer, value)\n"
          ],
          "name": "stderr"
        },
        {
          "output_type": "execute_result",
          "data": {
            "text/plain": [
              "en       41618\n",
              "hi       15430\n",
              "und       7596\n",
              "Other     2198\n",
              "mr        1613\n",
              "ta         878\n",
              "in         585\n",
              "gu         439\n",
              "te         339\n",
              "Name: lang, dtype: int64"
            ]
          },
          "metadata": {
            "tags": []
          },
          "execution_count": 19
        }
      ]
    },
    {
      "cell_type": "code",
      "metadata": {
        "id": "IIBM0viJ1ngF",
        "colab_type": "code",
        "outputId": "ca978df9-c203-4f0c-e130-5ef7e9023cac",
        "colab": {
          "base_uri": "https://localhost:8080/",
          "height": 316
        }
      },
      "source": [
        "source = dat[\"source\"].value_counts()\n",
        "#source = source/source.sum()*100\n",
        "source # will take only the top 6values other will be renamed as other"
      ],
      "execution_count": 20,
      "outputs": [
        {
          "output_type": "execute_result",
          "data": {
            "text/plain": [
              "Twitter for Android        56078\n",
              "Twitter for iPhone         11897\n",
              "Instagram                   2490\n",
              "Twitter for iPad             126\n",
              "Twitter Web Client            48\n",
              "Twitter for Mac               17\n",
              "Hootsuite Inc.                16\n",
              "Tweetbot for iΟS              10\n",
              "TWEET.PHOTO                    3\n",
              "Flamingo for Android           2\n",
              "Sprout Social                  2\n",
              "Tweetbot for Mac               2\n",
              "TweetCaster for Android        1\n",
              "SocialRecharge                 1\n",
              "WordPress.com                  1\n",
              "Crowdfire App                  1\n",
              "UberSocial for Android         1\n",
              "Name: source, dtype: int64"
            ]
          },
          "metadata": {
            "tags": []
          },
          "execution_count": 20
        }
      ]
    },
    {
      "cell_type": "code",
      "metadata": {
        "id": "ZbGCVpWmGRRm",
        "colab_type": "code",
        "outputId": "720051a6-a836-4d58-cadb-15faa2307ffa",
        "colab": {
          "base_uri": "https://localhost:8080/",
          "height": 233
        }
      },
      "source": [
        "dat[\"source\"].loc[dat[\"source\"].isin(source.head(6).index) == False] = \"Other\"\n",
        "dat[\"source\"].value_counts()"
      ],
      "execution_count": 21,
      "outputs": [
        {
          "output_type": "stream",
          "text": [
            "/usr/local/lib/python3.6/dist-packages/pandas/core/indexing.py:671: SettingWithCopyWarning: \n",
            "A value is trying to be set on a copy of a slice from a DataFrame\n",
            "\n",
            "See the caveats in the documentation: https://pandas.pydata.org/pandas-docs/stable/user_guide/indexing.html#returning-a-view-versus-a-copy\n",
            "  self._setitem_with_indexer(indexer, value)\n"
          ],
          "name": "stderr"
        },
        {
          "output_type": "execute_result",
          "data": {
            "text/plain": [
              "Twitter for Android    56078\n",
              "Twitter for iPhone     11897\n",
              "Instagram               2490\n",
              "Twitter for iPad         126\n",
              "Twitter Web Client        48\n",
              "Other                     40\n",
              "Twitter for Mac           17\n",
              "Name: source, dtype: int64"
            ]
          },
          "metadata": {
            "tags": []
          },
          "execution_count": 21
        }
      ]
    },
    {
      "cell_type": "code",
      "metadata": {
        "id": "maGb8UPBFpKo",
        "colab_type": "code",
        "outputId": "c9f8d742-743c-4fe7-dada-7340a6705761",
        "colab": {
          "base_uri": "https://localhost:8080/",
          "height": 397
        }
      },
      "source": [
        "source = dat[\"source\"].value_counts()\n",
        "source = source/source.sum()*100\n",
        "sns.barplot(x = source.values,y=source.index,palette=\"Blues_d\")\n",
        "plt.show()\n",
        "source"
      ],
      "execution_count": 22,
      "outputs": [
        {
          "output_type": "display_data",
          "data": {
            "image/png": "[encoded data removed]",
            "text/plain": [
              "<Figure size 432x288 with 1 Axes>"
            ]
          },
          "metadata": {
            "tags": []
          }
        },
        {
          "output_type": "execute_result",
          "data": {
            "text/plain": [
              "Twitter for Android    79.322734\n",
              "Twitter for iPhone     16.828392\n",
              "Instagram               3.522123\n",
              "Twitter for iPad        0.178228\n",
              "Twitter Web Client      0.067896\n",
              "Other                   0.056580\n",
              "Twitter for Mac         0.024047\n",
              "Name: source, dtype: float64"
            ]
          },
          "metadata": {
            "tags": []
          },
          "execution_count": 22
        }
      ]
    },
    {
      "cell_type": "code",
      "metadata": {
        "id": "8jjmeXstLdXL",
        "colab_type": "code",
        "outputId": "a82a3fb7-429e-4fed-f10c-f7b540ef6cb7",
        "colab": {
          "base_uri": "https://localhost:8080/",
          "height": 247
        }
      },
      "source": [
        "plt.pie(dat.is_quote.value_counts(),labels = [\"\",\"Are quotes\"],autopct='%1.1f%%')\n",
        "plt.show()"
      ],
      "execution_count": 23,
      "outputs": [
        {
          "output_type": "display_data",
          "data": {
            "image/png": "[encoded data removed]",
            "text/plain": [
              "<Figure size 432x288 with 1 Axes>"
            ]
          },
          "metadata": {
            "tags": []
          }
        }
      ]
    },
    {
      "cell_type": "code",
      "metadata": {
        "id": "ND7QNaJeppyJ",
        "colab_type": "code",
        "outputId": "7c1181b3-7161-4e53-95e3-3b01f679bdf4",
        "colab": {
          "base_uri": "https://localhost:8080/",
          "height": 50
        }
      },
      "source": [
        "dat.is_retweet.value_counts() # none of them are retweets"
      ],
      "execution_count": 24,
      "outputs": [
        {
          "output_type": "execute_result",
          "data": {
            "text/plain": [
              "False    70696\n",
              "Name: is_retweet, dtype: int64"
            ]
          },
          "metadata": {
            "tags": []
          },
          "execution_count": 24
        }
      ]
    },
    {
      "cell_type": "code",
      "metadata": {
        "id": "QdP1ehdAqJdO",
        "colab_type": "code",
        "outputId": "8580f373-69ea-475e-a192-a3754da93fdd",
        "colab": {
          "base_uri": "https://localhost:8080/",
          "height": 701
        }
      },
      "source": [
        "dat.sort_values([\"favourites_count\"],ascending=False).head(10)"
      ],
      "execution_count": 25,
      "outputs": [
        {
          "output_type": "execute_result",
          "data": {
            "text/html": [
              "<div>\n",
              "<style scoped>\n",
              "    .dataframe tbody tr th:only-of-type {\n",
              "        vertical-align: middle;\n",
              "    }\n",
              "\n",
              "    .dataframe tbody tr th {\n",
              "        vertical-align: top;\n",
              "    }\n",
              "\n",
              "    .dataframe thead th {\n",
              "        text-align: right;\n",
              "    }\n",
              "</style>\n",
              "<table border=\"1\" class=\"dataframe\">\n",
              "  <thead>\n",
              "    <tr style=\"text-align: right;\">\n",
              "      <th></th>\n",
              "      <th>status_id</th>\n",
              "      <th>user_id</th>\n",
              "      <th>created_at</th>\n",
              "      <th>screen_name</th>\n",
              "      <th>text</th>\n",
              "      <th>source</th>\n",
              "      <th>reply_to_status_id</th>\n",
              "      <th>reply_to_user_id</th>\n",
              "      <th>reply_to_screen_name</th>\n",
              "      <th>is_quote</th>\n",
              "      <th>is_retweet</th>\n",
              "      <th>favourites_count</th>\n",
              "      <th>retweet_count</th>\n",
              "      <th>country_code</th>\n",
              "      <th>place_full_name</th>\n",
              "      <th>place_type</th>\n",
              "      <th>followers_count</th>\n",
              "      <th>friends_count</th>\n",
              "      <th>account_lang</th>\n",
              "      <th>account_created_at</th>\n",
              "      <th>verified</th>\n",
              "      <th>lang</th>\n",
              "      <th>day</th>\n",
              "    </tr>\n",
              "  </thead>\n",
              "  <tbody>\n",
              "    <tr>\n",
              "      <th>68143</th>\n",
              "      <td>1255396078343651328</td>\n",
              "      <td>1173820242</td>\n",
              "      <td>2020-04-29 07:18:43+00:00</td>\n",
              "      <td>PratikAgrawal90</td>\n",
              "      <td>सभी देशवासियों को द्वादश ज्योतिर्लिंग में से ए...</td>\n",
              "      <td>Twitter for iPhone</td>\n",
              "      <td>NaN</td>\n",
              "      <td>NaN</td>\n",
              "      <td>NaN</td>\n",
              "      <td>False</td>\n",
              "      <td>False</td>\n",
              "      <td>687781</td>\n",
              "      <td>0</td>\n",
              "      <td>IN</td>\n",
              "      <td>Raigarh, India</td>\n",
              "      <td>city</td>\n",
              "      <td>2767</td>\n",
              "      <td>659</td>\n",
              "      <td>NaN</td>\n",
              "      <td>2013-02-13 04:00:53+00:00</td>\n",
              "      <td>False</td>\n",
              "      <td>hi</td>\n",
              "      <td>32</td>\n",
              "    </tr>\n",
              "    <tr>\n",
              "      <th>51917</th>\n",
              "      <td>1252290923519713280</td>\n",
              "      <td>1173820242</td>\n",
              "      <td>2020-04-20 17:39:57+00:00</td>\n",
              "      <td>PratikAgrawal90</td>\n",
              "      <td>मुम्बई में मीडिया के करीब पचास साथी #Coronavir...</td>\n",
              "      <td>Twitter for iPhone</td>\n",
              "      <td>NaN</td>\n",
              "      <td>NaN</td>\n",
              "      <td>NaN</td>\n",
              "      <td>False</td>\n",
              "      <td>False</td>\n",
              "      <td>686396</td>\n",
              "      <td>1</td>\n",
              "      <td>IN</td>\n",
              "      <td>Raigarh, India</td>\n",
              "      <td>city</td>\n",
              "      <td>2775</td>\n",
              "      <td>657</td>\n",
              "      <td>NaN</td>\n",
              "      <td>2013-02-13 04:00:53+00:00</td>\n",
              "      <td>False</td>\n",
              "      <td>hi</td>\n",
              "      <td>23</td>\n",
              "    </tr>\n",
              "    <tr>\n",
              "      <th>44542</th>\n",
              "      <td>1251100700504813570</td>\n",
              "      <td>1173820242</td>\n",
              "      <td>2020-04-17 10:50:25+00:00</td>\n",
              "      <td>PratikAgrawal90</td>\n",
              "      <td>कोशिशों के सुफल!\\n\\n#COVID19 के खिलाफ जंग में ...</td>\n",
              "      <td>Twitter for iPhone</td>\n",
              "      <td>NaN</td>\n",
              "      <td>NaN</td>\n",
              "      <td>NaN</td>\n",
              "      <td>False</td>\n",
              "      <td>False</td>\n",
              "      <td>685933</td>\n",
              "      <td>0</td>\n",
              "      <td>IN</td>\n",
              "      <td>Raigarh, India</td>\n",
              "      <td>city</td>\n",
              "      <td>2783</td>\n",
              "      <td>655</td>\n",
              "      <td>NaN</td>\n",
              "      <td>2013-02-13 04:00:53+00:00</td>\n",
              "      <td>False</td>\n",
              "      <td>hi</td>\n",
              "      <td>20</td>\n",
              "    </tr>\n",
              "    <tr>\n",
              "      <th>44043</th>\n",
              "      <td>1251049162004525057</td>\n",
              "      <td>1173820242</td>\n",
              "      <td>2020-04-17 07:25:38+00:00</td>\n",
              "      <td>PratikAgrawal90</td>\n",
              "      <td>कोरोना #COVID19 वायरस के संक्रमण से आम आदमी को...</td>\n",
              "      <td>Twitter for iPhone</td>\n",
              "      <td>NaN</td>\n",
              "      <td>NaN</td>\n",
              "      <td>NaN</td>\n",
              "      <td>False</td>\n",
              "      <td>False</td>\n",
              "      <td>685680</td>\n",
              "      <td>0</td>\n",
              "      <td>IN</td>\n",
              "      <td>Raigarh, India</td>\n",
              "      <td>city</td>\n",
              "      <td>2781</td>\n",
              "      <td>654</td>\n",
              "      <td>NaN</td>\n",
              "      <td>2013-02-13 04:00:53+00:00</td>\n",
              "      <td>False</td>\n",
              "      <td>hi</td>\n",
              "      <td>20</td>\n",
              "    </tr>\n",
              "    <tr>\n",
              "      <th>21832</th>\n",
              "      <td>1247207452342280193</td>\n",
              "      <td>1173820242</td>\n",
              "      <td>2020-04-06 17:00:03+00:00</td>\n",
              "      <td>PratikAgrawal90</td>\n",
              "      <td>संकट की इस घड़ी में जब पूरा देश Corona COVID-1...</td>\n",
              "      <td>Twitter for iPhone</td>\n",
              "      <td>1.247207e+18</td>\n",
              "      <td>1.173820e+09</td>\n",
              "      <td>PratikAgrawal90</td>\n",
              "      <td>False</td>\n",
              "      <td>False</td>\n",
              "      <td>684200</td>\n",
              "      <td>0</td>\n",
              "      <td>IN</td>\n",
              "      <td>Raigarh, India</td>\n",
              "      <td>city</td>\n",
              "      <td>2783</td>\n",
              "      <td>654</td>\n",
              "      <td>NaN</td>\n",
              "      <td>2013-02-13 04:00:53+00:00</td>\n",
              "      <td>False</td>\n",
              "      <td>hi</td>\n",
              "      <td>9</td>\n",
              "    </tr>\n",
              "    <tr>\n",
              "      <th>31691</th>\n",
              "      <td>1248851014217691138</td>\n",
              "      <td>1173820242</td>\n",
              "      <td>2020-04-11 05:50:58+00:00</td>\n",
              "      <td>PratikAgrawal90</td>\n",
              "      <td>#COVID19 stands still for no one. We're here, ...</td>\n",
              "      <td>Twitter for iPhone</td>\n",
              "      <td>NaN</td>\n",
              "      <td>NaN</td>\n",
              "      <td>NaN</td>\n",
              "      <td>False</td>\n",
              "      <td>False</td>\n",
              "      <td>684015</td>\n",
              "      <td>0</td>\n",
              "      <td>IN</td>\n",
              "      <td>Raigarh, India</td>\n",
              "      <td>city</td>\n",
              "      <td>2781</td>\n",
              "      <td>655</td>\n",
              "      <td>NaN</td>\n",
              "      <td>2013-02-13 04:00:53+00:00</td>\n",
              "      <td>False</td>\n",
              "      <td>en</td>\n",
              "      <td>14</td>\n",
              "    </tr>\n",
              "    <tr>\n",
              "      <th>30065</th>\n",
              "      <td>1248551104406638592</td>\n",
              "      <td>1173820242</td>\n",
              "      <td>2020-04-10 09:59:14+00:00</td>\n",
              "      <td>PratikAgrawal90</td>\n",
              "      <td>लॉकडाउन के दौरान खुशी देने वाले कार्यों में अप...</td>\n",
              "      <td>Twitter for iPhone</td>\n",
              "      <td>NaN</td>\n",
              "      <td>NaN</td>\n",
              "      <td>NaN</td>\n",
              "      <td>False</td>\n",
              "      <td>False</td>\n",
              "      <td>684014</td>\n",
              "      <td>0</td>\n",
              "      <td>IN</td>\n",
              "      <td>Raigarh, India</td>\n",
              "      <td>city</td>\n",
              "      <td>2782</td>\n",
              "      <td>655</td>\n",
              "      <td>NaN</td>\n",
              "      <td>2013-02-13 04:00:53+00:00</td>\n",
              "      <td>False</td>\n",
              "      <td>hi</td>\n",
              "      <td>13</td>\n",
              "    </tr>\n",
              "    <tr>\n",
              "      <th>32055</th>\n",
              "      <td>1248894123710361600</td>\n",
              "      <td>1173820242</td>\n",
              "      <td>2020-04-11 08:42:17+00:00</td>\n",
              "      <td>PratikAgrawal90</td>\n",
              "      <td>माननीय प्रधानमंत्री @narendramodi जी ने सभी मु...</td>\n",
              "      <td>Twitter for iPhone</td>\n",
              "      <td>NaN</td>\n",
              "      <td>NaN</td>\n",
              "      <td>NaN</td>\n",
              "      <td>False</td>\n",
              "      <td>False</td>\n",
              "      <td>684011</td>\n",
              "      <td>0</td>\n",
              "      <td>IN</td>\n",
              "      <td>Raigarh, India</td>\n",
              "      <td>city</td>\n",
              "      <td>2780</td>\n",
              "      <td>655</td>\n",
              "      <td>NaN</td>\n",
              "      <td>2013-02-13 04:00:53+00:00</td>\n",
              "      <td>False</td>\n",
              "      <td>hi</td>\n",
              "      <td>14</td>\n",
              "    </tr>\n",
              "    <tr>\n",
              "      <th>30438</th>\n",
              "      <td>1248599982858354693</td>\n",
              "      <td>1173820242</td>\n",
              "      <td>2020-04-10 13:13:28+00:00</td>\n",
              "      <td>PratikAgrawal90</td>\n",
              "      <td>You are more prone to catching #COVID-19 infec...</td>\n",
              "      <td>Twitter for iPhone</td>\n",
              "      <td>NaN</td>\n",
              "      <td>NaN</td>\n",
              "      <td>NaN</td>\n",
              "      <td>False</td>\n",
              "      <td>False</td>\n",
              "      <td>683824</td>\n",
              "      <td>0</td>\n",
              "      <td>IN</td>\n",
              "      <td>Raigarh, India</td>\n",
              "      <td>city</td>\n",
              "      <td>2780</td>\n",
              "      <td>656</td>\n",
              "      <td>NaN</td>\n",
              "      <td>2013-02-13 04:00:53+00:00</td>\n",
              "      <td>False</td>\n",
              "      <td>en</td>\n",
              "      <td>13</td>\n",
              "    </tr>\n",
              "    <tr>\n",
              "      <th>10580</th>\n",
              "      <td>1245723474309443585</td>\n",
              "      <td>1173820242</td>\n",
              "      <td>2020-04-02 14:43:15+00:00</td>\n",
              "      <td>PratikAgrawal90</td>\n",
              "      <td>प्रधानमंत्री श्री @narendramodi जी दूरदर्शी है...</td>\n",
              "      <td>Twitter for iPhone</td>\n",
              "      <td>NaN</td>\n",
              "      <td>NaN</td>\n",
              "      <td>NaN</td>\n",
              "      <td>False</td>\n",
              "      <td>False</td>\n",
              "      <td>681513</td>\n",
              "      <td>0</td>\n",
              "      <td>IN</td>\n",
              "      <td>Raigarh, India</td>\n",
              "      <td>city</td>\n",
              "      <td>2775</td>\n",
              "      <td>652</td>\n",
              "      <td>NaN</td>\n",
              "      <td>2013-02-13 04:00:53+00:00</td>\n",
              "      <td>False</td>\n",
              "      <td>hi</td>\n",
              "      <td>5</td>\n",
              "    </tr>\n",
              "  </tbody>\n",
              "</table>\n",
              "</div>"
            ],
            "text/plain": [
              "                 status_id     user_id  ... lang day\n",
              "68143  1255396078343651328  1173820242  ...   hi  32\n",
              "51917  1252290923519713280  1173820242  ...   hi  23\n",
              "44542  1251100700504813570  1173820242  ...   hi  20\n",
              "44043  1251049162004525057  1173820242  ...   hi  20\n",
              "21832  1247207452342280193  1173820242  ...   hi   9\n",
              "31691  1248851014217691138  1173820242  ...   en  14\n",
              "30065  1248551104406638592  1173820242  ...   hi  13\n",
              "32055  1248894123710361600  1173820242  ...   hi  14\n",
              "30438  1248599982858354693  1173820242  ...   en  13\n",
              "10580  1245723474309443585  1173820242  ...   hi   5\n",
              "\n",
              "[10 rows x 23 columns]"
            ]
          },
          "metadata": {
            "tags": []
          },
          "execution_count": 25
        }
      ]
    },
    {
      "cell_type": "markdown",
      "metadata": {
        "id": "CAEdZQ3qsor9",
        "colab_type": "text"
      },
      "source": [
        "Tweets from these accounts recive the highest likes \n",
        "* PratikAgrawal90, \n",
        "* AkramShahBJP, \n",
        "* apn_10, \n",
        "* HarbirSinghSuri,\n",
        "* Shahidbabu786,\n",
        "* DhfmDathu,\n",
        "* ArunDehingia,\t"
      ]
    },
    {
      "cell_type": "code",
      "metadata": {
        "id": "vvWoThfhtOCC",
        "colab_type": "code",
        "outputId": "20569b4d-4481-47aa-d4d2-53025581349e",
        "colab": {
          "base_uri": "https://localhost:8080/",
          "height": 70
        }
      },
      "source": [
        "print(dat.sort_values([\"retweet_count\"],ascending=False).text.iloc[100])"
      ],
      "execution_count": 34,
      "outputs": [
        {
          "output_type": "stream",
          "text": [
            "Make him famous ✊🏻\n",
            "झारखण्ड,बोकारो के रहने वाले,B.I.T.रांची से इंजीनियरिंग करने वाले,भारतीय प्रशासनिक सेवा के पदाधिकारी श्री आदित्य रंजन! #Covid_19  सैंपल के जाँच के लिए एक चलंत बूथ बनाया, कोरोना पॉजिटिव मरीजों को आइसोलेशन वार्ड में भोजन और दवा देने हेतु एक स्वचालित ट्रॉली बनाया! https://t.co/YH9ShP6uVK\n"
          ],
          "name": "stdout"
        }
      ]
    },
    {
      "cell_type": "markdown",
      "metadata": {
        "id": "vPhibz8_ujIT",
        "colab_type": "text"
      },
      "source": [
        "That's the most retweeted text"
      ]
    },
    {
      "cell_type": "code",
      "metadata": {
        "id": "cfUDwjrwuzEu",
        "colab_type": "code",
        "outputId": "7f6c607f-baff-424b-992f-623e9cab2cfe",
        "colab": {
          "base_uri": "https://localhost:8080/",
          "height": 280
        }
      },
      "source": [
        "#plt.yscale(\"log\")\n",
        "\n",
        "sns.scatterplot(x = \"retweet_count\", y =\"favourites_count\", data = dat)\n",
        "plt.show()"
      ],
      "execution_count": 35,
      "outputs": [
        {
          "output_type": "display_data",
          "data": {
            "image/png": "[encoded data removed]",
            "text/plain": [
              "<Figure size 432x288 with 1 Axes>"
            ]
          },
          "metadata": {
            "tags": []
          }
        }
      ]
    },
    {
      "cell_type": "code",
      "metadata": {
        "id": "ec8h2QEfGyGO",
        "colab_type": "code",
        "outputId": "6289f21a-4e0c-46ce-c72b-d2443c3f6730",
        "colab": {
          "base_uri": "https://localhost:8080/",
          "height": 296
        }
      },
      "source": [
        "#fig = plt.figure(figsize=(20,10))\n",
        "sns.relplot(x = \"account_created_at\", y =\"retweet_count\", data = dat[dat.retweet_count//40 != 0],aspect = 5,hue = \"verified\")\n",
        "#plt.show()"
      ],
      "execution_count": 89,
      "outputs": [
        {
          "output_type": "execute_result",
          "data": {
            "text/plain": [
              "<seaborn.axisgrid.FacetGrid at 0x7f4cc1a042e8>"
            ]
          },
          "metadata": {
            "tags": []
          },
          "execution_count": 89
        },
        {
          "output_type": "display_data",
          "data": {
            "image/png": "[encoded data removed]",
            "text/plain": [
              "<Figure size 1874x360 with 1 Axes>"
            ]
          },
          "metadata": {
            "tags": []
          }
        }
      ]
    },
    {
      "cell_type": "markdown",
      "metadata": {
        "id": "Xrxbq3DAfgim",
        "colab_type": "text"
      },
      "source": [
        "<em> accounts made from 2009 to 20014 recive higher retweets then thoes in 2016 to 2020. Even though many accounts were made in 2020 which talk about the virus.\n",
        "\n",
        "most verified accounts recive higher tweets and were made near 2010"
      ]
    },
    {
      "cell_type": "code",
      "metadata": {
        "id": "cxO6CJMtkGnY",
        "colab_type": "code",
        "colab": {
          "base_uri": "https://localhost:8080/",
          "height": 436
        },
        "outputId": "f480a0b5-77a7-4c20-ff90-685347d36d39"
      },
      "source": [
        "accountfollowergroup = dat.groupby(\"screen_name\").followers_count\n",
        "accountfriendgroup = dat.groupby(\"screen_name\").friends_count\n",
        "followerstats = pd.DataFrame({\"firstfl\":accountfollowergroup.first(),\n",
        "                              \"lastfl\":accountfollowergroup.last(),\n",
        "                              \"firstfr\":accountfriendgroup.first(),\n",
        "                              \"lastfr\":accountfriendgroup.last()})\n",
        "followerstats[\"diff_fl\"] = followerstats[\"lastfl\"] - followerstats[\"firstfl\"]\n",
        "followerstats[\"diff_fr\"] = followerstats[\"lastfr\"] - followerstats[\"firstfr\"]\n",
        "followerstats.sort_values(\"diff_fr\")\n"
      ],
      "execution_count": 174,
      "outputs": [
        {
          "output_type": "execute_result",
          "data": {
            "text/html": [
              "<div>\n",
              "<style scoped>\n",
              "    .dataframe tbody tr th:only-of-type {\n",
              "        vertical-align: middle;\n",
              "    }\n",
              "\n",
              "    .dataframe tbody tr th {\n",
              "        vertical-align: top;\n",
              "    }\n",
              "\n",
              "    .dataframe thead th {\n",
              "        text-align: right;\n",
              "    }\n",
              "</style>\n",
              "<table border=\"1\" class=\"dataframe\">\n",
              "  <thead>\n",
              "    <tr style=\"text-align: right;\">\n",
              "      <th></th>\n",
              "      <th>firstfl</th>\n",
              "      <th>lastfl</th>\n",
              "      <th>firstfr</th>\n",
              "      <th>lastfr</th>\n",
              "      <th>diff_fl</th>\n",
              "      <th>diff_fr</th>\n",
              "    </tr>\n",
              "    <tr>\n",
              "      <th>screen_name</th>\n",
              "      <th></th>\n",
              "      <th></th>\n",
              "      <th></th>\n",
              "      <th></th>\n",
              "      <th></th>\n",
              "      <th></th>\n",
              "    </tr>\n",
              "  </thead>\n",
              "  <tbody>\n",
              "    <tr>\n",
              "      <th>RAJPALBJP</th>\n",
              "      <td>55308</td>\n",
              "      <td>55445</td>\n",
              "      <td>22415</td>\n",
              "      <td>901</td>\n",
              "      <td>137</td>\n",
              "      <td>-21514</td>\n",
              "    </tr>\n",
              "    <tr>\n",
              "      <th>kavitaashok1969</th>\n",
              "      <td>2258</td>\n",
              "      <td>2548</td>\n",
              "      <td>4994</td>\n",
              "      <td>1673</td>\n",
              "      <td>290</td>\n",
              "      <td>-3321</td>\n",
              "    </tr>\n",
              "    <tr>\n",
              "      <th>veerabathran29</th>\n",
              "      <td>1604</td>\n",
              "      <td>1616</td>\n",
              "      <td>3426</td>\n",
              "      <td>166</td>\n",
              "      <td>12</td>\n",
              "      <td>-3260</td>\n",
              "    </tr>\n",
              "    <tr>\n",
              "      <th>MacAdvertiser</th>\n",
              "      <td>1326</td>\n",
              "      <td>1314</td>\n",
              "      <td>3293</td>\n",
              "      <td>327</td>\n",
              "      <td>-12</td>\n",
              "      <td>-2966</td>\n",
              "    </tr>\n",
              "    <tr>\n",
              "      <th>rpmishra</th>\n",
              "      <td>507</td>\n",
              "      <td>509</td>\n",
              "      <td>2648</td>\n",
              "      <td>160</td>\n",
              "      <td>2</td>\n",
              "      <td>-2488</td>\n",
              "    </tr>\n",
              "    <tr>\n",
              "      <th>...</th>\n",
              "      <td>...</td>\n",
              "      <td>...</td>\n",
              "      <td>...</td>\n",
              "      <td>...</td>\n",
              "      <td>...</td>\n",
              "      <td>...</td>\n",
              "    </tr>\n",
              "    <tr>\n",
              "      <th>msunilbishnoi</th>\n",
              "      <td>27066</td>\n",
              "      <td>28482</td>\n",
              "      <td>20221</td>\n",
              "      <td>22396</td>\n",
              "      <td>1416</td>\n",
              "      <td>2175</td>\n",
              "    </tr>\n",
              "    <tr>\n",
              "      <th>Akshaykyadaoffi</th>\n",
              "      <td>3273</td>\n",
              "      <td>3864</td>\n",
              "      <td>2010</td>\n",
              "      <td>4311</td>\n",
              "      <td>591</td>\n",
              "      <td>2301</td>\n",
              "    </tr>\n",
              "    <tr>\n",
              "      <th>GulzebAhmed</th>\n",
              "      <td>5737</td>\n",
              "      <td>8777</td>\n",
              "      <td>40</td>\n",
              "      <td>3185</td>\n",
              "      <td>3040</td>\n",
              "      <td>3145</td>\n",
              "    </tr>\n",
              "    <tr>\n",
              "      <th>AbhishekDurgCG</th>\n",
              "      <td>17305</td>\n",
              "      <td>18512</td>\n",
              "      <td>5708</td>\n",
              "      <td>10242</td>\n",
              "      <td>1207</td>\n",
              "      <td>4534</td>\n",
              "    </tr>\n",
              "    <tr>\n",
              "      <th>KhannaPal</th>\n",
              "      <td>14275</td>\n",
              "      <td>15447</td>\n",
              "      <td>3891</td>\n",
              "      <td>10464</td>\n",
              "      <td>1172</td>\n",
              "      <td>6573</td>\n",
              "    </tr>\n",
              "  </tbody>\n",
              "</table>\n",
              "<p>28026 rows × 6 columns</p>\n",
              "</div>"
            ],
            "text/plain": [
              "                 firstfl  lastfl  firstfr  lastfr  diff_fl  diff_fr\n",
              "screen_name                                                        \n",
              "RAJPALBJP          55308   55445    22415     901      137   -21514\n",
              "kavitaashok1969     2258    2548     4994    1673      290    -3321\n",
              "veerabathran29      1604    1616     3426     166       12    -3260\n",
              "MacAdvertiser       1326    1314     3293     327      -12    -2966\n",
              "rpmishra             507     509     2648     160        2    -2488\n",
              "...                  ...     ...      ...     ...      ...      ...\n",
              "msunilbishnoi      27066   28482    20221   22396     1416     2175\n",
              "Akshaykyadaoffi     3273    3864     2010    4311      591     2301\n",
              "GulzebAhmed         5737    8777       40    3185     3040     3145\n",
              "AbhishekDurgCG     17305   18512     5708   10242     1207     4534\n",
              "KhannaPal          14275   15447     3891   10464     1172     6573\n",
              "\n",
              "[28026 rows x 6 columns]"
            ]
          },
          "metadata": {
            "tags": []
          },
          "execution_count": 174
        }
      ]
    },
    {
      "cell_type": "code",
      "metadata": {
        "id": "KK0jy9Za1RuE",
        "colab_type": "code",
        "colab": {
          "base_uri": "https://localhost:8080/",
          "height": 436
        },
        "outputId": "0c222588-4628-43fd-d923-e1cfcac50129"
      },
      "source": [
        "followerstats.sort_values(\"diff_fl\")\n"
      ],
      "execution_count": 175,
      "outputs": [
        {
          "output_type": "execute_result",
          "data": {
            "text/html": [
              "<div>\n",
              "<style scoped>\n",
              "    .dataframe tbody tr th:only-of-type {\n",
              "        vertical-align: middle;\n",
              "    }\n",
              "\n",
              "    .dataframe tbody tr th {\n",
              "        vertical-align: top;\n",
              "    }\n",
              "\n",
              "    .dataframe thead th {\n",
              "        text-align: right;\n",
              "    }\n",
              "</style>\n",
              "<table border=\"1\" class=\"dataframe\">\n",
              "  <thead>\n",
              "    <tr style=\"text-align: right;\">\n",
              "      <th></th>\n",
              "      <th>firstfl</th>\n",
              "      <th>lastfl</th>\n",
              "      <th>firstfr</th>\n",
              "      <th>lastfr</th>\n",
              "      <th>diff_fl</th>\n",
              "      <th>diff_fr</th>\n",
              "    </tr>\n",
              "    <tr>\n",
              "      <th>screen_name</th>\n",
              "      <th></th>\n",
              "      <th></th>\n",
              "      <th></th>\n",
              "      <th></th>\n",
              "      <th></th>\n",
              "      <th></th>\n",
              "    </tr>\n",
              "  </thead>\n",
              "  <tbody>\n",
              "    <tr>\n",
              "      <th>TSFlashNews</th>\n",
              "      <td>7826</td>\n",
              "      <td>2832</td>\n",
              "      <td>0</td>\n",
              "      <td>0</td>\n",
              "      <td>-4994</td>\n",
              "      <td>0</td>\n",
              "    </tr>\n",
              "    <tr>\n",
              "      <th>DrGarekar</th>\n",
              "      <td>119095</td>\n",
              "      <td>118452</td>\n",
              "      <td>925</td>\n",
              "      <td>939</td>\n",
              "      <td>-643</td>\n",
              "      <td>14</td>\n",
              "    </tr>\n",
              "    <tr>\n",
              "      <th>pinkyp_actor</th>\n",
              "      <td>9565</td>\n",
              "      <td>9105</td>\n",
              "      <td>534</td>\n",
              "      <td>536</td>\n",
              "      <td>-460</td>\n",
              "      <td>2</td>\n",
              "    </tr>\n",
              "    <tr>\n",
              "      <th>voiceofsikkim</th>\n",
              "      <td>6512</td>\n",
              "      <td>6053</td>\n",
              "      <td>296</td>\n",
              "      <td>296</td>\n",
              "      <td>-459</td>\n",
              "      <td>0</td>\n",
              "    </tr>\n",
              "    <tr>\n",
              "      <th>SushilKashyap01</th>\n",
              "      <td>32208</td>\n",
              "      <td>31775</td>\n",
              "      <td>4076</td>\n",
              "      <td>3011</td>\n",
              "      <td>-433</td>\n",
              "      <td>-1065</td>\n",
              "    </tr>\n",
              "    <tr>\n",
              "      <th>...</th>\n",
              "      <td>...</td>\n",
              "      <td>...</td>\n",
              "      <td>...</td>\n",
              "      <td>...</td>\n",
              "      <td>...</td>\n",
              "      <td>...</td>\n",
              "    </tr>\n",
              "    <tr>\n",
              "      <th>BiharHealthDept</th>\n",
              "      <td>10668</td>\n",
              "      <td>28217</td>\n",
              "      <td>110</td>\n",
              "      <td>112</td>\n",
              "      <td>17549</td>\n",
              "      <td>2</td>\n",
              "    </tr>\n",
              "    <tr>\n",
              "      <th>dhananjay_munde</th>\n",
              "      <td>412040</td>\n",
              "      <td>432557</td>\n",
              "      <td>108</td>\n",
              "      <td>109</td>\n",
              "      <td>20517</td>\n",
              "      <td>1</td>\n",
              "    </tr>\n",
              "    <tr>\n",
              "      <th>shailajateacher</th>\n",
              "      <td>45622</td>\n",
              "      <td>72709</td>\n",
              "      <td>6</td>\n",
              "      <td>6</td>\n",
              "      <td>27087</td>\n",
              "      <td>0</td>\n",
              "    </tr>\n",
              "    <tr>\n",
              "      <th>thekiranbedi</th>\n",
              "      <td>12223352</td>\n",
              "      <td>12295309</td>\n",
              "      <td>296</td>\n",
              "      <td>297</td>\n",
              "      <td>71957</td>\n",
              "      <td>1</td>\n",
              "    </tr>\n",
              "    <tr>\n",
              "      <th>ChouhanShivraj</th>\n",
              "      <td>6058556</td>\n",
              "      <td>6288672</td>\n",
              "      <td>288</td>\n",
              "      <td>295</td>\n",
              "      <td>230116</td>\n",
              "      <td>7</td>\n",
              "    </tr>\n",
              "  </tbody>\n",
              "</table>\n",
              "<p>28026 rows × 6 columns</p>\n",
              "</div>"
            ],
            "text/plain": [
              "                  firstfl    lastfl  firstfr  lastfr  diff_fl  diff_fr\n",
              "screen_name                                                           \n",
              "TSFlashNews          7826      2832        0       0    -4994        0\n",
              "DrGarekar          119095    118452      925     939     -643       14\n",
              "pinkyp_actor         9565      9105      534     536     -460        2\n",
              "voiceofsikkim        6512      6053      296     296     -459        0\n",
              "SushilKashyap01     32208     31775     4076    3011     -433    -1065\n",
              "...                   ...       ...      ...     ...      ...      ...\n",
              "BiharHealthDept     10668     28217      110     112    17549        2\n",
              "dhananjay_munde    412040    432557      108     109    20517        1\n",
              "shailajateacher     45622     72709        6       6    27087        0\n",
              "thekiranbedi     12223352  12295309      296     297    71957        1\n",
              "ChouhanShivraj    6058556   6288672      288     295   230116        7\n",
              "\n",
              "[28026 rows x 6 columns]"
            ]
          },
          "metadata": {
            "tags": []
          },
          "execution_count": 175
        }
      ]
    },
    {
      "cell_type": "markdown",
      "metadata": {
        "id": "1VinaTes1CbH",
        "colab_type": "text"
      },
      "source": [
        "<em> we can see the accounts that lost followers and thoes that gained follower."
      ]
    },
    {
      "cell_type": "code",
      "metadata": {
        "id": "FTPUhkLHuRZv",
        "colab_type": "code",
        "colab": {
          "base_uri": "https://localhost:8080/",
          "height": 296
        },
        "outputId": "63d87bd8-eeeb-4224-e568-a4df13dc2753"
      },
      "source": [
        "sns.distplot(followerstats[followerstats[\"diff_fl\"] > 5000][\"diff_fl\"])"
      ],
      "execution_count": 164,
      "outputs": [
        {
          "output_type": "execute_result",
          "data": {
            "text/plain": [
              "<matplotlib.axes._subplots.AxesSubplot at 0x7f4cbe172198>"
            ]
          },
          "metadata": {
            "tags": []
          },
          "execution_count": 164
        },
        {
          "output_type": "display_data",
          "data": {
            "image/png": "[encoded data removed]",
            "text/plain": [
              "<Figure size 432x288 with 1 Axes>"
            ]
          },
          "metadata": {
            "tags": []
          }
        }
      ]
    },
    {
      "cell_type": "code",
      "metadata": {
        "id": "1aYtkOFIxt_-",
        "colab_type": "code",
        "colab": {
          "base_uri": "https://localhost:8080/",
          "height": 83
        },
        "outputId": "771c7ffd-055d-4e67-c58c-fff9d242fe46"
      },
      "source": [
        "followerstats[followerstats[\"diff_fl\"] > 50000][\"diff_fl\"]"
      ],
      "execution_count": 165,
      "outputs": [
        {
          "output_type": "execute_result",
          "data": {
            "text/plain": [
              "screen_name\n",
              "ChouhanShivraj    230116\n",
              "thekiranbedi       71957\n",
              "Name: diff_fl, dtype: int64"
            ]
          },
          "metadata": {
            "tags": []
          },
          "execution_count": 165
        }
      ]
    },
    {
      "cell_type": "code",
      "metadata": {
        "id": "JhY88wLUzGe1",
        "colab_type": "code",
        "colab": {
          "base_uri": "https://localhost:8080/",
          "height": 1000
        },
        "outputId": "188346ee-c08a-4cc4-ec1e-b78d9fbcadf0"
      },
      "source": [
        "dat[dat[\"screen_name\"].isin([\"ChouhanShivraj\",\"thekiranbedi\"])]"
      ],
      "execution_count": 176,
      "outputs": [
        {
          "output_type": "execute_result",
          "data": {
            "text/html": [
              "<div>\n",
              "<style scoped>\n",
              "    .dataframe tbody tr th:only-of-type {\n",
              "        vertical-align: middle;\n",
              "    }\n",
              "\n",
              "    .dataframe tbody tr th {\n",
              "        vertical-align: top;\n",
              "    }\n",
              "\n",
              "    .dataframe thead th {\n",
              "        text-align: right;\n",
              "    }\n",
              "</style>\n",
              "<table border=\"1\" class=\"dataframe\">\n",
              "  <thead>\n",
              "    <tr style=\"text-align: right;\">\n",
              "      <th></th>\n",
              "      <th>status_id</th>\n",
              "      <th>user_id</th>\n",
              "      <th>created_at</th>\n",
              "      <th>screen_name</th>\n",
              "      <th>text</th>\n",
              "      <th>source</th>\n",
              "      <th>reply_to_status_id</th>\n",
              "      <th>reply_to_user_id</th>\n",
              "      <th>reply_to_screen_name</th>\n",
              "      <th>is_quote</th>\n",
              "      <th>is_retweet</th>\n",
              "      <th>favourites_count</th>\n",
              "      <th>retweet_count</th>\n",
              "      <th>country_code</th>\n",
              "      <th>place_full_name</th>\n",
              "      <th>place_type</th>\n",
              "      <th>followers_count</th>\n",
              "      <th>friends_count</th>\n",
              "      <th>account_lang</th>\n",
              "      <th>account_created_at</th>\n",
              "      <th>verified</th>\n",
              "      <th>lang</th>\n",
              "      <th>day</th>\n",
              "    </tr>\n",
              "  </thead>\n",
              "  <tbody>\n",
              "    <tr>\n",
              "      <th>7731</th>\n",
              "      <td>1245236590831493120</td>\n",
              "      <td>68977380</td>\n",
              "      <td>2020-04-01 06:28:33+00:00</td>\n",
              "      <td>thekiranbedi</td>\n",
              "      <td>We are at a war of survival &amp;amp; every one is...</td>\n",
              "      <td>Twitter for iPhone</td>\n",
              "      <td>NaN</td>\n",
              "      <td>NaN</td>\n",
              "      <td>NaN</td>\n",
              "      <td>False</td>\n",
              "      <td>False</td>\n",
              "      <td>9692</td>\n",
              "      <td>80</td>\n",
              "      <td>IN</td>\n",
              "      <td>Pondicherry, India</td>\n",
              "      <td>city</td>\n",
              "      <td>12223352</td>\n",
              "      <td>296</td>\n",
              "      <td>NaN</td>\n",
              "      <td>2009-08-26 13:32:38+00:00</td>\n",
              "      <td>True</td>\n",
              "      <td>en</td>\n",
              "      <td>4</td>\n",
              "    </tr>\n",
              "    <tr>\n",
              "      <th>8184</th>\n",
              "      <td>1245306705488908291</td>\n",
              "      <td>68977380</td>\n",
              "      <td>2020-04-01 11:07:09+00:00</td>\n",
              "      <td>thekiranbedi</td>\n",
              "      <td>A setback for Puducherry.\\nPuducherry Police i...</td>\n",
              "      <td>Twitter for iPhone</td>\n",
              "      <td>NaN</td>\n",
              "      <td>NaN</td>\n",
              "      <td>NaN</td>\n",
              "      <td>False</td>\n",
              "      <td>False</td>\n",
              "      <td>9692</td>\n",
              "      <td>59</td>\n",
              "      <td>IN</td>\n",
              "      <td>Pondicherry, India</td>\n",
              "      <td>city</td>\n",
              "      <td>12223173</td>\n",
              "      <td>296</td>\n",
              "      <td>NaN</td>\n",
              "      <td>2009-08-26 13:32:38+00:00</td>\n",
              "      <td>True</td>\n",
              "      <td>en</td>\n",
              "      <td>4</td>\n",
              "    </tr>\n",
              "    <tr>\n",
              "      <th>10748</th>\n",
              "      <td>1245742392621162497</td>\n",
              "      <td>1251083774</td>\n",
              "      <td>2020-04-02 15:58:25+00:00</td>\n",
              "      <td>ChouhanShivraj</td>\n",
              "      <td>आज मंत्रालय में प्रदेश में\\n#COVID19 की संकट क...</td>\n",
              "      <td>Instagram</td>\n",
              "      <td>NaN</td>\n",
              "      <td>NaN</td>\n",
              "      <td>NaN</td>\n",
              "      <td>False</td>\n",
              "      <td>False</td>\n",
              "      <td>2581</td>\n",
              "      <td>358</td>\n",
              "      <td>IN</td>\n",
              "      <td>Bhopal, India</td>\n",
              "      <td>city</td>\n",
              "      <td>6058556</td>\n",
              "      <td>288</td>\n",
              "      <td>NaN</td>\n",
              "      <td>2013-03-08 07:55:33+00:00</td>\n",
              "      <td>True</td>\n",
              "      <td>hi</td>\n",
              "      <td>5</td>\n",
              "    </tr>\n",
              "    <tr>\n",
              "      <th>11506</th>\n",
              "      <td>1245923752409329675</td>\n",
              "      <td>68977380</td>\n",
              "      <td>2020-04-03 03:59:05+00:00</td>\n",
              "      <td>thekiranbedi</td>\n",
              "      <td>9 PM for 9 Minutes on April 5 th, switch off a...</td>\n",
              "      <td>Twitter for iPhone</td>\n",
              "      <td>NaN</td>\n",
              "      <td>NaN</td>\n",
              "      <td>NaN</td>\n",
              "      <td>False</td>\n",
              "      <td>False</td>\n",
              "      <td>9702</td>\n",
              "      <td>370</td>\n",
              "      <td>IN</td>\n",
              "      <td>Pondicherry, India</td>\n",
              "      <td>city</td>\n",
              "      <td>12229786</td>\n",
              "      <td>296</td>\n",
              "      <td>NaN</td>\n",
              "      <td>2009-08-26 13:32:38+00:00</td>\n",
              "      <td>True</td>\n",
              "      <td>en</td>\n",
              "      <td>6</td>\n",
              "    </tr>\n",
              "    <tr>\n",
              "      <th>12932</th>\n",
              "      <td>1246118965291757568</td>\n",
              "      <td>1251083774</td>\n",
              "      <td>2020-04-03 16:54:47+00:00</td>\n",
              "      <td>ChouhanShivraj</td>\n",
              "      <td>आज वीडियो कॉन्फ्रेंसिंग के माध्यम से प्रदेश के...</td>\n",
              "      <td>Instagram</td>\n",
              "      <td>NaN</td>\n",
              "      <td>NaN</td>\n",
              "      <td>NaN</td>\n",
              "      <td>False</td>\n",
              "      <td>False</td>\n",
              "      <td>2593</td>\n",
              "      <td>321</td>\n",
              "      <td>IN</td>\n",
              "      <td>Bhopal, India</td>\n",
              "      <td>city</td>\n",
              "      <td>6069401</td>\n",
              "      <td>288</td>\n",
              "      <td>NaN</td>\n",
              "      <td>2013-03-08 07:55:33+00:00</td>\n",
              "      <td>True</td>\n",
              "      <td>hi</td>\n",
              "      <td>6</td>\n",
              "    </tr>\n",
              "    <tr>\n",
              "      <th>13843</th>\n",
              "      <td>1246331811984216064</td>\n",
              "      <td>1251083774</td>\n",
              "      <td>2020-04-04 07:00:34+00:00</td>\n",
              "      <td>ChouhanShivraj</td>\n",
              "      <td>आओ मिलकर दीप जलायें \\nहो नष्ट, कोरोना क्रूर या...</td>\n",
              "      <td>Instagram</td>\n",
              "      <td>NaN</td>\n",
              "      <td>NaN</td>\n",
              "      <td>NaN</td>\n",
              "      <td>False</td>\n",
              "      <td>False</td>\n",
              "      <td>2593</td>\n",
              "      <td>488</td>\n",
              "      <td>IN</td>\n",
              "      <td>Bhopal, India</td>\n",
              "      <td>city</td>\n",
              "      <td>6067768</td>\n",
              "      <td>288</td>\n",
              "      <td>NaN</td>\n",
              "      <td>2013-03-08 07:55:33+00:00</td>\n",
              "      <td>True</td>\n",
              "      <td>hi</td>\n",
              "      <td>7</td>\n",
              "    </tr>\n",
              "    <tr>\n",
              "      <th>22732</th>\n",
              "      <td>1247376016592359424</td>\n",
              "      <td>68977380</td>\n",
              "      <td>2020-04-07 04:09:52+00:00</td>\n",
              "      <td>thekiranbedi</td>\n",
              "      <td>Bhilwara Model of ‘ruthless containment’ to st...</td>\n",
              "      <td>Twitter for iPhone</td>\n",
              "      <td>NaN</td>\n",
              "      <td>NaN</td>\n",
              "      <td>NaN</td>\n",
              "      <td>False</td>\n",
              "      <td>False</td>\n",
              "      <td>9714</td>\n",
              "      <td>132</td>\n",
              "      <td>IN</td>\n",
              "      <td>Pondicherry, India</td>\n",
              "      <td>city</td>\n",
              "      <td>12244867</td>\n",
              "      <td>295</td>\n",
              "      <td>NaN</td>\n",
              "      <td>2009-08-26 13:32:38+00:00</td>\n",
              "      <td>True</td>\n",
              "      <td>en</td>\n",
              "      <td>10</td>\n",
              "    </tr>\n",
              "    <tr>\n",
              "      <th>37742</th>\n",
              "      <td>1250064293795696646</td>\n",
              "      <td>1251083774</td>\n",
              "      <td>2020-04-14 14:12:07+00:00</td>\n",
              "      <td>ChouhanShivraj</td>\n",
              "      <td>प्रदेश में #COVID19 से प्रभावी रूप से लड़ने हे...</td>\n",
              "      <td>Instagram</td>\n",
              "      <td>NaN</td>\n",
              "      <td>NaN</td>\n",
              "      <td>NaN</td>\n",
              "      <td>False</td>\n",
              "      <td>False</td>\n",
              "      <td>2626</td>\n",
              "      <td>181</td>\n",
              "      <td>IN</td>\n",
              "      <td>Bhopal, India</td>\n",
              "      <td>city</td>\n",
              "      <td>6177202</td>\n",
              "      <td>290</td>\n",
              "      <td>NaN</td>\n",
              "      <td>2013-03-08 07:55:33+00:00</td>\n",
              "      <td>True</td>\n",
              "      <td>hi</td>\n",
              "      <td>17</td>\n",
              "    </tr>\n",
              "    <tr>\n",
              "      <th>38305</th>\n",
              "      <td>1250134486299353089</td>\n",
              "      <td>1251083774</td>\n",
              "      <td>2020-04-14 18:51:02+00:00</td>\n",
              "      <td>ChouhanShivraj</td>\n",
              "      <td>प्रदेश में #COVID19 की स्थिति और इस पर नियंत्र...</td>\n",
              "      <td>Instagram</td>\n",
              "      <td>NaN</td>\n",
              "      <td>NaN</td>\n",
              "      <td>NaN</td>\n",
              "      <td>False</td>\n",
              "      <td>False</td>\n",
              "      <td>2626</td>\n",
              "      <td>159</td>\n",
              "      <td>IN</td>\n",
              "      <td>Bhopal, India</td>\n",
              "      <td>city</td>\n",
              "      <td>6176695</td>\n",
              "      <td>290</td>\n",
              "      <td>NaN</td>\n",
              "      <td>2013-03-08 07:55:33+00:00</td>\n",
              "      <td>True</td>\n",
              "      <td>hi</td>\n",
              "      <td>17</td>\n",
              "    </tr>\n",
              "    <tr>\n",
              "      <th>40072</th>\n",
              "      <td>1250467694148796416</td>\n",
              "      <td>1251083774</td>\n",
              "      <td>2020-04-15 16:55:05+00:00</td>\n",
              "      <td>ChouhanShivraj</td>\n",
              "      <td>प्रदेश में #COVID19 की स्थिति एवं व्यवस्थाओं क...</td>\n",
              "      <td>Instagram</td>\n",
              "      <td>NaN</td>\n",
              "      <td>NaN</td>\n",
              "      <td>NaN</td>\n",
              "      <td>False</td>\n",
              "      <td>False</td>\n",
              "      <td>2627</td>\n",
              "      <td>215</td>\n",
              "      <td>IN</td>\n",
              "      <td>Bhopal, India</td>\n",
              "      <td>city</td>\n",
              "      <td>6183185</td>\n",
              "      <td>290</td>\n",
              "      <td>NaN</td>\n",
              "      <td>2013-03-08 07:55:33+00:00</td>\n",
              "      <td>True</td>\n",
              "      <td>hi</td>\n",
              "      <td>18</td>\n",
              "    </tr>\n",
              "    <tr>\n",
              "      <th>40131</th>\n",
              "      <td>1250476001177604098</td>\n",
              "      <td>1251083774</td>\n",
              "      <td>2020-04-15 17:28:06+00:00</td>\n",
              "      <td>ChouhanShivraj</td>\n",
              "      <td>वीडियो कॉन्फ्रेंसिंग के माध्यम से मंत्रालय में...</td>\n",
              "      <td>Instagram</td>\n",
              "      <td>NaN</td>\n",
              "      <td>NaN</td>\n",
              "      <td>NaN</td>\n",
              "      <td>False</td>\n",
              "      <td>False</td>\n",
              "      <td>2627</td>\n",
              "      <td>206</td>\n",
              "      <td>IN</td>\n",
              "      <td>Bhopal, India</td>\n",
              "      <td>city</td>\n",
              "      <td>6183096</td>\n",
              "      <td>290</td>\n",
              "      <td>NaN</td>\n",
              "      <td>2013-03-08 07:55:33+00:00</td>\n",
              "      <td>True</td>\n",
              "      <td>hi</td>\n",
              "      <td>18</td>\n",
              "    </tr>\n",
              "    <tr>\n",
              "      <th>42797</th>\n",
              "      <td>1250826243395616769</td>\n",
              "      <td>1251083774</td>\n",
              "      <td>2020-04-16 16:39:50+00:00</td>\n",
              "      <td>ChouhanShivraj</td>\n",
              "      <td>वीडियो कॉन्फ्रेंसिंग के माध्यम से प्रदेश में #...</td>\n",
              "      <td>Instagram</td>\n",
              "      <td>NaN</td>\n",
              "      <td>NaN</td>\n",
              "      <td>NaN</td>\n",
              "      <td>False</td>\n",
              "      <td>False</td>\n",
              "      <td>2628</td>\n",
              "      <td>205</td>\n",
              "      <td>IN</td>\n",
              "      <td>Bhopal, India</td>\n",
              "      <td>city</td>\n",
              "      <td>6187035</td>\n",
              "      <td>290</td>\n",
              "      <td>NaN</td>\n",
              "      <td>2013-03-08 07:55:33+00:00</td>\n",
              "      <td>True</td>\n",
              "      <td>hi</td>\n",
              "      <td>19</td>\n",
              "    </tr>\n",
              "    <tr>\n",
              "      <th>45225</th>\n",
              "      <td>1251177312189583361</td>\n",
              "      <td>1251083774</td>\n",
              "      <td>2020-04-17 15:54:51+00:00</td>\n",
              "      <td>ChouhanShivraj</td>\n",
              "      <td>आज #BJP4MP के टास्क फोर्स के सदस्यों के साथ प्...</td>\n",
              "      <td>Instagram</td>\n",
              "      <td>NaN</td>\n",
              "      <td>NaN</td>\n",
              "      <td>NaN</td>\n",
              "      <td>False</td>\n",
              "      <td>False</td>\n",
              "      <td>2629</td>\n",
              "      <td>269</td>\n",
              "      <td>IN</td>\n",
              "      <td>Bhopal, India</td>\n",
              "      <td>city</td>\n",
              "      <td>6192223</td>\n",
              "      <td>290</td>\n",
              "      <td>NaN</td>\n",
              "      <td>2013-03-08 07:55:33+00:00</td>\n",
              "      <td>True</td>\n",
              "      <td>hi</td>\n",
              "      <td>20</td>\n",
              "    </tr>\n",
              "    <tr>\n",
              "      <th>46760</th>\n",
              "      <td>1251440109007888384</td>\n",
              "      <td>1251083774</td>\n",
              "      <td>2020-04-18 09:19:07+00:00</td>\n",
              "      <td>ChouhanShivraj</td>\n",
              "      <td>मंत्रालय में प्रदेश के डॉक्टर्स और अस्पताल के ...</td>\n",
              "      <td>Instagram</td>\n",
              "      <td>NaN</td>\n",
              "      <td>NaN</td>\n",
              "      <td>NaN</td>\n",
              "      <td>False</td>\n",
              "      <td>False</td>\n",
              "      <td>2633</td>\n",
              "      <td>167</td>\n",
              "      <td>IN</td>\n",
              "      <td>Bhopal, India</td>\n",
              "      <td>city</td>\n",
              "      <td>6199235</td>\n",
              "      <td>292</td>\n",
              "      <td>NaN</td>\n",
              "      <td>2013-03-08 07:55:33+00:00</td>\n",
              "      <td>True</td>\n",
              "      <td>hi</td>\n",
              "      <td>21</td>\n",
              "    </tr>\n",
              "    <tr>\n",
              "      <th>50006</th>\n",
              "      <td>1251901061436256265</td>\n",
              "      <td>1251083774</td>\n",
              "      <td>2020-04-19 15:50:46+00:00</td>\n",
              "      <td>ChouhanShivraj</td>\n",
              "      <td>आज मध्यप्रदेश दूरदर्शन और विभिन्न संचार माध्यम...</td>\n",
              "      <td>Instagram</td>\n",
              "      <td>NaN</td>\n",
              "      <td>NaN</td>\n",
              "      <td>NaN</td>\n",
              "      <td>False</td>\n",
              "      <td>False</td>\n",
              "      <td>2633</td>\n",
              "      <td>244</td>\n",
              "      <td>IN</td>\n",
              "      <td>Bhopal, India</td>\n",
              "      <td>city</td>\n",
              "      <td>6206181</td>\n",
              "      <td>292</td>\n",
              "      <td>NaN</td>\n",
              "      <td>2013-03-08 07:55:33+00:00</td>\n",
              "      <td>True</td>\n",
              "      <td>hi</td>\n",
              "      <td>22</td>\n",
              "    </tr>\n",
              "    <tr>\n",
              "      <th>51769</th>\n",
              "      <td>1252261472656293897</td>\n",
              "      <td>1251083774</td>\n",
              "      <td>2020-04-20 15:42:55+00:00</td>\n",
              "      <td>ChouhanShivraj</td>\n",
              "      <td>मंत्रालय में वरिष्ठ अधिकारियों के साथ प्रदेश म...</td>\n",
              "      <td>Instagram</td>\n",
              "      <td>NaN</td>\n",
              "      <td>NaN</td>\n",
              "      <td>NaN</td>\n",
              "      <td>False</td>\n",
              "      <td>False</td>\n",
              "      <td>2635</td>\n",
              "      <td>202</td>\n",
              "      <td>IN</td>\n",
              "      <td>Bhopal, India</td>\n",
              "      <td>city</td>\n",
              "      <td>6213136</td>\n",
              "      <td>295</td>\n",
              "      <td>NaN</td>\n",
              "      <td>2013-03-08 07:55:33+00:00</td>\n",
              "      <td>True</td>\n",
              "      <td>hi</td>\n",
              "      <td>23</td>\n",
              "    </tr>\n",
              "    <tr>\n",
              "      <th>53822</th>\n",
              "      <td>1252771630167650304</td>\n",
              "      <td>68977380</td>\n",
              "      <td>2020-04-22 01:30:06+00:00</td>\n",
              "      <td>thekiranbedi</td>\n",
              "      <td>“...In long days at home seem to pass ever so ...</td>\n",
              "      <td>Twitter for iPhone</td>\n",
              "      <td>NaN</td>\n",
              "      <td>NaN</td>\n",
              "      <td>NaN</td>\n",
              "      <td>False</td>\n",
              "      <td>False</td>\n",
              "      <td>9777</td>\n",
              "      <td>36</td>\n",
              "      <td>IN</td>\n",
              "      <td>Pondicherry, India</td>\n",
              "      <td>city</td>\n",
              "      <td>12284564</td>\n",
              "      <td>297</td>\n",
              "      <td>NaN</td>\n",
              "      <td>2009-08-26 13:32:38+00:00</td>\n",
              "      <td>True</td>\n",
              "      <td>en</td>\n",
              "      <td>25</td>\n",
              "    </tr>\n",
              "    <tr>\n",
              "      <th>55889</th>\n",
              "      <td>1253179215664435201</td>\n",
              "      <td>68977380</td>\n",
              "      <td>2020-04-23 04:29:42+00:00</td>\n",
              "      <td>thekiranbedi</td>\n",
              "      <td>The Crow in the Gym. #StayHomeStaySafe https:/...</td>\n",
              "      <td>Twitter for iPhone</td>\n",
              "      <td>NaN</td>\n",
              "      <td>NaN</td>\n",
              "      <td>NaN</td>\n",
              "      <td>False</td>\n",
              "      <td>False</td>\n",
              "      <td>9790</td>\n",
              "      <td>40</td>\n",
              "      <td>IN</td>\n",
              "      <td>Raj Bhavan</td>\n",
              "      <td>poi</td>\n",
              "      <td>12288633</td>\n",
              "      <td>297</td>\n",
              "      <td>NaN</td>\n",
              "      <td>2009-08-26 13:32:38+00:00</td>\n",
              "      <td>True</td>\n",
              "      <td>en</td>\n",
              "      <td>26</td>\n",
              "    </tr>\n",
              "    <tr>\n",
              "      <th>56283</th>\n",
              "      <td>1253237777514168321</td>\n",
              "      <td>1251083774</td>\n",
              "      <td>2020-04-23 08:22:24+00:00</td>\n",
              "      <td>ChouhanShivraj</td>\n",
              "      <td>आज मंत्रालय में वीडियो कॉन्फ्रेंसिंग के माध्यम...</td>\n",
              "      <td>Instagram</td>\n",
              "      <td>NaN</td>\n",
              "      <td>NaN</td>\n",
              "      <td>NaN</td>\n",
              "      <td>False</td>\n",
              "      <td>False</td>\n",
              "      <td>2636</td>\n",
              "      <td>107</td>\n",
              "      <td>IN</td>\n",
              "      <td>Bhopal, India</td>\n",
              "      <td>city</td>\n",
              "      <td>6227555</td>\n",
              "      <td>295</td>\n",
              "      <td>NaN</td>\n",
              "      <td>2013-03-08 07:55:33+00:00</td>\n",
              "      <td>True</td>\n",
              "      <td>hi</td>\n",
              "      <td>26</td>\n",
              "    </tr>\n",
              "    <tr>\n",
              "      <th>59226</th>\n",
              "      <td>1253737293514407938</td>\n",
              "      <td>1251083774</td>\n",
              "      <td>2020-04-24 17:27:18+00:00</td>\n",
              "      <td>ChouhanShivraj</td>\n",
              "      <td>आज मंत्रालय में उच्च अधिकारियों के साथ प्रदेश ...</td>\n",
              "      <td>Instagram</td>\n",
              "      <td>NaN</td>\n",
              "      <td>NaN</td>\n",
              "      <td>NaN</td>\n",
              "      <td>False</td>\n",
              "      <td>False</td>\n",
              "      <td>2639</td>\n",
              "      <td>357</td>\n",
              "      <td>IN</td>\n",
              "      <td>Bhopal, India</td>\n",
              "      <td>city</td>\n",
              "      <td>6241607</td>\n",
              "      <td>295</td>\n",
              "      <td>NaN</td>\n",
              "      <td>2013-03-08 07:55:33+00:00</td>\n",
              "      <td>True</td>\n",
              "      <td>hi</td>\n",
              "      <td>27</td>\n",
              "    </tr>\n",
              "    <tr>\n",
              "      <th>60049</th>\n",
              "      <td>1253934158545448961</td>\n",
              "      <td>68977380</td>\n",
              "      <td>2020-04-25 06:29:35+00:00</td>\n",
              "      <td>thekiranbedi</td>\n",
              "      <td>For directly benefitting the people of Puduche...</td>\n",
              "      <td>Twitter for iPhone</td>\n",
              "      <td>NaN</td>\n",
              "      <td>NaN</td>\n",
              "      <td>NaN</td>\n",
              "      <td>False</td>\n",
              "      <td>False</td>\n",
              "      <td>9793</td>\n",
              "      <td>20</td>\n",
              "      <td>IN</td>\n",
              "      <td>Pondicherry, India</td>\n",
              "      <td>city</td>\n",
              "      <td>12290786</td>\n",
              "      <td>297</td>\n",
              "      <td>NaN</td>\n",
              "      <td>2009-08-26 13:32:38+00:00</td>\n",
              "      <td>True</td>\n",
              "      <td>en</td>\n",
              "      <td>28</td>\n",
              "    </tr>\n",
              "    <tr>\n",
              "      <th>61773</th>\n",
              "      <td>1254253368572166144</td>\n",
              "      <td>68977380</td>\n",
              "      <td>2020-04-26 03:38:00+00:00</td>\n",
              "      <td>thekiranbedi</td>\n",
              "      <td>Washing away the #coronavirus. \\nIt’s raining ...</td>\n",
              "      <td>Twitter for iPhone</td>\n",
              "      <td>NaN</td>\n",
              "      <td>NaN</td>\n",
              "      <td>NaN</td>\n",
              "      <td>False</td>\n",
              "      <td>False</td>\n",
              "      <td>9795</td>\n",
              "      <td>166</td>\n",
              "      <td>IN</td>\n",
              "      <td>Raj Bhavan</td>\n",
              "      <td>poi</td>\n",
              "      <td>12293745</td>\n",
              "      <td>297</td>\n",
              "      <td>NaN</td>\n",
              "      <td>2009-08-26 13:32:38+00:00</td>\n",
              "      <td>True</td>\n",
              "      <td>en</td>\n",
              "      <td>29</td>\n",
              "    </tr>\n",
              "    <tr>\n",
              "      <th>65301</th>\n",
              "      <td>1254787405556543495</td>\n",
              "      <td>68977380</td>\n",
              "      <td>2020-04-27 15:00:04+00:00</td>\n",
              "      <td>thekiranbedi</td>\n",
              "      <td>Today inaugurated a webinar  #Coronavirus Wome...</td>\n",
              "      <td>Twitter for iPhone</td>\n",
              "      <td>NaN</td>\n",
              "      <td>NaN</td>\n",
              "      <td>NaN</td>\n",
              "      <td>False</td>\n",
              "      <td>False</td>\n",
              "      <td>9796</td>\n",
              "      <td>1</td>\n",
              "      <td>IN</td>\n",
              "      <td>Pondicherry, India</td>\n",
              "      <td>city</td>\n",
              "      <td>12295309</td>\n",
              "      <td>297</td>\n",
              "      <td>NaN</td>\n",
              "      <td>2009-08-26 13:32:38+00:00</td>\n",
              "      <td>True</td>\n",
              "      <td>en</td>\n",
              "      <td>30</td>\n",
              "    </tr>\n",
              "    <tr>\n",
              "      <th>67346</th>\n",
              "      <td>1255191492080988170</td>\n",
              "      <td>1251083774</td>\n",
              "      <td>2020-04-28 17:45:46+00:00</td>\n",
              "      <td>ChouhanShivraj</td>\n",
              "      <td>आज मंत्रालय में वीडियो कॉन्‍फ्रेंसिंग के माध्‍...</td>\n",
              "      <td>Instagram</td>\n",
              "      <td>NaN</td>\n",
              "      <td>NaN</td>\n",
              "      <td>NaN</td>\n",
              "      <td>False</td>\n",
              "      <td>False</td>\n",
              "      <td>2646</td>\n",
              "      <td>293</td>\n",
              "      <td>IN</td>\n",
              "      <td>Bhopal, India</td>\n",
              "      <td>city</td>\n",
              "      <td>6272116</td>\n",
              "      <td>295</td>\n",
              "      <td>NaN</td>\n",
              "      <td>2013-03-08 07:55:33+00:00</td>\n",
              "      <td>True</td>\n",
              "      <td>hi</td>\n",
              "      <td>31</td>\n",
              "    </tr>\n",
              "    <tr>\n",
              "      <th>68104</th>\n",
              "      <td>1255388418395209730</td>\n",
              "      <td>1251083774</td>\n",
              "      <td>2020-04-29 06:48:17+00:00</td>\n",
              "      <td>ChouhanShivraj</td>\n",
              "      <td>आज ऑडियो ब्रिज के माध्यम से भारतीय जनता पार्टी...</td>\n",
              "      <td>Instagram</td>\n",
              "      <td>NaN</td>\n",
              "      <td>NaN</td>\n",
              "      <td>NaN</td>\n",
              "      <td>False</td>\n",
              "      <td>False</td>\n",
              "      <td>2646</td>\n",
              "      <td>142</td>\n",
              "      <td>IN</td>\n",
              "      <td>Bhopal, India</td>\n",
              "      <td>city</td>\n",
              "      <td>6271107</td>\n",
              "      <td>295</td>\n",
              "      <td>NaN</td>\n",
              "      <td>2013-03-08 07:55:33+00:00</td>\n",
              "      <td>True</td>\n",
              "      <td>hi</td>\n",
              "      <td>32</td>\n",
              "    </tr>\n",
              "    <tr>\n",
              "      <th>70362</th>\n",
              "      <td>1255889821622558720</td>\n",
              "      <td>1251083774</td>\n",
              "      <td>2020-04-30 16:00:41+00:00</td>\n",
              "      <td>ChouhanShivraj</td>\n",
              "      <td>मंत्रालय में वीडियो कॉन्फ्रेंस के माध्यम से #C...</td>\n",
              "      <td>Instagram</td>\n",
              "      <td>NaN</td>\n",
              "      <td>NaN</td>\n",
              "      <td>NaN</td>\n",
              "      <td>False</td>\n",
              "      <td>False</td>\n",
              "      <td>2648</td>\n",
              "      <td>233</td>\n",
              "      <td>IN</td>\n",
              "      <td>Bhopal, India</td>\n",
              "      <td>city</td>\n",
              "      <td>6288672</td>\n",
              "      <td>295</td>\n",
              "      <td>NaN</td>\n",
              "      <td>2013-03-08 07:55:33+00:00</td>\n",
              "      <td>True</td>\n",
              "      <td>hi</td>\n",
              "      <td>33</td>\n",
              "    </tr>\n",
              "  </tbody>\n",
              "</table>\n",
              "</div>"
            ],
            "text/plain": [
              "                 status_id     user_id  ... lang day\n",
              "7731   1245236590831493120    68977380  ...   en   4\n",
              "8184   1245306705488908291    68977380  ...   en   4\n",
              "10748  1245742392621162497  1251083774  ...   hi   5\n",
              "11506  1245923752409329675    68977380  ...   en   6\n",
              "12932  1246118965291757568  1251083774  ...   hi   6\n",
              "13843  1246331811984216064  1251083774  ...   hi   7\n",
              "22732  1247376016592359424    68977380  ...   en  10\n",
              "37742  1250064293795696646  1251083774  ...   hi  17\n",
              "38305  1250134486299353089  1251083774  ...   hi  17\n",
              "40072  1250467694148796416  1251083774  ...   hi  18\n",
              "40131  1250476001177604098  1251083774  ...   hi  18\n",
              "42797  1250826243395616769  1251083774  ...   hi  19\n",
              "45225  1251177312189583361  1251083774  ...   hi  20\n",
              "46760  1251440109007888384  1251083774  ...   hi  21\n",
              "50006  1251901061436256265  1251083774  ...   hi  22\n",
              "51769  1252261472656293897  1251083774  ...   hi  23\n",
              "53822  1252771630167650304    68977380  ...   en  25\n",
              "55889  1253179215664435201    68977380  ...   en  26\n",
              "56283  1253237777514168321  1251083774  ...   hi  26\n",
              "59226  1253737293514407938  1251083774  ...   hi  27\n",
              "60049  1253934158545448961    68977380  ...   en  28\n",
              "61773  1254253368572166144    68977380  ...   en  29\n",
              "65301  1254787405556543495    68977380  ...   en  30\n",
              "67346  1255191492080988170  1251083774  ...   hi  31\n",
              "68104  1255388418395209730  1251083774  ...   hi  32\n",
              "70362  1255889821622558720  1251083774  ...   hi  33\n",
              "\n",
              "[26 rows x 23 columns]"
            ]
          },
          "metadata": {
            "tags": []
          },
          "execution_count": 176
        }
      ]
    },
    {
      "cell_type": "code",
      "metadata": {
        "id": "K5XT-EIQEWwg",
        "colab_type": "code",
        "outputId": "764eaa4f-3d3a-4eee-b161-6279427871cc",
        "colab": {
          "base_uri": "https://localhost:8080/",
          "height": 167
        }
      },
      "source": [
        "(()d1.country_code.value_counts()"
      ],
      "execution_count": 0,
      "outputs": [
        {
          "output_type": "error",
          "ename": "NameError",
          "evalue": "ignored",
          "traceback": [
            "\u001b[0;31m---------------------------------------------------------------------------\u001b[0m",
            "\u001b[0;31mNameError\u001b[0m                                 Traceback (most recent call last)",
            "\u001b[0;32m<ipython-input-64-c2ed969b6370>\u001b[0m in \u001b[0;36m<module>\u001b[0;34m()\u001b[0m\n\u001b[0;32m----> 1\u001b[0;31m \u001b[0md1\u001b[0m\u001b[0;34m.\u001b[0m\u001b[0mcountry_code\u001b[0m\u001b[0;34m.\u001b[0m\u001b[0mvalue_counts\u001b[0m\u001b[0;34m(\u001b[0m\u001b[0;34m)\u001b[0m\u001b[0;34m\u001b[0m\u001b[0;34m\u001b[0m\u001b[0m\n\u001b[0m",
            "\u001b[0;31mNameError\u001b[0m: name 'd1' is not defined"
          ]
        }
      ]
    },
    {
      "cell_type": "code",
      "metadata": {
        "id": "M1CENj9dH_bP",
        "colab_type": "code",
        "colab": {}
      },
      "source": [
        "d2=pd.read_csv(files[15])\n",
        "d2.country_code.value_counts()"
      ],
      "execution_count": 0,
      "outputs": []
    },
    {
      "cell_type": "code",
      "metadata": {
        "id": "Rvms2dvhJ2Ao",
        "colab_type": "code",
        "outputId": "5a3d2c9b-5aa6-415a-b0e0-638acabdd2ea",
        "colab": {
          "base_uri": "https://localhost:8080/",
          "height": 52
        }
      },
      "source": [
        "countries=d1.country_code.unique()\n",
        "d1=d1[d1['country_code'] == 'IN']\n",
        "d1.country_code.value_counts()\n"
      ],
      "execution_count": 0,
      "outputs": [
        {
          "output_type": "execute_result",
          "data": {
            "text/plain": [
              "IN    2555\n",
              "Name: country_code, dtype: int64"
            ]
          },
          "metadata": {
            "tags": []
          },
          "execution_count": 16
        }
      ]
    },
    {
      "cell_type": "code",
      "metadata": {
        "id": "t5Bd0-HVjcNM",
        "colab_type": "code",
        "outputId": "fc066398-c875-40fe-d51f-b16a555e91c6",
        "colab": {
          "base_uri": "https://localhost:8080/",
          "height": 260
        }
      },
      "source": [
        "d1.head"
      ],
      "execution_count": 0,
      "outputs": [
        {
          "output_type": "execute_result",
          "data": {
            "text/plain": [
              "<bound method NDFrame.head of                   status_id              user_id  ... lang timeOfTweet\n",
              "2432    1244777731256201217           3281596603  ...   hi    0.086667\n",
              "5317    1244779747575353344            131807868  ...   en    0.220278\n",
              "5700    1244780043647082497  1039734733205393411  ...   en    0.239722\n",
              "7003    1244780999570948097  1214126069319491587  ...   en    0.303056\n",
              "7636    1244781449737355264           2996014381  ...   en    0.333056\n",
              "...                     ...                  ...  ...  ...         ...\n",
              "652233  1245126763258302465   807951707464343553  ...   bn   23.202222\n",
              "653204  1245127425014534146   889718907946381312  ...   hi   23.246111\n",
              "661143  1245132513019748353   941635228832952320  ...   en   23.583056\n",
              "667192  1245136694258491392            566101087  ...   en   23.860000\n",
              "667916  1245137290743054336   790869804244541441  ...   en   23.899444\n",
              "\n",
              "[2555 rows x 23 columns]>"
            ]
          },
          "metadata": {
            "tags": []
          },
          "execution_count": 17
        }
      ]
    },
    {
      "cell_type": "code",
      "metadata": {
        "id": "senlWOj-loCp",
        "colab_type": "code",
        "colab": {}
      },
      "source": [
        "#Data Preprocessing and Feature Engineering\n",
        "from textblob import TextBlob\n",
        "import re\n",
        "from nltk.corpus import stopwords\n",
        "from nltk.stem.wordnet import WordNetLemmatizer\n",
        "from sklearn.feature_extraction.text import CountVectorizer, TfidfTransformer\n"
      ],
      "execution_count": 0,
      "outputs": []
    },
    {
      "cell_type": "code",
      "metadata": {
        "id": "WLAQRP4wzaSb",
        "colab_type": "code",
        "colab": {}
      },
      "source": [
        "rdf = d1[d1['country_code']=='IN'] "
      ],
      "execution_count": 0,
      "outputs": []
    },
    {
      "cell_type": "code",
      "metadata": {
        "id": "z47Z1UgXwyDd",
        "colab_type": "code",
        "outputId": "068e93e1-37f5-48e7-8825-8803026ac1c6",
        "colab": {
          "base_uri": "https://localhost:8080/",
          "height": 35
        }
      },
      "source": [
        "rdf.shape"
      ],
      "execution_count": 0,
      "outputs": [
        {
          "output_type": "execute_result",
          "data": {
            "text/plain": [
              "(2555, 22)"
            ]
          },
          "metadata": {
            "tags": []
          },
          "execution_count": 42
        }
      ]
    },
    {
      "cell_type": "code",
      "metadata": {
        "id": "B3rLl_A2yCU_",
        "colab_type": "code",
        "outputId": "54c23f2a-f479-481a-96dc-1e501045b474",
        "colab": {
          "base_uri": "https://localhost:8080/",
          "height": 520
        }
      },
      "source": [
        "rdf.info()"
      ],
      "execution_count": 0,
      "outputs": [
        {
          "output_type": "stream",
          "text": [
            "<class 'pandas.core.frame.DataFrame'>\n",
            "Int64Index: 2555 entries, 2432 to 667916\n",
            "Data columns (total 22 columns):\n",
            " #   Column                Non-Null Count  Dtype  \n",
            "---  ------                --------------  -----  \n",
            " 0   status_id             2555 non-null   int64  \n",
            " 1   user_id               2555 non-null   int64  \n",
            " 2   created_at            2555 non-null   object \n",
            " 3   screen_name           2555 non-null   object \n",
            " 4   text                  2555 non-null   object \n",
            " 5   source                2555 non-null   object \n",
            " 6   reply_to_status_id    311 non-null    float64\n",
            " 7   reply_to_user_id      437 non-null    float64\n",
            " 8   reply_to_screen_name  437 non-null    object \n",
            " 9   is_quote              2555 non-null   bool   \n",
            " 10  is_retweet            2555 non-null   bool   \n",
            " 11  favourites_count      2555 non-null   int64  \n",
            " 12  retweet_count         2555 non-null   int64  \n",
            " 13  country_code          2555 non-null   object \n",
            " 14  place_full_name       2555 non-null   object \n",
            " 15  place_type            2555 non-null   object \n",
            " 16  followers_count       2555 non-null   int64  \n",
            " 17  friends_count         2555 non-null   int64  \n",
            " 18  account_lang          0 non-null      float64\n",
            " 19  account_created_at    2555 non-null   object \n",
            " 20  verified              2555 non-null   bool   \n",
            " 21  lang                  2555 non-null   object \n",
            "dtypes: bool(3), float64(3), int64(6), object(10)\n",
            "memory usage: 406.7+ KB\n"
          ],
          "name": "stdout"
        }
      ]
    },
    {
      "cell_type": "code",
      "metadata": {
        "id": "nsRLW8m10M5g",
        "colab_type": "code",
        "colab": {}
      },
      "source": [
        ""
      ],
      "execution_count": 0,
      "outputs": []
    }
  ]
}