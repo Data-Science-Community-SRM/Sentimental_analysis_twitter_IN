{
  "nbformat": 4,
  "nbformat_minor": 0,
  "metadata": {
    "colab": {
      "name": "Untitled3.ipynb",
      "provenance": [],
      "include_colab_link": true
    },
    "kernelspec": {
      "name": "python3",
      "display_name": "Python 3"
    }
  },
  "cells": [
    {
      "cell_type": "markdown",
      "metadata": {
        "id": "view-in-github",
        "colab_type": "text"
      },
      "source": [
        "<a href=\"https://colab.research.google.com/github/ShubhangiSoni1603/Sentimental_analysis_twitter_IN/blob/PreProces/Untitled3.ipynb\" target=\"_parent\"><img src=\"https://colab.research.google.com/assets/colab-badge.svg\" alt=\"Open In Colab\"/></a>"
      ]
    },
    {
      "cell_type": "code",
      "metadata": {
        "id": "0E7oDe1oK3Wc",
        "colab_type": "code",
        "outputId": "39e5660b-5249-4973-f4db-281fb4a06e69",
        "colab": {
          "base_uri": "https://localhost:8080/",
          "height": 34
        }
      },
      "source": [
        "import numpy as np\n",
        "import pandas as pd\n",
        "import matplotlib.pyplot as plt\n",
        "import seaborn as sns\n",
        "import zipfile\n",
        "import os\n",
        "import json\n",
        "\n",
        "api_token = {\"username\":\"shubhangisoni\",\"key\":\"b9186a5ffa7ebe38a7c4bd8c48c12e4d\"}\n",
        " \n",
        "!mkdir /root/.kaggle\n",
        "\n",
        "with open('/root/.kaggle/kaggle.json', 'w') as file:\n",
        "    json.dump(api_token, file)\n",
        "    \n"
      ],
      "execution_count": 26,
      "outputs": [
        {
          "output_type": "stream",
          "text": [
            "mkdir: cannot create directory ‘/root/.kaggle’: File exists\n"
          ],
          "name": "stdout"
        }
      ]
    },
    {
      "cell_type": "code",
      "metadata": {
        "id": "P13rxcqVPSBF",
        "colab_type": "code",
        "outputId": "5d58fae5-19f0-4bbc-ea17-f392ba5aa460",
        "colab": {
          "base_uri": "https://localhost:8080/",
          "height": 70
        }
      },
      "source": [
        "!chmod 600 /root/.kaggle/kaggle.json\n",
        "!kaggle datasets download -d smid80/coronavirus-covid19-tweets-early-april"
      ],
      "execution_count": 0,
      "outputs": [
        {
          "output_type": "stream",
          "text": [
            "Downloading coronavirus-covid19-tweets-early-april.zip to /content\n",
            " 99% 1.29G/1.30G [00:10<00:00, 146MB/s]\n",
            "100% 1.30G/1.30G [00:11<00:00, 125MB/s]\n"
          ],
          "name": "stdout"
        }
      ]
    },
    {
      "cell_type": "code",
      "metadata": {
        "id": "_0xQaZesdXoo",
        "colab_type": "code",
        "colab": {}
      },
      "source": [
        "zip_ref = zipfile.ZipFile('coronavirus-covid19-tweets-early-april.zip', 'r')\n",
        "zip_ref.extractall()\n",
        "zip_ref.close()"
      ],
      "execution_count": 0,
      "outputs": []
    },
    {
      "cell_type": "markdown",
      "metadata": {
        "id": "xZL4TAEG4d7H",
        "colab_type": "text"
      },
      "source": [
        "###status_id\n",
        ">The ID of the actual Tweet.\n",
        "\n",
        "\n",
        "###user_id\n",
        ">The ID of the user account that Tweeted.\n",
        "\n",
        "\n",
        "###created_at\n",
        ">The date and time of the Tweet.\n",
        "\n",
        "\n",
        "###screen_name\n",
        ">The screen name of the account that Tweeted.\n",
        "\n",
        "###text\n",
        ">The text of the Tweet.\n",
        "\n",
        "###source\n",
        "```\n",
        "The type of app used.\n",
        "* Twitter for Android\n",
        "33%\n",
        "* Twitter for Android\n",
        "Twitter for iPhone\n",
        "26%\n",
        "* Other (231128)\n",
        "41%\n",
        "```\n",
        "\n",
        "###reply_to_status_id\n",
        ">The ID of the Tweet to which this was a reply.\n",
        "\n",
        "\n",
        "###reply_to_user_id\n",
        ">The ID of the user to whom this Tweet was a reply.\n",
        "\n",
        "\n",
        "###reply_to_screen_name\n",
        ">The screen name of the user to whom this Tweet was a reply.\n",
        "\n",
        "\n",
        "###is_quote\n",
        ">Whether this Tweet is a quote of another Tweet.\n",
        "\n",
        "\n",
        "###is_retweet\n",
        ">Whether this Tweet is a retweet.\n",
        "\n",
        "\n",
        "###favourites_count\n",
        ">The number of favourites this Tweet has received.\n",
        "\n",
        "###retweet_count\n",
        ">The number of times this Tweet has been retweeted.\n",
        "\n",
        "\n",
        "###country_code\n",
        ">The country code of the account that Tweeted.\n",
        "\n",
        "###place_full_name\n",
        ">The name of the place of the account that Tweeted.\n",
        "\n",
        "###place_type\n",
        ">A description of the type of place corresponding with place_full_name.\n",
        "\n",
        "\n",
        "###followers_count\n",
        ">The number of followers of the account that Tweeted.\n",
        "\n",
        "###friends_count\n",
        ">The number of friends of the account that Tweeted.\n",
        "\n",
        "###account_lang\n",
        ">The language of the account that Tweeted.\n",
        "\n",
        "###account_created_at\n",
        ">The date and time that the account that Tweeted was created.\n",
        "\n",
        "###verified\n",
        ">Whether the account that Tweeted is verified.\n",
        "\n",
        "###lang\n",
        ">The language of the Tweet."
      ]
    },
    {
      "cell_type": "code",
      "metadata": {
        "id": "ZmMUVIhU2Bu7",
        "colab_type": "code",
        "outputId": "3865d86f-0294-4626-a533-4f8964d75d86",
        "colab": {
          "base_uri": "https://localhost:8080/",
          "height": 336
        }
      },
      "source": [
        "files = os.listdir()\n",
        "files = [i for i in files if \".CSV\" in i]\n",
        "files.sort()\n",
        "files"
      ],
      "execution_count": 27,
      "outputs": [
        {
          "output_type": "execute_result",
          "data": {
            "text/plain": [
              "['2020-03-29 Coronavirus Tweets.CSV',\n",
              " '2020-03-30 Coronavirus Tweets.CSV',\n",
              " '2020-03-31 Coronavirus Tweets.CSV',\n",
              " '2020-04-01 Coronavirus Tweets.CSV',\n",
              " '2020-04-02 Coronavirus Tweets.CSV',\n",
              " '2020-04-03 Coronavirus Tweets.CSV',\n",
              " '2020-04-04 Coronavirus Tweets.CSV',\n",
              " '2020-04-05 Coronavirus Tweets.CSV',\n",
              " '2020-04-06 Coronavirus Tweets.CSV',\n",
              " '2020-04-07 Coronavirus Tweets.CSV',\n",
              " '2020-04-08 Coronavirus Tweets.CSV',\n",
              " '2020-04-09 Coronavirus Tweets.CSV',\n",
              " '2020-04-10 Coronavirus Tweets.CSV',\n",
              " '2020-04-11 Coronavirus Tweets.CSV',\n",
              " '2020-04-12 Coronavirus Tweets.CSV',\n",
              " '2020-04-13 Coronavirus Tweets.CSV',\n",
              " '2020-04-14 Coronavirus Tweets.CSV',\n",
              " '2020-04-15 Coronavirus Tweets.CSV']"
            ]
          },
          "metadata": {
            "tags": []
          },
          "execution_count": 27
        }
      ]
    },
    {
      "cell_type": "code",
      "metadata": {
        "id": "wSEM0KJZD29q",
        "colab_type": "code",
        "colab": {}
      },
      "source": [
        "def readfiles(files):\n",
        "    dat = pd.read_csv(files[0])\n",
        "    dat = dat[dat['country_code'] == 'IN']\n",
        "    dat[\"day\"] = 1\n",
        "    for i in range(1, len(files)):\n",
        "        temp = pd.read_csv(files[i])\n",
        "        temp = temp[temp['country_code'] == 'IN']\n",
        "        temp[\"day\"] = i + 1\n",
        "        dat = pd.concat([dat,temp])\n",
        "        del(temp)\n",
        "    dat = dat.reset_index(drop=True)\n",
        "    return dat\n",
        "\n",
        "dat = readfiles(files)"
      ],
      "execution_count": 0,
      "outputs": []
    },
    {
      "cell_type": "code",
      "metadata": {
        "id": "RGmAJrHnfg7j",
        "colab_type": "code",
        "outputId": "7132b4a9-b5fe-4c5d-a420-9b630f5968fe",
        "colab": {
          "base_uri": "https://localhost:8080/",
          "height": 230
        }
      },
      "source": [
        "dat[\"Month\"] = dat[\"created_at\"].apply(lambda x: int(x.split(\"T\")[0].split(\"-\")[1]))\n",
        "dat[\"time_of_tweet\"] = dat[\"day\"] + dat.created_at.apply(lambda x:((int(x.split(\"T\")[1].split(\":\")[0])+\n",
        "                                                                    int(x.split(\"T\")[1].split(\":\")[1])/60 +\n",
        "                                                                    int(x.split(\"T\")[1].split(\":\")[2][:2])/3600))/24)\n",
        "dat[\"time_of_tweet\"]"
      ],
      "execution_count": 29,
      "outputs": [
        {
          "output_type": "execute_result",
          "data": {
            "text/plain": [
              "0         1.002847\n",
              "1         1.003414\n",
              "2         1.005093\n",
              "3         1.006412\n",
              "4         1.007338\n",
              "           ...    \n",
              "40461    18.974907\n",
              "40462    18.976748\n",
              "40463    18.982512\n",
              "40464    18.983889\n",
              "40465    18.991574\n",
              "Name: time_of_tweet, Length: 40466, dtype: float64"
            ]
          },
          "metadata": {
            "tags": []
          },
          "execution_count": 29
        }
      ]
    },
    {
      "cell_type": "code",
      "metadata": {
        "id": "N5NhWgwyZ8mn",
        "colab_type": "code",
        "colab": {}
      },
      "source": [
        "def prep():\n",
        "    pass\n",
        "\n"
      ],
      "execution_count": 0,
      "outputs": []
    },
    {
      "cell_type": "code",
      "metadata": {
        "id": "HSSppBJeEIGc",
        "colab_type": "code",
        "outputId": "6b793101-d398-4bae-8380-16746b45a08b",
        "colab": {
          "base_uri": "https://localhost:8080/",
          "height": 352
        }
      },
      "source": [
        "#dat[\"place_full_name\"].apply(lambda x: x.split(\",\")[0])\n",
        "fig = plt.figure(figsize=(15,5))\n",
        "\n",
        "sns.distplot(dat[\"time_of_tweet\"],bins = 18*3)"
      ],
      "execution_count": 37,
      "outputs": [
        {
          "output_type": "execute_result",
          "data": {
            "text/plain": [
              "<matplotlib.axes._subplots.AxesSubplot at 0x7f4d49f3f080>"
            ]
          },
          "metadata": {
            "tags": []
          },
          "execution_count": 37
        },
        {
          "output_type": "display_data",
          "data": {
            "image/png": "[encoded data removed]",
            "text/plain": [
              "<Figure size 1080x360 with 1 Axes>"
            ]
          },
          "metadata": {
            "tags": [],
            "needs_background": "light"
          }
        }
      ]
    },
    {
      "cell_type": "code",
      "metadata": {
        "id": "_TpuK-BdrUnI",
        "colab_type": "code",
        "colab": {
          "base_uri": "https://localhost:8080/",
          "height": 334
        },
        "outputId": "260f8b20-7f29-4b66-9d35-df0b0156a586"
      },
      "source": [
        "fig = plt.figure(figsize=(15,5))\n",
        "day8tweets = dat[dat[\"day\"] == 8][\"time_of_tweet\"]\n",
        "xticks =np.arange(min(day8tweets),max(day8tweets),0.1) \n",
        "x = ((xticks - 8)*24).astype(\"int8\")\n",
        "plt.xticks(xticks,x)\n",
        "sns.distplot(day8tweets,bins = 24)\n",
        "plt.show()\n"
      ],
      "execution_count": 130,
      "outputs": [
        {
          "output_type": "display_data",
          "data": {
            "image/png": "[encoded data removed]",
            "text/plain": [
              "<Figure size 1080x360 with 1 Axes>"
            ]
          },
          "metadata": {
            "tags": [],
            "needs_background": "light"
          }
        }
      ]
    },
    {
      "cell_type": "code",
      "metadata": {
        "id": "ghqKqOVOiGmc",
        "colab_type": "code",
        "colab": {
          "base_uri": "https://localhost:8080/",
          "height": 823
        },
        "outputId": "c88e5e6a-a8c1-49b2-bc93-e291cc55fb1d"
      },
      "source": [
        "people = dat.groupby([\"screen_name\",\"user_id\",\"followers_count\",\"friends_count\"])\n",
        "people.first()"
      ],
      "execution_count": 170,
      "outputs": [
        {
          "output_type": "execute_result",
          "data": {
            "text/html": [
              "<div>\n",
              "<style scoped>\n",
              "    .dataframe tbody tr th:only-of-type {\n",
              "        vertical-align: middle;\n",
              "    }\n",
              "\n",
              "    .dataframe tbody tr th {\n",
              "        vertical-align: top;\n",
              "    }\n",
              "\n",
              "    .dataframe thead th {\n",
              "        text-align: right;\n",
              "    }\n",
              "</style>\n",
              "<table border=\"1\" class=\"dataframe\">\n",
              "  <thead>\n",
              "    <tr style=\"text-align: right;\">\n",
              "      <th></th>\n",
              "      <th></th>\n",
              "      <th></th>\n",
              "      <th></th>\n",
              "      <th>status_id</th>\n",
              "      <th>created_at</th>\n",
              "      <th>text</th>\n",
              "      <th>source</th>\n",
              "      <th>reply_to_status_id</th>\n",
              "      <th>reply_to_user_id</th>\n",
              "      <th>reply_to_screen_name</th>\n",
              "      <th>is_quote</th>\n",
              "      <th>is_retweet</th>\n",
              "      <th>favourites_count</th>\n",
              "      <th>retweet_count</th>\n",
              "      <th>country_code</th>\n",
              "      <th>place_full_name</th>\n",
              "      <th>place_type</th>\n",
              "      <th>account_lang</th>\n",
              "      <th>account_created_at</th>\n",
              "      <th>verified</th>\n",
              "      <th>lang</th>\n",
              "      <th>day</th>\n",
              "      <th>Month</th>\n",
              "      <th>time_of_tweet</th>\n",
              "    </tr>\n",
              "    <tr>\n",
              "      <th>screen_name</th>\n",
              "      <th>user_id</th>\n",
              "      <th>followers_count</th>\n",
              "      <th>friends_count</th>\n",
              "      <th></th>\n",
              "      <th></th>\n",
              "      <th></th>\n",
              "      <th></th>\n",
              "      <th></th>\n",
              "      <th></th>\n",
              "      <th></th>\n",
              "      <th></th>\n",
              "      <th></th>\n",
              "      <th></th>\n",
              "      <th></th>\n",
              "      <th></th>\n",
              "      <th></th>\n",
              "      <th></th>\n",
              "      <th></th>\n",
              "      <th></th>\n",
              "      <th></th>\n",
              "      <th></th>\n",
              "      <th></th>\n",
              "      <th></th>\n",
              "      <th></th>\n",
              "    </tr>\n",
              "  </thead>\n",
              "  <tbody>\n",
              "    <tr>\n",
              "      <th>0007Tauheed</th>\n",
              "      <th>1217987436694736898</th>\n",
              "      <th>4</th>\n",
              "      <th>17</th>\n",
              "      <td>1246832317361836032</td>\n",
              "      <td>2020-04-05T16:09:24Z</td>\n",
              "      <td>या अल्लाह!\\nजिस मौत में गुस्ल नहीं, जनाज़ह नही...</td>\n",
              "      <td>Twitter for Android</td>\n",
              "      <td>NaN</td>\n",
              "      <td>NaN</td>\n",
              "      <td>NaN</td>\n",
              "      <td>False</td>\n",
              "      <td>False</td>\n",
              "      <td>343</td>\n",
              "      <td>0</td>\n",
              "      <td>IN</td>\n",
              "      <td>Uttar Pradesh, India</td>\n",
              "      <td>admin</td>\n",
              "      <td>NaN</td>\n",
              "      <td>2020-01-17T01:50:44Z</td>\n",
              "      <td>False</td>\n",
              "      <td>hi</td>\n",
              "      <td>8</td>\n",
              "      <td>4</td>\n",
              "      <td>8.673194</td>\n",
              "    </tr>\n",
              "    <tr>\n",
              "      <th rowspan=\"3\" valign=\"top\">007Motivate</th>\n",
              "      <th rowspan=\"3\" valign=\"top\">1228948662752927744</th>\n",
              "      <th rowspan=\"2\" valign=\"top\">2</th>\n",
              "      <th>20</th>\n",
              "      <td>1244626220286799872</td>\n",
              "      <td>2020-03-30T14:03:09Z</td>\n",
              "      <td>पक्षियों को दाना डालते हुए #Coronavirustruth #...</td>\n",
              "      <td>Twitter for Android</td>\n",
              "      <td>NaN</td>\n",
              "      <td>NaN</td>\n",
              "      <td>NaN</td>\n",
              "      <td>False</td>\n",
              "      <td>False</td>\n",
              "      <td>33</td>\n",
              "      <td>0</td>\n",
              "      <td>IN</td>\n",
              "      <td>New Delhi, India</td>\n",
              "      <td>city</td>\n",
              "      <td>NaN</td>\n",
              "      <td>2020-02-16T07:46:22Z</td>\n",
              "      <td>False</td>\n",
              "      <td>hi</td>\n",
              "      <td>2</td>\n",
              "      <td>3</td>\n",
              "      <td>2.585521</td>\n",
              "    </tr>\n",
              "    <tr>\n",
              "      <th>21</th>\n",
              "      <td>1247525721334923265</td>\n",
              "      <td>2020-04-07T14:04:44Z</td>\n",
              "      <td>Pakistan Provokes Indian Muslim violated to Lo...</td>\n",
              "      <td>Twitter for Android</td>\n",
              "      <td>NaN</td>\n",
              "      <td>NaN</td>\n",
              "      <td>NaN</td>\n",
              "      <td>False</td>\n",
              "      <td>False</td>\n",
              "      <td>35</td>\n",
              "      <td>0</td>\n",
              "      <td>IN</td>\n",
              "      <td>New Delhi, India</td>\n",
              "      <td>city</td>\n",
              "      <td>NaN</td>\n",
              "      <td>2020-02-16T07:46:22Z</td>\n",
              "      <td>False</td>\n",
              "      <td>en</td>\n",
              "      <td>10</td>\n",
              "      <td>4</td>\n",
              "      <td>10.586620</td>\n",
              "    </tr>\n",
              "    <tr>\n",
              "      <th>4</th>\n",
              "      <th>24</th>\n",
              "      <td>1247889791552651276</td>\n",
              "      <td>2020-04-08T14:11:25Z</td>\n",
              "      <td>यह कब सुधरेंगे इस तरह की हरकतें कब छोड़ेंगे बह...</td>\n",
              "      <td>Twitter for Android</td>\n",
              "      <td>NaN</td>\n",
              "      <td>NaN</td>\n",
              "      <td>NaN</td>\n",
              "      <td>False</td>\n",
              "      <td>False</td>\n",
              "      <td>35</td>\n",
              "      <td>0</td>\n",
              "      <td>IN</td>\n",
              "      <td>New Delhi, India</td>\n",
              "      <td>city</td>\n",
              "      <td>NaN</td>\n",
              "      <td>2020-02-16T07:46:22Z</td>\n",
              "      <td>False</td>\n",
              "      <td>hi</td>\n",
              "      <td>11</td>\n",
              "      <td>4</td>\n",
              "      <td>11.591262</td>\n",
              "    </tr>\n",
              "    <tr>\n",
              "      <th>008hbk</th>\n",
              "      <th>445397926</th>\n",
              "      <th>2</th>\n",
              "      <th>252</th>\n",
              "      <td>1246841516795944961</td>\n",
              "      <td>2020-04-05T16:45:57Z</td>\n",
              "      <td>मी आधीच खूप दिवे लावलेत 😉 #9बजे9मिनट #9Minutes...</td>\n",
              "      <td>Twitter for Android</td>\n",
              "      <td>NaN</td>\n",
              "      <td>NaN</td>\n",
              "      <td>NaN</td>\n",
              "      <td>False</td>\n",
              "      <td>False</td>\n",
              "      <td>3103</td>\n",
              "      <td>0</td>\n",
              "      <td>IN</td>\n",
              "      <td>Mumbai, India</td>\n",
              "      <td>city</td>\n",
              "      <td>NaN</td>\n",
              "      <td>2011-12-24T10:42:17Z</td>\n",
              "      <td>False</td>\n",
              "      <td>mr</td>\n",
              "      <td>8</td>\n",
              "      <td>4</td>\n",
              "      <td>8.698576</td>\n",
              "    </tr>\n",
              "    <tr>\n",
              "      <th>...</th>\n",
              "      <th>...</th>\n",
              "      <th>...</th>\n",
              "      <th>...</th>\n",
              "      <td>...</td>\n",
              "      <td>...</td>\n",
              "      <td>...</td>\n",
              "      <td>...</td>\n",
              "      <td>...</td>\n",
              "      <td>...</td>\n",
              "      <td>...</td>\n",
              "      <td>...</td>\n",
              "      <td>...</td>\n",
              "      <td>...</td>\n",
              "      <td>...</td>\n",
              "      <td>...</td>\n",
              "      <td>...</td>\n",
              "      <td>...</td>\n",
              "      <td>...</td>\n",
              "      <td>...</td>\n",
              "      <td>...</td>\n",
              "      <td>...</td>\n",
              "      <td>...</td>\n",
              "      <td>...</td>\n",
              "      <td>...</td>\n",
              "    </tr>\n",
              "    <tr>\n",
              "      <th>zoraski_gujju</th>\n",
              "      <th>111594793</th>\n",
              "      <th>37</th>\n",
              "      <th>197</th>\n",
              "      <td>1248298961934286849</td>\n",
              "      <td>2020-04-09T17:17:19Z</td>\n",
              "      <td>#coronavirus #pun #joke #pinchofsalt https://t...</td>\n",
              "      <td>Twitter for iPhone</td>\n",
              "      <td>NaN</td>\n",
              "      <td>NaN</td>\n",
              "      <td>NaN</td>\n",
              "      <td>True</td>\n",
              "      <td>False</td>\n",
              "      <td>2405</td>\n",
              "      <td>1</td>\n",
              "      <td>IN</td>\n",
              "      <td>Mumbai, India</td>\n",
              "      <td>city</td>\n",
              "      <td>NaN</td>\n",
              "      <td>2010-02-05T13:40:48Z</td>\n",
              "      <td>False</td>\n",
              "      <td>und</td>\n",
              "      <td>12</td>\n",
              "      <td>4</td>\n",
              "      <td>12.720359</td>\n",
              "    </tr>\n",
              "    <tr>\n",
              "      <th>zsanjmusic</th>\n",
              "      <th>183340128</th>\n",
              "      <th>189</th>\n",
              "      <th>1</th>\n",
              "      <td>1247847552742912000</td>\n",
              "      <td>2020-04-08T11:23:35Z</td>\n",
              "      <td>Remember happiness can be found even in the da...</td>\n",
              "      <td>Twitter for iPhone</td>\n",
              "      <td>NaN</td>\n",
              "      <td>NaN</td>\n",
              "      <td>NaN</td>\n",
              "      <td>False</td>\n",
              "      <td>False</td>\n",
              "      <td>41</td>\n",
              "      <td>0</td>\n",
              "      <td>IN</td>\n",
              "      <td>Mohali, India</td>\n",
              "      <td>city</td>\n",
              "      <td>NaN</td>\n",
              "      <td>2010-08-26T19:26:09Z</td>\n",
              "      <td>False</td>\n",
              "      <td>en</td>\n",
              "      <td>11</td>\n",
              "      <td>4</td>\n",
              "      <td>11.474711</td>\n",
              "    </tr>\n",
              "    <tr>\n",
              "      <th>zson_bakka</th>\n",
              "      <th>427299005</th>\n",
              "      <th>308</th>\n",
              "      <th>296</th>\n",
              "      <td>1249175059308167168</td>\n",
              "      <td>2020-04-12T03:18:37Z</td>\n",
              "      <td>@narendramodi had plan to organize  #NamasteTr...</td>\n",
              "      <td>Twitter for Android</td>\n",
              "      <td>NaN</td>\n",
              "      <td>1.883978e+07</td>\n",
              "      <td>narendramodi</td>\n",
              "      <td>False</td>\n",
              "      <td>False</td>\n",
              "      <td>1255</td>\n",
              "      <td>0</td>\n",
              "      <td>IN</td>\n",
              "      <td>Hyderabad, India</td>\n",
              "      <td>city</td>\n",
              "      <td>NaN</td>\n",
              "      <td>2011-12-03T10:49:32Z</td>\n",
              "      <td>False</td>\n",
              "      <td>en</td>\n",
              "      <td>15</td>\n",
              "      <td>4</td>\n",
              "      <td>15.137928</td>\n",
              "    </tr>\n",
              "    <tr>\n",
              "      <th>zulfikar_punja</th>\n",
              "      <th>875294907606454272</th>\n",
              "      <th>12</th>\n",
              "      <th>145</th>\n",
              "      <td>1250425994223079425</td>\n",
              "      <td>2020-04-15T14:09:23Z</td>\n",
              "      <td>@CGTNOfficial #StayHomeStaySafe</td>\n",
              "      <td>Twitter for Android</td>\n",
              "      <td>1.250424e+18</td>\n",
              "      <td>1.115875e+09</td>\n",
              "      <td>CGTNOfficial</td>\n",
              "      <td>False</td>\n",
              "      <td>False</td>\n",
              "      <td>507</td>\n",
              "      <td>0</td>\n",
              "      <td>IN</td>\n",
              "      <td>Santrampur, India</td>\n",
              "      <td>city</td>\n",
              "      <td>NaN</td>\n",
              "      <td>2017-06-15T10:12:22Z</td>\n",
              "      <td>False</td>\n",
              "      <td>und</td>\n",
              "      <td>18</td>\n",
              "      <td>4</td>\n",
              "      <td>18.589850</td>\n",
              "    </tr>\n",
              "    <tr>\n",
              "      <th>zurield</th>\n",
              "      <th>254362587</th>\n",
              "      <th>77</th>\n",
              "      <th>53</th>\n",
              "      <td>1245253257578020867</td>\n",
              "      <td>2020-04-01T07:34:46Z</td>\n",
              "      <td>Quarantine Day 10 lunch.. Almost there• • • • ...</td>\n",
              "      <td>Instagram</td>\n",
              "      <td>NaN</td>\n",
              "      <td>NaN</td>\n",
              "      <td>NaN</td>\n",
              "      <td>False</td>\n",
              "      <td>False</td>\n",
              "      <td>10</td>\n",
              "      <td>0</td>\n",
              "      <td>IN</td>\n",
              "      <td>Mumbai, India</td>\n",
              "      <td>city</td>\n",
              "      <td>NaN</td>\n",
              "      <td>2011-02-19T03:58:49Z</td>\n",
              "      <td>False</td>\n",
              "      <td>en</td>\n",
              "      <td>4</td>\n",
              "      <td>4</td>\n",
              "      <td>4.315810</td>\n",
              "    </tr>\n",
              "  </tbody>\n",
              "</table>\n",
              "<p>30470 rows × 21 columns</p>\n",
              "</div>"
            ],
            "text/plain": [
              "                                                                            status_id  ... time_of_tweet\n",
              "screen_name    user_id             followers_count friends_count                       ...              \n",
              "0007Tauheed    1217987436694736898 4               17             1246832317361836032  ...      8.673194\n",
              "007Motivate    1228948662752927744 2               20             1244626220286799872  ...      2.585521\n",
              "                                                   21             1247525721334923265  ...     10.586620\n",
              "                                   4               24             1247889791552651276  ...     11.591262\n",
              "008hbk         445397926           2               252            1246841516795944961  ...      8.698576\n",
              "...                                                                               ...  ...           ...\n",
              "zoraski_gujju  111594793           37              197            1248298961934286849  ...     12.720359\n",
              "zsanjmusic     183340128           189             1              1247847552742912000  ...     11.474711\n",
              "zson_bakka     427299005           308             296            1249175059308167168  ...     15.137928\n",
              "zulfikar_punja 875294907606454272  12              145            1250425994223079425  ...     18.589850\n",
              "zurield        254362587           77              53             1245253257578020867  ...      4.315810\n",
              "\n",
              "[30470 rows x 21 columns]"
            ]
          },
          "metadata": {
            "tags": []
          },
          "execution_count": 170
        }
      ]
    },
    {
      "cell_type": "code",
      "metadata": {
        "id": "K5XT-EIQEWwg",
        "colab_type": "code",
        "outputId": "764eaa4f-3d3a-4eee-b161-6279427871cc",
        "colab": {
          "base_uri": "https://localhost:8080/",
          "height": 167
        }
      },
      "source": [
        "()d1.country_code.value_counts()"
      ],
      "execution_count": 0,
      "outputs": [
        {
          "output_type": "error",
          "ename": "NameError",
          "evalue": "ignored",
          "traceback": [
            "\u001b[0;31m---------------------------------------------------------------------------\u001b[0m",
            "\u001b[0;31mNameError\u001b[0m                                 Traceback (most recent call last)",
            "\u001b[0;32m<ipython-input-64-c2ed969b6370>\u001b[0m in \u001b[0;36m<module>\u001b[0;34m()\u001b[0m\n\u001b[0;32m----> 1\u001b[0;31m \u001b[0md1\u001b[0m\u001b[0;34m.\u001b[0m\u001b[0mcountry_code\u001b[0m\u001b[0;34m.\u001b[0m\u001b[0mvalue_counts\u001b[0m\u001b[0;34m(\u001b[0m\u001b[0;34m)\u001b[0m\u001b[0;34m\u001b[0m\u001b[0;34m\u001b[0m\u001b[0m\n\u001b[0m",
            "\u001b[0;31mNameError\u001b[0m: name 'd1' is not defined"
          ]
        }
      ]
    },
    {
      "cell_type": "code",
      "metadata": {
        "id": "M1CENj9dH_bP",
        "colab_type": "code",
        "colab": {}
      },
      "source": [
        "d2=pd.read_csv(files[15])\n",
        "d2.country_code.value_counts()"
      ],
      "execution_count": 0,
      "outputs": []
    },
    {
      "cell_type": "code",
      "metadata": {
        "id": "Rvms2dvhJ2Ao",
        "colab_type": "code",
        "outputId": "5a3d2c9b-5aa6-415a-b0e0-638acabdd2ea",
        "colab": {
          "base_uri": "https://localhost:8080/",
          "height": 52
        }
      },
      "source": [
        "countries=d1.country_code.unique()\n",
        "d1=d1[d1['country_code'] == 'IN']\n",
        "d1.country_code.value_counts()\n"
      ],
      "execution_count": 0,
      "outputs": [
        {
          "output_type": "execute_result",
          "data": {
            "text/plain": [
              "IN    2555\n",
              "Name: country_code, dtype: int64"
            ]
          },
          "metadata": {
            "tags": []
          },
          "execution_count": 16
        }
      ]
    },
    {
      "cell_type": "code",
      "metadata": {
        "id": "t5Bd0-HVjcNM",
        "colab_type": "code",
        "outputId": "fc066398-c875-40fe-d51f-b16a555e91c6",
        "colab": {
          "base_uri": "https://localhost:8080/",
          "height": 260
        }
      },
      "source": [
        "d1.head"
      ],
      "execution_count": 0,
      "outputs": [
        {
          "output_type": "execute_result",
          "data": {
            "text/plain": [
              "<bound method NDFrame.head of                   status_id              user_id  ... lang timeOfTweet\n",
              "2432    1244777731256201217           3281596603  ...   hi    0.086667\n",
              "5317    1244779747575353344            131807868  ...   en    0.220278\n",
              "5700    1244780043647082497  1039734733205393411  ...   en    0.239722\n",
              "7003    1244780999570948097  1214126069319491587  ...   en    0.303056\n",
              "7636    1244781449737355264           2996014381  ...   en    0.333056\n",
              "...                     ...                  ...  ...  ...         ...\n",
              "652233  1245126763258302465   807951707464343553  ...   bn   23.202222\n",
              "653204  1245127425014534146   889718907946381312  ...   hi   23.246111\n",
              "661143  1245132513019748353   941635228832952320  ...   en   23.583056\n",
              "667192  1245136694258491392            566101087  ...   en   23.860000\n",
              "667916  1245137290743054336   790869804244541441  ...   en   23.899444\n",
              "\n",
              "[2555 rows x 23 columns]>"
            ]
          },
          "metadata": {
            "tags": []
          },
          "execution_count": 17
        }
      ]
    },
    {
      "cell_type": "code",
      "metadata": {
        "id": "senlWOj-loCp",
        "colab_type": "code",
        "colab": {}
      },
      "source": [
        "#Data Preprocessing and Feature Engineering\n",
        "from textblob import TextBlob\n",
        "import re\n",
        "from nltk.corpus import stopwords\n",
        "from nltk.stem.wordnet import WordNetLemmatizer\n",
        "from sklearn.feature_extraction.text import CountVectorizer, TfidfTransformer\n"
      ],
      "execution_count": 0,
      "outputs": []
    },
    {
      "cell_type": "code",
      "metadata": {
        "id": "WLAQRP4wzaSb",
        "colab_type": "code",
        "colab": {}
      },
      "source": [
        "rdf = d1[d1['country_code']=='IN'] "
      ],
      "execution_count": 0,
      "outputs": []
    },
    {
      "cell_type": "code",
      "metadata": {
        "id": "z47Z1UgXwyDd",
        "colab_type": "code",
        "outputId": "068e93e1-37f5-48e7-8825-8803026ac1c6",
        "colab": {
          "base_uri": "https://localhost:8080/",
          "height": 35
        }
      },
      "source": [
        "rdf.shape"
      ],
      "execution_count": 0,
      "outputs": [
        {
          "output_type": "execute_result",
          "data": {
            "text/plain": [
              "(2555, 22)"
            ]
          },
          "metadata": {
            "tags": []
          },
          "execution_count": 42
        }
      ]
    },
    {
      "cell_type": "code",
      "metadata": {
        "id": "B3rLl_A2yCU_",
        "colab_type": "code",
        "outputId": "54c23f2a-f479-481a-96dc-1e501045b474",
        "colab": {
          "base_uri": "https://localhost:8080/",
          "height": 520
        }
      },
      "source": [
        "rdf.info()"
      ],
      "execution_count": 0,
      "outputs": [
        {
          "output_type": "stream",
          "text": [
            "<class 'pandas.core.frame.DataFrame'>\n",
            "Int64Index: 2555 entries, 2432 to 667916\n",
            "Data columns (total 22 columns):\n",
            " #   Column                Non-Null Count  Dtype  \n",
            "---  ------                --------------  -----  \n",
            " 0   status_id             2555 non-null   int64  \n",
            " 1   user_id               2555 non-null   int64  \n",
            " 2   created_at            2555 non-null   object \n",
            " 3   screen_name           2555 non-null   object \n",
            " 4   text                  2555 non-null   object \n",
            " 5   source                2555 non-null   object \n",
            " 6   reply_to_status_id    311 non-null    float64\n",
            " 7   reply_to_user_id      437 non-null    float64\n",
            " 8   reply_to_screen_name  437 non-null    object \n",
            " 9   is_quote              2555 non-null   bool   \n",
            " 10  is_retweet            2555 non-null   bool   \n",
            " 11  favourites_count      2555 non-null   int64  \n",
            " 12  retweet_count         2555 non-null   int64  \n",
            " 13  country_code          2555 non-null   object \n",
            " 14  place_full_name       2555 non-null   object \n",
            " 15  place_type            2555 non-null   object \n",
            " 16  followers_count       2555 non-null   int64  \n",
            " 17  friends_count         2555 non-null   int64  \n",
            " 18  account_lang          0 non-null      float64\n",
            " 19  account_created_at    2555 non-null   object \n",
            " 20  verified              2555 non-null   bool   \n",
            " 21  lang                  2555 non-null   object \n",
            "dtypes: bool(3), float64(3), int64(6), object(10)\n",
            "memory usage: 406.7+ KB\n"
          ],
          "name": "stdout"
        }
      ]
    },
    {
      "cell_type": "code",
      "metadata": {
        "id": "nsRLW8m10M5g",
        "colab_type": "code",
        "colab": {}
      },
      "source": [
        ""
      ],
      "execution_count": 0,
      "outputs": []
    }
  ]
}